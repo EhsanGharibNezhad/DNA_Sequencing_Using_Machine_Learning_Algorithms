{
 "cells": [
  {
   "cell_type": "markdown",
   "id": "b129f5aa",
   "metadata": {},
   "source": [
    "# Modeling\n",
    "### Author: Ehsan Gharib-Nezhad\n"
   ]
  },
  {
   "cell_type": "code",
   "execution_count": 2,
   "id": "d0ec0ce1",
   "metadata": {},
   "outputs": [],
   "source": [
    "# Load Libraries\n",
    "import pandas as pd\n",
    "import numpy as np\n",
    "import matplotlib.pyplot as plt\n",
    "import seaborn as sns\n",
    "from nltk.probability import FreqDist\n",
    "import re\n",
    "from sklearn.model_selection import train_test_split\n",
    "from sklearn.feature_extraction.text import CountVectorizer\n",
    "import random"
   ]
  },
  {
   "cell_type": "markdown",
   "id": "52564416",
   "metadata": {},
   "source": [
    "# |||||||||||||||||||||||||||||||||||||||||||||||||||||||||||||||||||||||||||||||||||||||||||||||||||||||||||||||||||||||||||||||||||||||||||||||||||||\n",
    "# Dataset 1: Human dataset\n",
    "# |||||||||||||||||||||||||||||||||||||||||||||||||||||||||||||||||||||||||||||||||||||||||||||||||||||||||||||||||||||||||||||||||||||||||||||||||||||"
   ]
  },
  {
   "cell_type": "code",
   "execution_count": 3,
   "id": "0c77dc9b",
   "metadata": {},
   "outputs": [],
   "source": [
    "# Load datasets\n",
    "human = pd.read_csv('../datasets/human_processed_dataset.csv')"
   ]
  },
  {
   "cell_type": "code",
   "execution_count": 4,
   "id": "d7b3617b",
   "metadata": {
    "scrolled": false
   },
   "outputs": [
    {
     "data": {
      "text/html": [
       "<div>\n",
       "<style scoped>\n",
       "    .dataframe tbody tr th:only-of-type {\n",
       "        vertical-align: middle;\n",
       "    }\n",
       "\n",
       "    .dataframe tbody tr th {\n",
       "        vertical-align: top;\n",
       "    }\n",
       "\n",
       "    .dataframe thead th {\n",
       "        text-align: right;\n",
       "    }\n",
       "</style>\n",
       "<table border=\"1\" class=\"dataframe\">\n",
       "  <thead>\n",
       "    <tr style=\"text-align: right;\">\n",
       "      <th></th>\n",
       "      <th>kmers</th>\n",
       "      <th>class</th>\n",
       "    </tr>\n",
       "  </thead>\n",
       "  <tbody>\n",
       "    <tr>\n",
       "      <th>0</th>\n",
       "      <td>at</td>\n",
       "      <td>0</td>\n",
       "    </tr>\n",
       "    <tr>\n",
       "      <th>1</th>\n",
       "      <td>tg</td>\n",
       "      <td>0</td>\n",
       "    </tr>\n",
       "    <tr>\n",
       "      <th>2</th>\n",
       "      <td>ga</td>\n",
       "      <td>0</td>\n",
       "    </tr>\n",
       "    <tr>\n",
       "      <th>3</th>\n",
       "      <td>ag</td>\n",
       "      <td>0</td>\n",
       "    </tr>\n",
       "    <tr>\n",
       "      <th>4</th>\n",
       "      <td>gg</td>\n",
       "      <td>0</td>\n",
       "    </tr>\n",
       "  </tbody>\n",
       "</table>\n",
       "</div>"
      ],
      "text/plain": [
       "  kmers  class\n",
       "0    at      0\n",
       "1    tg      0\n",
       "2    ga      0\n",
       "3    ag      0\n",
       "4    gg      0"
      ]
     },
     "execution_count": 4,
     "metadata": {},
     "output_type": "execute_result"
    }
   ],
   "source": [
    "human.head()"
   ]
  },
  {
   "cell_type": "code",
   "execution_count": 5,
   "id": "e127de33",
   "metadata": {},
   "outputs": [
    {
     "name": "stdout",
     "output_type": "stream",
     "text": [
      "<class 'pandas.core.frame.DataFrame'>\n",
      "Int64Index: 44118822 entries, 0 to 44118821\n",
      "Data columns (total 2 columns):\n",
      " #   Column  Dtype \n",
      "---  ------  ----- \n",
      " 0   kmers   object\n",
      " 1   class   int64 \n",
      "dtypes: int64(1), object(1)\n",
      "memory usage: 1009.8+ MB\n"
     ]
    }
   ],
   "source": [
    "human.info()"
   ]
  },
  {
   "cell_type": "markdown",
   "id": "83385a89",
   "metadata": {},
   "source": [
    "# Modeling\n",
    "\n",
    "---\n",
    "\n",
    "We may want to test lots of different values of hyperparameters in our CountVectorizer."
   ]
  },
  {
   "cell_type": "code",
   "execution_count": 6,
   "id": "7408ce8c",
   "metadata": {},
   "outputs": [],
   "source": [
    "# Select a percentage of the whole data randomly ___________________________________________\n",
    "total_kmer_numbers = len(human['kmers'])\n",
    "random_numbers = random.sample(range(total_kmer_numbers), int(total_kmer_numbers*.01) )\n",
    "# image_path_list_1D_randomized = image_path_list_1D[[random_numbers[:]]]\n",
    "# target_from_image_path_list_1D_randomized = [path_image.split(os.sep)[-2] \n",
    "#                                              for path_image in image_path_list_1D_randomized ]"
   ]
  },
  {
   "cell_type": "code",
   "execution_count": 7,
   "id": "9a0ccba6",
   "metadata": {},
   "outputs": [],
   "source": [
    "X = human['kmers'].iloc[random_numbers]\n",
    "y = human['class'].iloc[random_numbers]"
   ]
  },
  {
   "cell_type": "code",
   "execution_count": 8,
   "id": "2c3d3e59",
   "metadata": {},
   "outputs": [],
   "source": [
    "# Split the data into the training and testing sets.\n",
    "X_train, X_test, y_train, y_test = train_test_split(X,\n",
    "                                                    y,\n",
    "                                                    test_size=0.33,\n",
    "                                                    stratify=y,\n",
    "                                                    random_state=42)"
   ]
  },
  {
   "cell_type": "markdown",
   "id": "3591157a",
   "metadata": {},
   "source": [
    "## Baseline accuracy\n",
    "\n",
    "We need to calculate baseline accuracy in order to tell if our model is better than null model."
   ]
  },
  {
   "cell_type": "code",
   "execution_count": 9,
   "id": "9cb24e70",
   "metadata": {},
   "outputs": [
    {
     "data": {
      "text/plain": [
       "(class\n",
       " 6        0.274687\n",
       " 0        0.149346\n",
       " 1        0.141271\n",
       " 3        0.123141\n",
       " 2        0.114664\n",
       " 4        0.112570\n",
       " 5        0.084321\n",
       " dtype: float64,\n",
       " class\n",
       " 6        0.274684\n",
       " 0        0.149348\n",
       " 1        0.141277\n",
       " 3        0.123138\n",
       " 2        0.114662\n",
       " 4        0.112567\n",
       " 5        0.084324\n",
       " dtype: float64)"
      ]
     },
     "execution_count": 9,
     "metadata": {},
     "output_type": "execute_result"
    }
   ],
   "source": [
    "pd.DataFrame(y_train).value_counts(normalize=True), pd.DataFrame(y_test).value_counts(normalize=True)"
   ]
  },
  {
   "cell_type": "code",
   "execution_count": 10,
   "id": "3dd32a54",
   "metadata": {},
   "outputs": [],
   "source": [
    "cv = CountVectorizer()\n",
    "Xcv_train = cv.fit_transform(X_train)"
   ]
  },
  {
   "cell_type": "code",
   "execution_count": 11,
   "id": "bac1e50d",
   "metadata": {},
   "outputs": [
    {
     "name": "stdout",
     "output_type": "stream",
     "text": [
      "  (0, 62596)\t1\n",
      "  (1, 59488)\t1\n",
      "  (2, 50196)\t1\n",
      "  (3, 66867)\t1\n",
      "  (4, 58197)\t1\n",
      "  (5, 48394)\t1\n",
      "  (6, 66897)\t1\n",
      "  (7, 46583)\t1\n",
      "  (8, 37063)\t1\n",
      "  (9, 28663)\t1\n",
      "  (10, 37807)\t1\n",
      "  (11, 62896)\t1\n",
      "  (12, 27722)\t1\n",
      "  (13, 47443)\t1\n",
      "  (14, 38551)\t1\n",
      "  (15, 39829)\t1\n",
      "  (16, 6206)\t1\n",
      "  (17, 56932)\t1\n",
      "  (18, 38726)\t1\n",
      "  (19, 56612)\t1\n",
      "  (20, 67713)\t1\n",
      "  (21, 1640)\t1\n",
      "  (22, 27721)\t1\n",
      "  (23, 56529)\t1\n",
      "  (24, 29395)\t1\n",
      "  :\t:\n",
      "  (295570, 24181)\t1\n",
      "  (295571, 12939)\t1\n",
      "  (295572, 20258)\t1\n",
      "  (295573, 59306)\t1\n",
      "  (295574, 36609)\t1\n",
      "  (295575, 11774)\t1\n",
      "  (295576, 15149)\t1\n",
      "  (295577, 61847)\t1\n",
      "  (295578, 69104)\t1\n",
      "  (295579, 32357)\t1\n",
      "  (295580, 24915)\t1\n",
      "  (295581, 19615)\t1\n",
      "  (295582, 46865)\t1\n",
      "  (295583, 70909)\t1\n",
      "  (295584, 25960)\t1\n",
      "  (295585, 24182)\t1\n",
      "  (295586, 28399)\t1\n",
      "  (295587, 28687)\t1\n",
      "  (295588, 37825)\t1\n",
      "  (295589, 48446)\t1\n",
      "  (295590, 49902)\t1\n",
      "  (295591, 10789)\t1\n",
      "  (295592, 45384)\t1\n",
      "  (295593, 26263)\t1\n",
      "  (295594, 63209)\t1\n"
     ]
    }
   ],
   "source": [
    "print(Xcv_train)"
   ]
  },
  {
   "cell_type": "code",
   "execution_count": 12,
   "id": "7f2bd867",
   "metadata": {},
   "outputs": [
    {
     "data": {
      "text/html": [
       "<div>\n",
       "<style scoped>\n",
       "    .dataframe tbody tr th:only-of-type {\n",
       "        vertical-align: middle;\n",
       "    }\n",
       "\n",
       "    .dataframe tbody tr th {\n",
       "        vertical-align: top;\n",
       "    }\n",
       "\n",
       "    .dataframe thead th {\n",
       "        text-align: right;\n",
       "    }\n",
       "</style>\n",
       "<table border=\"1\" class=\"dataframe\">\n",
       "  <thead>\n",
       "    <tr style=\"text-align: right;\">\n",
       "      <th></th>\n",
       "      <th>aa</th>\n",
       "      <th>aaa</th>\n",
       "      <th>aaaa</th>\n",
       "      <th>aaaaa</th>\n",
       "      <th>aaaaaa</th>\n",
       "      <th>aaaaaaa</th>\n",
       "      <th>aaaaaaaa</th>\n",
       "      <th>aaaaaaaag</th>\n",
       "      <th>aaaaaaac</th>\n",
       "      <th>aaaaaaag</th>\n",
       "      <th>...</th>\n",
       "      <th>ttttttcc</th>\n",
       "      <th>ttttttcct</th>\n",
       "      <th>ttttttcg</th>\n",
       "      <th>ttttttctc</th>\n",
       "      <th>ttttttctt</th>\n",
       "      <th>ttttttg</th>\n",
       "      <th>ttttttgc</th>\n",
       "      <th>ttttttgct</th>\n",
       "      <th>ttttttt</th>\n",
       "      <th>tttttttg</th>\n",
       "    </tr>\n",
       "  </thead>\n",
       "  <tbody>\n",
       "    <tr>\n",
       "      <th>0</th>\n",
       "      <td>0</td>\n",
       "      <td>0</td>\n",
       "      <td>0</td>\n",
       "      <td>0</td>\n",
       "      <td>0</td>\n",
       "      <td>0</td>\n",
       "      <td>0</td>\n",
       "      <td>0</td>\n",
       "      <td>0</td>\n",
       "      <td>0</td>\n",
       "      <td>...</td>\n",
       "      <td>0</td>\n",
       "      <td>0</td>\n",
       "      <td>0</td>\n",
       "      <td>0</td>\n",
       "      <td>0</td>\n",
       "      <td>0</td>\n",
       "      <td>0</td>\n",
       "      <td>0</td>\n",
       "      <td>0</td>\n",
       "      <td>0</td>\n",
       "    </tr>\n",
       "    <tr>\n",
       "      <th>1</th>\n",
       "      <td>0</td>\n",
       "      <td>0</td>\n",
       "      <td>0</td>\n",
       "      <td>0</td>\n",
       "      <td>0</td>\n",
       "      <td>0</td>\n",
       "      <td>0</td>\n",
       "      <td>0</td>\n",
       "      <td>0</td>\n",
       "      <td>0</td>\n",
       "      <td>...</td>\n",
       "      <td>0</td>\n",
       "      <td>0</td>\n",
       "      <td>0</td>\n",
       "      <td>0</td>\n",
       "      <td>0</td>\n",
       "      <td>0</td>\n",
       "      <td>0</td>\n",
       "      <td>0</td>\n",
       "      <td>0</td>\n",
       "      <td>0</td>\n",
       "    </tr>\n",
       "    <tr>\n",
       "      <th>2</th>\n",
       "      <td>0</td>\n",
       "      <td>0</td>\n",
       "      <td>0</td>\n",
       "      <td>0</td>\n",
       "      <td>0</td>\n",
       "      <td>0</td>\n",
       "      <td>0</td>\n",
       "      <td>0</td>\n",
       "      <td>0</td>\n",
       "      <td>0</td>\n",
       "      <td>...</td>\n",
       "      <td>0</td>\n",
       "      <td>0</td>\n",
       "      <td>0</td>\n",
       "      <td>0</td>\n",
       "      <td>0</td>\n",
       "      <td>0</td>\n",
       "      <td>0</td>\n",
       "      <td>0</td>\n",
       "      <td>0</td>\n",
       "      <td>0</td>\n",
       "    </tr>\n",
       "    <tr>\n",
       "      <th>3</th>\n",
       "      <td>0</td>\n",
       "      <td>0</td>\n",
       "      <td>0</td>\n",
       "      <td>0</td>\n",
       "      <td>0</td>\n",
       "      <td>0</td>\n",
       "      <td>0</td>\n",
       "      <td>0</td>\n",
       "      <td>0</td>\n",
       "      <td>0</td>\n",
       "      <td>...</td>\n",
       "      <td>0</td>\n",
       "      <td>0</td>\n",
       "      <td>0</td>\n",
       "      <td>0</td>\n",
       "      <td>0</td>\n",
       "      <td>0</td>\n",
       "      <td>0</td>\n",
       "      <td>0</td>\n",
       "      <td>0</td>\n",
       "      <td>0</td>\n",
       "    </tr>\n",
       "    <tr>\n",
       "      <th>4</th>\n",
       "      <td>0</td>\n",
       "      <td>0</td>\n",
       "      <td>0</td>\n",
       "      <td>0</td>\n",
       "      <td>0</td>\n",
       "      <td>0</td>\n",
       "      <td>0</td>\n",
       "      <td>0</td>\n",
       "      <td>0</td>\n",
       "      <td>0</td>\n",
       "      <td>...</td>\n",
       "      <td>0</td>\n",
       "      <td>0</td>\n",
       "      <td>0</td>\n",
       "      <td>0</td>\n",
       "      <td>0</td>\n",
       "      <td>0</td>\n",
       "      <td>0</td>\n",
       "      <td>0</td>\n",
       "      <td>0</td>\n",
       "      <td>0</td>\n",
       "    </tr>\n",
       "  </tbody>\n",
       "</table>\n",
       "<p>5 rows × 73084 columns</p>\n",
       "</div>"
      ],
      "text/plain": [
       "   aa  aaa  aaaa  aaaaa  aaaaaa  aaaaaaa  aaaaaaaa  aaaaaaaag  aaaaaaac  \\\n",
       "0   0    0     0      0       0        0         0          0         0   \n",
       "1   0    0     0      0       0        0         0          0         0   \n",
       "2   0    0     0      0       0        0         0          0         0   \n",
       "3   0    0     0      0       0        0         0          0         0   \n",
       "4   0    0     0      0       0        0         0          0         0   \n",
       "\n",
       "   aaaaaaag  ...  ttttttcc  ttttttcct  ttttttcg  ttttttctc  ttttttctt  \\\n",
       "0         0  ...         0          0         0          0          0   \n",
       "1         0  ...         0          0         0          0          0   \n",
       "2         0  ...         0          0         0          0          0   \n",
       "3         0  ...         0          0         0          0          0   \n",
       "4         0  ...         0          0         0          0          0   \n",
       "\n",
       "   ttttttg  ttttttgc  ttttttgct  ttttttt  tttttttg  \n",
       "0        0         0          0        0         0  \n",
       "1        0         0          0        0         0  \n",
       "2        0         0          0        0         0  \n",
       "3        0         0          0        0         0  \n",
       "4        0         0          0        0         0  \n",
       "\n",
       "[5 rows x 73084 columns]"
      ]
     },
     "execution_count": 12,
     "metadata": {},
     "output_type": "execute_result"
    }
   ],
   "source": [
    "# to convert sparse matrix to dense matrix\n",
    "Xcv_train_df = pd.DataFrame(Xcv_train.todense(),\n",
    "                           columns = cv.get_feature_names() )\n",
    "Xcv_train_df.head()"
   ]
  },
  {
   "cell_type": "code",
   "execution_count": 13,
   "id": "1b9b01b0",
   "metadata": {},
   "outputs": [
    {
     "data": {
      "text/plain": [
       "(295595, 73084)"
      ]
     },
     "execution_count": 13,
     "metadata": {},
     "output_type": "execute_result"
    }
   ],
   "source": [
    "Xcv_train_df.shape"
   ]
  },
  {
   "cell_type": "code",
   "execution_count": 14,
   "id": "7eb6cdb9",
   "metadata": {},
   "outputs": [],
   "source": [
    "# Transform the test corpus.\n",
    "Xcv_test = cv.transform(X_test)"
   ]
  },
  {
   "cell_type": "code",
   "execution_count": 15,
   "id": "59909275",
   "metadata": {},
   "outputs": [
    {
     "data": {
      "text/html": [
       "<div>\n",
       "<style scoped>\n",
       "    .dataframe tbody tr th:only-of-type {\n",
       "        vertical-align: middle;\n",
       "    }\n",
       "\n",
       "    .dataframe tbody tr th {\n",
       "        vertical-align: top;\n",
       "    }\n",
       "\n",
       "    .dataframe thead th {\n",
       "        text-align: right;\n",
       "    }\n",
       "</style>\n",
       "<table border=\"1\" class=\"dataframe\">\n",
       "  <thead>\n",
       "    <tr style=\"text-align: right;\">\n",
       "      <th></th>\n",
       "      <th>aa</th>\n",
       "      <th>aaa</th>\n",
       "      <th>aaaa</th>\n",
       "      <th>aaaaa</th>\n",
       "      <th>aaaaaa</th>\n",
       "      <th>aaaaaaa</th>\n",
       "      <th>aaaaaaaa</th>\n",
       "      <th>aaaaaaaag</th>\n",
       "      <th>aaaaaaac</th>\n",
       "      <th>aaaaaaag</th>\n",
       "      <th>...</th>\n",
       "      <th>ttttttcc</th>\n",
       "      <th>ttttttcct</th>\n",
       "      <th>ttttttcg</th>\n",
       "      <th>ttttttctc</th>\n",
       "      <th>ttttttctt</th>\n",
       "      <th>ttttttg</th>\n",
       "      <th>ttttttgc</th>\n",
       "      <th>ttttttgct</th>\n",
       "      <th>ttttttt</th>\n",
       "      <th>tttttttg</th>\n",
       "    </tr>\n",
       "  </thead>\n",
       "  <tbody>\n",
       "    <tr>\n",
       "      <th>0</th>\n",
       "      <td>0</td>\n",
       "      <td>0</td>\n",
       "      <td>0</td>\n",
       "      <td>0</td>\n",
       "      <td>0</td>\n",
       "      <td>0</td>\n",
       "      <td>0</td>\n",
       "      <td>0</td>\n",
       "      <td>0</td>\n",
       "      <td>0</td>\n",
       "      <td>...</td>\n",
       "      <td>0</td>\n",
       "      <td>0</td>\n",
       "      <td>0</td>\n",
       "      <td>0</td>\n",
       "      <td>0</td>\n",
       "      <td>0</td>\n",
       "      <td>0</td>\n",
       "      <td>0</td>\n",
       "      <td>0</td>\n",
       "      <td>0</td>\n",
       "    </tr>\n",
       "    <tr>\n",
       "      <th>1</th>\n",
       "      <td>0</td>\n",
       "      <td>0</td>\n",
       "      <td>0</td>\n",
       "      <td>0</td>\n",
       "      <td>0</td>\n",
       "      <td>0</td>\n",
       "      <td>0</td>\n",
       "      <td>0</td>\n",
       "      <td>0</td>\n",
       "      <td>0</td>\n",
       "      <td>...</td>\n",
       "      <td>0</td>\n",
       "      <td>0</td>\n",
       "      <td>0</td>\n",
       "      <td>0</td>\n",
       "      <td>0</td>\n",
       "      <td>0</td>\n",
       "      <td>0</td>\n",
       "      <td>0</td>\n",
       "      <td>0</td>\n",
       "      <td>0</td>\n",
       "    </tr>\n",
       "    <tr>\n",
       "      <th>2</th>\n",
       "      <td>0</td>\n",
       "      <td>0</td>\n",
       "      <td>0</td>\n",
       "      <td>0</td>\n",
       "      <td>0</td>\n",
       "      <td>0</td>\n",
       "      <td>0</td>\n",
       "      <td>0</td>\n",
       "      <td>0</td>\n",
       "      <td>0</td>\n",
       "      <td>...</td>\n",
       "      <td>0</td>\n",
       "      <td>0</td>\n",
       "      <td>0</td>\n",
       "      <td>0</td>\n",
       "      <td>0</td>\n",
       "      <td>0</td>\n",
       "      <td>0</td>\n",
       "      <td>0</td>\n",
       "      <td>0</td>\n",
       "      <td>0</td>\n",
       "    </tr>\n",
       "    <tr>\n",
       "      <th>3</th>\n",
       "      <td>0</td>\n",
       "      <td>0</td>\n",
       "      <td>0</td>\n",
       "      <td>0</td>\n",
       "      <td>0</td>\n",
       "      <td>0</td>\n",
       "      <td>0</td>\n",
       "      <td>0</td>\n",
       "      <td>0</td>\n",
       "      <td>0</td>\n",
       "      <td>...</td>\n",
       "      <td>0</td>\n",
       "      <td>0</td>\n",
       "      <td>0</td>\n",
       "      <td>0</td>\n",
       "      <td>0</td>\n",
       "      <td>0</td>\n",
       "      <td>0</td>\n",
       "      <td>0</td>\n",
       "      <td>0</td>\n",
       "      <td>0</td>\n",
       "    </tr>\n",
       "    <tr>\n",
       "      <th>4</th>\n",
       "      <td>0</td>\n",
       "      <td>0</td>\n",
       "      <td>0</td>\n",
       "      <td>0</td>\n",
       "      <td>0</td>\n",
       "      <td>0</td>\n",
       "      <td>0</td>\n",
       "      <td>0</td>\n",
       "      <td>0</td>\n",
       "      <td>0</td>\n",
       "      <td>...</td>\n",
       "      <td>0</td>\n",
       "      <td>0</td>\n",
       "      <td>0</td>\n",
       "      <td>0</td>\n",
       "      <td>0</td>\n",
       "      <td>0</td>\n",
       "      <td>0</td>\n",
       "      <td>0</td>\n",
       "      <td>0</td>\n",
       "      <td>0</td>\n",
       "    </tr>\n",
       "  </tbody>\n",
       "</table>\n",
       "<p>5 rows × 73084 columns</p>\n",
       "</div>"
      ],
      "text/plain": [
       "   aa  aaa  aaaa  aaaaa  aaaaaa  aaaaaaa  aaaaaaaa  aaaaaaaag  aaaaaaac  \\\n",
       "0   0    0     0      0       0        0         0          0         0   \n",
       "1   0    0     0      0       0        0         0          0         0   \n",
       "2   0    0     0      0       0        0         0          0         0   \n",
       "3   0    0     0      0       0        0         0          0         0   \n",
       "4   0    0     0      0       0        0         0          0         0   \n",
       "\n",
       "   aaaaaaag  ...  ttttttcc  ttttttcct  ttttttcg  ttttttctc  ttttttctt  \\\n",
       "0         0  ...         0          0         0          0          0   \n",
       "1         0  ...         0          0         0          0          0   \n",
       "2         0  ...         0          0         0          0          0   \n",
       "3         0  ...         0          0         0          0          0   \n",
       "4         0  ...         0          0         0          0          0   \n",
       "\n",
       "   ttttttg  ttttttgc  ttttttgct  ttttttt  tttttttg  \n",
       "0        0         0          0        0         0  \n",
       "1        0         0          0        0         0  \n",
       "2        0         0          0        0         0  \n",
       "3        0         0          0        0         0  \n",
       "4        0         0          0        0         0  \n",
       "\n",
       "[5 rows x 73084 columns]"
      ]
     },
     "execution_count": 15,
     "metadata": {},
     "output_type": "execute_result"
    }
   ],
   "source": [
    "# to convert sparse matrix to dense matrix\n",
    "Xcv_test_df = pd.DataFrame(Xcv_test.todense(),\n",
    "                           columns = cv.get_feature_names() )\n",
    "Xcv_test_df.head()"
   ]
  },
  {
   "cell_type": "code",
   "execution_count": 16,
   "id": "25b23bee",
   "metadata": {},
   "outputs": [
    {
     "data": {
      "text/plain": [
       "(145593, 73084)"
      ]
     },
     "execution_count": 16,
     "metadata": {},
     "output_type": "execute_result"
    }
   ],
   "source": [
    "Xcv_test_df.shape"
   ]
  },
  {
   "cell_type": "code",
   "execution_count": null,
   "id": "1f7c2ca4",
   "metadata": {},
   "outputs": [],
   "source": [
    "#The fit method of SVC class is called to train the algorithm on the training data, \n",
    "#which is passed as a parameter to the fit method\n",
    "from sklearn.svm import SVC\n",
    "svclassifier = SVC(kernel='linear')\n",
    "svclassifier.fit(Xcv_train, y_train)"
   ]
  },
  {
   "cell_type": "code",
   "execution_count": null,
   "id": "230cdbcd",
   "metadata": {},
   "outputs": [],
   "source": [
    "svclassifier.score(Xcv_train, y_train) , svclassifier.score(Xcv_test, y_test)"
   ]
  },
  {
   "cell_type": "code",
   "execution_count": null,
   "id": "81290a56",
   "metadata": {},
   "outputs": [],
   "source": [
    "from sklearn.metrics import classification_report, confusion_matrix\n",
    "y_pred = svclassifier.predict(Xcv_test)\n",
    "print(confusion_matrix(y_test,y_pred))\n",
    "print(classification_report(y_test,y_pred))"
   ]
  },
  {
   "cell_type": "code",
   "execution_count": 17,
   "id": "d7a05db1",
   "metadata": {},
   "outputs": [
    {
     "data": {
      "text/plain": [
       "KNeighborsClassifier()"
      ]
     },
     "execution_count": 17,
     "metadata": {},
     "output_type": "execute_result"
    }
   ],
   "source": [
    "#The fit method of KNN class is called to train the algorithm on the training data, \n",
    "#which is passed as a parameter to the fit method\n",
    "from sklearn.neighbors import KNeighborsClassifier\n",
    "KNNclassifier = KNeighborsClassifier()\n",
    "KNNclassifier.fit(Xcv_train, y_train)"
   ]
  },
  {
   "cell_type": "code",
   "execution_count": null,
   "id": "6b16d6ea",
   "metadata": {},
   "outputs": [],
   "source": [
    "KNNclassifier.score(Xcv_train, y_train) , KNNclassifier.score(Xcv_test, y_test)"
   ]
  },
  {
   "cell_type": "code",
   "execution_count": null,
   "id": "141be352",
   "metadata": {},
   "outputs": [],
   "source": [
    "y_pred = KNNclassifier.predict(Xcv_test)\n",
    "print(confusion_matrix(y_test,y_pred))\n",
    "print(classification_report(y_test,y_pred))"
   ]
  },
  {
   "cell_type": "code",
   "execution_count": null,
   "id": "5e1bc861",
   "metadata": {},
   "outputs": [],
   "source": [
    "#The fit method of KNN class is called to train the algorithm on the training data, \n",
    "#which is passed as a parameter to the fit method\n",
    "from sklearn.ensemble import RandomForestClassifier\n",
    "RFC = RandomForestClassifier()\n",
    "RFC.fit(Xcv_train, y_train)"
   ]
  },
  {
   "cell_type": "code",
   "execution_count": null,
   "id": "fe668a23",
   "metadata": {},
   "outputs": [],
   "source": [
    "y_pred = RFC.predict(Xcv_test)\n",
    "print(confusion_matrix(y_test,y_pred))\n",
    "print(classification_report(y_test,y_pred))"
   ]
  },
  {
   "cell_type": "code",
   "execution_count": null,
   "id": "3e26a405",
   "metadata": {},
   "outputs": [],
   "source": []
  },
  {
   "cell_type": "code",
   "execution_count": null,
   "id": "a246b067",
   "metadata": {},
   "outputs": [],
   "source": []
  },
  {
   "cell_type": "code",
   "execution_count": null,
   "id": "9d56bb7f",
   "metadata": {},
   "outputs": [],
   "source": []
  }
 ],
 "metadata": {
  "kernelspec": {
   "display_name": "Python 3",
   "language": "python",
   "name": "python3"
  },
  "language_info": {
   "codemirror_mode": {
    "name": "ipython",
    "version": 3
   },
   "file_extension": ".py",
   "mimetype": "text/x-python",
   "name": "python",
   "nbconvert_exporter": "python",
   "pygments_lexer": "ipython3",
   "version": "3.9.5"
  }
 },
 "nbformat": 4,
 "nbformat_minor": 5
}
