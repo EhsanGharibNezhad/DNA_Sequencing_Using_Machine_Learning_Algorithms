{
 "cells": [
  {
   "cell_type": "markdown",
   "id": "b129f5aa",
   "metadata": {},
   "source": [
    "# Modeling\n",
    "### Author: Ehsan Gharib-Nezhad\n"
   ]
  },
  {
   "cell_type": "code",
   "execution_count": 1,
   "id": "d0ec0ce1",
   "metadata": {},
   "outputs": [],
   "source": [
    "# Load Libraries\n",
    "import pandas as pd\n",
    "import numpy as np\n",
    "import matplotlib.pyplot as plt\n",
    "import seaborn as sns\n",
    "from nltk.probability import FreqDist\n",
    "import re\n",
    "from sklearn.model_selection import train_test_split\n",
    "from sklearn.feature_extraction.text import CountVectorizer\n",
    "import random"
   ]
  },
  {
   "cell_type": "markdown",
   "id": "52564416",
   "metadata": {},
   "source": [
    "# |||||||||||||||||||||||||||||||||||||||||||||||||||||||||||||||||||||||||||||||||||||||||||||||||||||||||||||||||||||||||||||||||||||||||||||||||||||\n",
    "# Dataset 1: Human dataset\n",
    "# |||||||||||||||||||||||||||||||||||||||||||||||||||||||||||||||||||||||||||||||||||||||||||||||||||||||||||||||||||||||||||||||||||||||||||||||||||||"
   ]
  },
  {
   "cell_type": "code",
   "execution_count": 2,
   "id": "0c77dc9b",
   "metadata": {},
   "outputs": [],
   "source": [
    "# Load datasets\n",
    "human = pd.read_csv('../datasets/human_processed_dataset.csv')"
   ]
  },
  {
   "cell_type": "code",
   "execution_count": 3,
   "id": "d7b3617b",
   "metadata": {
    "scrolled": false
   },
   "outputs": [
    {
     "data": {
      "text/html": [
       "<div>\n",
       "<style scoped>\n",
       "    .dataframe tbody tr th:only-of-type {\n",
       "        vertical-align: middle;\n",
       "    }\n",
       "\n",
       "    .dataframe tbody tr th {\n",
       "        vertical-align: top;\n",
       "    }\n",
       "\n",
       "    .dataframe thead th {\n",
       "        text-align: right;\n",
       "    }\n",
       "</style>\n",
       "<table border=\"1\" class=\"dataframe\">\n",
       "  <thead>\n",
       "    <tr style=\"text-align: right;\">\n",
       "      <th></th>\n",
       "      <th>kmers</th>\n",
       "      <th>class</th>\n",
       "    </tr>\n",
       "  </thead>\n",
       "  <tbody>\n",
       "    <tr>\n",
       "      <th>0</th>\n",
       "      <td>at</td>\n",
       "      <td>0</td>\n",
       "    </tr>\n",
       "    <tr>\n",
       "      <th>1</th>\n",
       "      <td>tg</td>\n",
       "      <td>0</td>\n",
       "    </tr>\n",
       "    <tr>\n",
       "      <th>2</th>\n",
       "      <td>ga</td>\n",
       "      <td>0</td>\n",
       "    </tr>\n",
       "    <tr>\n",
       "      <th>3</th>\n",
       "      <td>ag</td>\n",
       "      <td>0</td>\n",
       "    </tr>\n",
       "    <tr>\n",
       "      <th>4</th>\n",
       "      <td>gg</td>\n",
       "      <td>0</td>\n",
       "    </tr>\n",
       "  </tbody>\n",
       "</table>\n",
       "</div>"
      ],
      "text/plain": [
       "  kmers  class\n",
       "0    at      0\n",
       "1    tg      0\n",
       "2    ga      0\n",
       "3    ag      0\n",
       "4    gg      0"
      ]
     },
     "execution_count": 3,
     "metadata": {},
     "output_type": "execute_result"
    }
   ],
   "source": [
    "human.head()"
   ]
  },
  {
   "cell_type": "code",
   "execution_count": 4,
   "id": "e127de33",
   "metadata": {},
   "outputs": [
    {
     "name": "stdout",
     "output_type": "stream",
     "text": [
      "<class 'pandas.core.frame.DataFrame'>\n",
      "Int64Index: 44118822 entries, 0 to 44118821\n",
      "Data columns (total 2 columns):\n",
      " #   Column  Dtype \n",
      "---  ------  ----- \n",
      " 0   kmers   object\n",
      " 1   class   int64 \n",
      "dtypes: int64(1), object(1)\n",
      "memory usage: 1009.8+ MB\n"
     ]
    }
   ],
   "source": [
    "human.info()"
   ]
  },
  {
   "cell_type": "markdown",
   "id": "83385a89",
   "metadata": {},
   "source": [
    "# Modeling\n",
    "\n",
    "---\n",
    "\n",
    "We may want to test lots of different values of hyperparameters in our CountVectorizer."
   ]
  },
  {
   "cell_type": "code",
   "execution_count": 5,
   "id": "7408ce8c",
   "metadata": {},
   "outputs": [],
   "source": [
    "# Select a percentage of the whole data randomly ___________________________________________\n",
    "total_kmer_numbers = len(human['kmers'])\n",
    "random_numbers = random.sample(range(total_kmer_numbers), int(total_kmer_numbers*.01) )\n",
    "# image_path_list_1D_randomized = image_path_list_1D[[random_numbers[:]]]\n",
    "# target_from_image_path_list_1D_randomized = [path_image.split(os.sep)[-2] \n",
    "#                                              for path_image in image_path_list_1D_randomized ]"
   ]
  },
  {
   "cell_type": "code",
   "execution_count": 6,
   "id": "9a0ccba6",
   "metadata": {},
   "outputs": [],
   "source": [
    "X = human['kmers'].iloc[random_numbers]\n",
    "y = human['class'].iloc[random_numbers]"
   ]
  },
  {
   "cell_type": "code",
   "execution_count": 7,
   "id": "2c3d3e59",
   "metadata": {},
   "outputs": [],
   "source": [
    "# Split the data into the training and testing sets.\n",
    "X_train, X_test, y_train, y_test = train_test_split(X,\n",
    "                                                    y,\n",
    "                                                    test_size=0.33,\n",
    "                                                    stratify=y,\n",
    "                                                    random_state=42)"
   ]
  },
  {
   "cell_type": "markdown",
   "id": "3591157a",
   "metadata": {},
   "source": [
    "## Baseline accuracy\n",
    "\n",
    "We need to calculate baseline accuracy in order to tell if our model is better than null model."
   ]
  },
  {
   "cell_type": "code",
   "execution_count": 8,
   "id": "9cb24e70",
   "metadata": {},
   "outputs": [
    {
     "data": {
      "text/plain": [
       "(class\n",
       " 6        0.273848\n",
       " 0        0.149813\n",
       " 1        0.141329\n",
       " 3        0.122776\n",
       " 2        0.115371\n",
       " 4        0.112008\n",
       " 5        0.084856\n",
       " dtype: float64,\n",
       " class\n",
       " 6        0.273852\n",
       " 0        0.149815\n",
       " 1        0.141325\n",
       " 3        0.122774\n",
       " 2        0.115370\n",
       " 4        0.112004\n",
       " 5        0.084860\n",
       " dtype: float64)"
      ]
     },
     "execution_count": 8,
     "metadata": {},
     "output_type": "execute_result"
    }
   ],
   "source": [
    "pd.DataFrame(y_train).value_counts(normalize=True), pd.DataFrame(y_test).value_counts(normalize=True)"
   ]
  },
  {
   "cell_type": "code",
   "execution_count": 9,
   "id": "3dd32a54",
   "metadata": {},
   "outputs": [],
   "source": [
    "cv = CountVectorizer()\n",
    "Xcv_train = cv.fit_transform(X_train)"
   ]
  },
  {
   "cell_type": "code",
   "execution_count": 10,
   "id": "bac1e50d",
   "metadata": {},
   "outputs": [
    {
     "name": "stdout",
     "output_type": "stream",
     "text": [
      "  (0, 53255)\t1\n",
      "  (1, 16786)\t1\n",
      "  (2, 22996)\t1\n",
      "  (3, 30953)\t1\n",
      "  (4, 23154)\t1\n",
      "  (5, 32933)\t1\n",
      "  (6, 62696)\t1\n",
      "  (7, 15855)\t1\n",
      "  (8, 19266)\t1\n",
      "  (9, 18918)\t1\n",
      "  (10, 23315)\t1\n",
      "  (11, 66406)\t1\n",
      "  (12, 31332)\t1\n",
      "  (13, 36844)\t1\n",
      "  (14, 39442)\t1\n",
      "  (15, 57100)\t1\n",
      "  (16, 32537)\t1\n",
      "  (17, 55538)\t1\n",
      "  (18, 2850)\t1\n",
      "  (19, 50205)\t1\n",
      "  (20, 7303)\t1\n",
      "  (21, 20222)\t1\n",
      "  (22, 69655)\t1\n",
      "  (23, 21619)\t1\n",
      "  (24, 21981)\t1\n",
      "  :\t:\n",
      "  (295570, 44067)\t1\n",
      "  (295571, 47464)\t1\n",
      "  (295572, 24351)\t1\n",
      "  (295573, 42098)\t1\n",
      "  (295574, 61404)\t1\n",
      "  (295575, 55926)\t1\n",
      "  (295576, 37486)\t1\n",
      "  (295577, 63609)\t1\n",
      "  (295578, 42327)\t1\n",
      "  (295579, 13642)\t1\n",
      "  (295580, 41715)\t1\n",
      "  (295581, 25106)\t1\n",
      "  (295582, 69359)\t1\n",
      "  (295583, 18976)\t1\n",
      "  (295584, 69358)\t1\n",
      "  (295585, 9322)\t1\n",
      "  (295586, 61261)\t1\n",
      "  (295587, 46219)\t1\n",
      "  (295588, 9322)\t1\n",
      "  (295589, 17006)\t1\n",
      "  (295590, 24350)\t1\n",
      "  (295591, 20222)\t1\n",
      "  (295592, 3011)\t1\n",
      "  (295593, 54224)\t1\n",
      "  (295594, 71517)\t1\n"
     ]
    }
   ],
   "source": [
    "print(Xcv_train)"
   ]
  },
  {
   "cell_type": "code",
   "execution_count": 11,
   "id": "7f2bd867",
   "metadata": {},
   "outputs": [
    {
     "data": {
      "text/html": [
       "<div>\n",
       "<style scoped>\n",
       "    .dataframe tbody tr th:only-of-type {\n",
       "        vertical-align: middle;\n",
       "    }\n",
       "\n",
       "    .dataframe tbody tr th {\n",
       "        vertical-align: top;\n",
       "    }\n",
       "\n",
       "    .dataframe thead th {\n",
       "        text-align: right;\n",
       "    }\n",
       "</style>\n",
       "<table border=\"1\" class=\"dataframe\">\n",
       "  <thead>\n",
       "    <tr style=\"text-align: right;\">\n",
       "      <th></th>\n",
       "      <th>aa</th>\n",
       "      <th>aaa</th>\n",
       "      <th>aaaa</th>\n",
       "      <th>aaaaa</th>\n",
       "      <th>aaaaaa</th>\n",
       "      <th>aaaaaaa</th>\n",
       "      <th>aaaaaaaaa</th>\n",
       "      <th>aaaaaaaac</th>\n",
       "      <th>aaaaaaaag</th>\n",
       "      <th>aaaaaaac</th>\n",
       "      <th>...</th>\n",
       "      <th>ttttttag</th>\n",
       "      <th>ttttttcc</th>\n",
       "      <th>ttttttcct</th>\n",
       "      <th>ttttttctt</th>\n",
       "      <th>ttttttg</th>\n",
       "      <th>ttttttga</th>\n",
       "      <th>ttttttgac</th>\n",
       "      <th>ttttttgt</th>\n",
       "      <th>ttttttgtt</th>\n",
       "      <th>ttttttt</th>\n",
       "    </tr>\n",
       "  </thead>\n",
       "  <tbody>\n",
       "    <tr>\n",
       "      <th>0</th>\n",
       "      <td>0</td>\n",
       "      <td>0</td>\n",
       "      <td>0</td>\n",
       "      <td>0</td>\n",
       "      <td>0</td>\n",
       "      <td>0</td>\n",
       "      <td>0</td>\n",
       "      <td>0</td>\n",
       "      <td>0</td>\n",
       "      <td>0</td>\n",
       "      <td>...</td>\n",
       "      <td>0</td>\n",
       "      <td>0</td>\n",
       "      <td>0</td>\n",
       "      <td>0</td>\n",
       "      <td>0</td>\n",
       "      <td>0</td>\n",
       "      <td>0</td>\n",
       "      <td>0</td>\n",
       "      <td>0</td>\n",
       "      <td>0</td>\n",
       "    </tr>\n",
       "    <tr>\n",
       "      <th>1</th>\n",
       "      <td>0</td>\n",
       "      <td>0</td>\n",
       "      <td>0</td>\n",
       "      <td>0</td>\n",
       "      <td>0</td>\n",
       "      <td>0</td>\n",
       "      <td>0</td>\n",
       "      <td>0</td>\n",
       "      <td>0</td>\n",
       "      <td>0</td>\n",
       "      <td>...</td>\n",
       "      <td>0</td>\n",
       "      <td>0</td>\n",
       "      <td>0</td>\n",
       "      <td>0</td>\n",
       "      <td>0</td>\n",
       "      <td>0</td>\n",
       "      <td>0</td>\n",
       "      <td>0</td>\n",
       "      <td>0</td>\n",
       "      <td>0</td>\n",
       "    </tr>\n",
       "    <tr>\n",
       "      <th>2</th>\n",
       "      <td>0</td>\n",
       "      <td>0</td>\n",
       "      <td>0</td>\n",
       "      <td>0</td>\n",
       "      <td>0</td>\n",
       "      <td>0</td>\n",
       "      <td>0</td>\n",
       "      <td>0</td>\n",
       "      <td>0</td>\n",
       "      <td>0</td>\n",
       "      <td>...</td>\n",
       "      <td>0</td>\n",
       "      <td>0</td>\n",
       "      <td>0</td>\n",
       "      <td>0</td>\n",
       "      <td>0</td>\n",
       "      <td>0</td>\n",
       "      <td>0</td>\n",
       "      <td>0</td>\n",
       "      <td>0</td>\n",
       "      <td>0</td>\n",
       "    </tr>\n",
       "    <tr>\n",
       "      <th>3</th>\n",
       "      <td>0</td>\n",
       "      <td>0</td>\n",
       "      <td>0</td>\n",
       "      <td>0</td>\n",
       "      <td>0</td>\n",
       "      <td>0</td>\n",
       "      <td>0</td>\n",
       "      <td>0</td>\n",
       "      <td>0</td>\n",
       "      <td>0</td>\n",
       "      <td>...</td>\n",
       "      <td>0</td>\n",
       "      <td>0</td>\n",
       "      <td>0</td>\n",
       "      <td>0</td>\n",
       "      <td>0</td>\n",
       "      <td>0</td>\n",
       "      <td>0</td>\n",
       "      <td>0</td>\n",
       "      <td>0</td>\n",
       "      <td>0</td>\n",
       "    </tr>\n",
       "    <tr>\n",
       "      <th>4</th>\n",
       "      <td>0</td>\n",
       "      <td>0</td>\n",
       "      <td>0</td>\n",
       "      <td>0</td>\n",
       "      <td>0</td>\n",
       "      <td>0</td>\n",
       "      <td>0</td>\n",
       "      <td>0</td>\n",
       "      <td>0</td>\n",
       "      <td>0</td>\n",
       "      <td>...</td>\n",
       "      <td>0</td>\n",
       "      <td>0</td>\n",
       "      <td>0</td>\n",
       "      <td>0</td>\n",
       "      <td>0</td>\n",
       "      <td>0</td>\n",
       "      <td>0</td>\n",
       "      <td>0</td>\n",
       "      <td>0</td>\n",
       "      <td>0</td>\n",
       "    </tr>\n",
       "  </tbody>\n",
       "</table>\n",
       "<p>5 rows × 73408 columns</p>\n",
       "</div>"
      ],
      "text/plain": [
       "   aa  aaa  aaaa  aaaaa  aaaaaa  aaaaaaa  aaaaaaaaa  aaaaaaaac  aaaaaaaag  \\\n",
       "0   0    0     0      0       0        0          0          0          0   \n",
       "1   0    0     0      0       0        0          0          0          0   \n",
       "2   0    0     0      0       0        0          0          0          0   \n",
       "3   0    0     0      0       0        0          0          0          0   \n",
       "4   0    0     0      0       0        0          0          0          0   \n",
       "\n",
       "   aaaaaaac  ...  ttttttag  ttttttcc  ttttttcct  ttttttctt  ttttttg  ttttttga  \\\n",
       "0         0  ...         0         0          0          0        0         0   \n",
       "1         0  ...         0         0          0          0        0         0   \n",
       "2         0  ...         0         0          0          0        0         0   \n",
       "3         0  ...         0         0          0          0        0         0   \n",
       "4         0  ...         0         0          0          0        0         0   \n",
       "\n",
       "   ttttttgac  ttttttgt  ttttttgtt  ttttttt  \n",
       "0          0         0          0        0  \n",
       "1          0         0          0        0  \n",
       "2          0         0          0        0  \n",
       "3          0         0          0        0  \n",
       "4          0         0          0        0  \n",
       "\n",
       "[5 rows x 73408 columns]"
      ]
     },
     "execution_count": 11,
     "metadata": {},
     "output_type": "execute_result"
    }
   ],
   "source": [
    "# to convert sparse matrix to dense matrix\n",
    "Xcv_train_df = pd.DataFrame(Xcv_train.todense(),\n",
    "                           columns = cv.get_feature_names() )\n",
    "Xcv_train_df.head()"
   ]
  },
  {
   "cell_type": "code",
   "execution_count": 12,
   "id": "1b9b01b0",
   "metadata": {},
   "outputs": [
    {
     "data": {
      "text/plain": [
       "(295595, 73408)"
      ]
     },
     "execution_count": 12,
     "metadata": {},
     "output_type": "execute_result"
    }
   ],
   "source": [
    "Xcv_train_df.shape"
   ]
  },
  {
   "cell_type": "code",
   "execution_count": 13,
   "id": "7eb6cdb9",
   "metadata": {},
   "outputs": [],
   "source": [
    "# Transform the test corpus.\n",
    "Xcv_test = cv.transform(X_test)"
   ]
  },
  {
   "cell_type": "code",
   "execution_count": 14,
   "id": "59909275",
   "metadata": {},
   "outputs": [
    {
     "data": {
      "text/html": [
       "<div>\n",
       "<style scoped>\n",
       "    .dataframe tbody tr th:only-of-type {\n",
       "        vertical-align: middle;\n",
       "    }\n",
       "\n",
       "    .dataframe tbody tr th {\n",
       "        vertical-align: top;\n",
       "    }\n",
       "\n",
       "    .dataframe thead th {\n",
       "        text-align: right;\n",
       "    }\n",
       "</style>\n",
       "<table border=\"1\" class=\"dataframe\">\n",
       "  <thead>\n",
       "    <tr style=\"text-align: right;\">\n",
       "      <th></th>\n",
       "      <th>aa</th>\n",
       "      <th>aaa</th>\n",
       "      <th>aaaa</th>\n",
       "      <th>aaaaa</th>\n",
       "      <th>aaaaaa</th>\n",
       "      <th>aaaaaaa</th>\n",
       "      <th>aaaaaaaaa</th>\n",
       "      <th>aaaaaaaac</th>\n",
       "      <th>aaaaaaaag</th>\n",
       "      <th>aaaaaaac</th>\n",
       "      <th>...</th>\n",
       "      <th>ttttttag</th>\n",
       "      <th>ttttttcc</th>\n",
       "      <th>ttttttcct</th>\n",
       "      <th>ttttttctt</th>\n",
       "      <th>ttttttg</th>\n",
       "      <th>ttttttga</th>\n",
       "      <th>ttttttgac</th>\n",
       "      <th>ttttttgt</th>\n",
       "      <th>ttttttgtt</th>\n",
       "      <th>ttttttt</th>\n",
       "    </tr>\n",
       "  </thead>\n",
       "  <tbody>\n",
       "    <tr>\n",
       "      <th>0</th>\n",
       "      <td>0</td>\n",
       "      <td>0</td>\n",
       "      <td>0</td>\n",
       "      <td>0</td>\n",
       "      <td>0</td>\n",
       "      <td>0</td>\n",
       "      <td>0</td>\n",
       "      <td>0</td>\n",
       "      <td>0</td>\n",
       "      <td>0</td>\n",
       "      <td>...</td>\n",
       "      <td>0</td>\n",
       "      <td>0</td>\n",
       "      <td>0</td>\n",
       "      <td>0</td>\n",
       "      <td>0</td>\n",
       "      <td>0</td>\n",
       "      <td>0</td>\n",
       "      <td>0</td>\n",
       "      <td>0</td>\n",
       "      <td>0</td>\n",
       "    </tr>\n",
       "    <tr>\n",
       "      <th>1</th>\n",
       "      <td>0</td>\n",
       "      <td>0</td>\n",
       "      <td>0</td>\n",
       "      <td>0</td>\n",
       "      <td>0</td>\n",
       "      <td>0</td>\n",
       "      <td>0</td>\n",
       "      <td>0</td>\n",
       "      <td>0</td>\n",
       "      <td>0</td>\n",
       "      <td>...</td>\n",
       "      <td>0</td>\n",
       "      <td>0</td>\n",
       "      <td>0</td>\n",
       "      <td>0</td>\n",
       "      <td>0</td>\n",
       "      <td>0</td>\n",
       "      <td>0</td>\n",
       "      <td>0</td>\n",
       "      <td>0</td>\n",
       "      <td>0</td>\n",
       "    </tr>\n",
       "    <tr>\n",
       "      <th>2</th>\n",
       "      <td>0</td>\n",
       "      <td>0</td>\n",
       "      <td>0</td>\n",
       "      <td>0</td>\n",
       "      <td>0</td>\n",
       "      <td>0</td>\n",
       "      <td>0</td>\n",
       "      <td>0</td>\n",
       "      <td>0</td>\n",
       "      <td>0</td>\n",
       "      <td>...</td>\n",
       "      <td>0</td>\n",
       "      <td>0</td>\n",
       "      <td>0</td>\n",
       "      <td>0</td>\n",
       "      <td>0</td>\n",
       "      <td>0</td>\n",
       "      <td>0</td>\n",
       "      <td>0</td>\n",
       "      <td>0</td>\n",
       "      <td>0</td>\n",
       "    </tr>\n",
       "    <tr>\n",
       "      <th>3</th>\n",
       "      <td>0</td>\n",
       "      <td>0</td>\n",
       "      <td>0</td>\n",
       "      <td>0</td>\n",
       "      <td>0</td>\n",
       "      <td>0</td>\n",
       "      <td>0</td>\n",
       "      <td>0</td>\n",
       "      <td>0</td>\n",
       "      <td>0</td>\n",
       "      <td>...</td>\n",
       "      <td>0</td>\n",
       "      <td>0</td>\n",
       "      <td>0</td>\n",
       "      <td>0</td>\n",
       "      <td>0</td>\n",
       "      <td>0</td>\n",
       "      <td>0</td>\n",
       "      <td>0</td>\n",
       "      <td>0</td>\n",
       "      <td>0</td>\n",
       "    </tr>\n",
       "    <tr>\n",
       "      <th>4</th>\n",
       "      <td>0</td>\n",
       "      <td>0</td>\n",
       "      <td>0</td>\n",
       "      <td>0</td>\n",
       "      <td>0</td>\n",
       "      <td>0</td>\n",
       "      <td>0</td>\n",
       "      <td>0</td>\n",
       "      <td>0</td>\n",
       "      <td>0</td>\n",
       "      <td>...</td>\n",
       "      <td>0</td>\n",
       "      <td>0</td>\n",
       "      <td>0</td>\n",
       "      <td>0</td>\n",
       "      <td>0</td>\n",
       "      <td>0</td>\n",
       "      <td>0</td>\n",
       "      <td>0</td>\n",
       "      <td>0</td>\n",
       "      <td>0</td>\n",
       "    </tr>\n",
       "  </tbody>\n",
       "</table>\n",
       "<p>5 rows × 73408 columns</p>\n",
       "</div>"
      ],
      "text/plain": [
       "   aa  aaa  aaaa  aaaaa  aaaaaa  aaaaaaa  aaaaaaaaa  aaaaaaaac  aaaaaaaag  \\\n",
       "0   0    0     0      0       0        0          0          0          0   \n",
       "1   0    0     0      0       0        0          0          0          0   \n",
       "2   0    0     0      0       0        0          0          0          0   \n",
       "3   0    0     0      0       0        0          0          0          0   \n",
       "4   0    0     0      0       0        0          0          0          0   \n",
       "\n",
       "   aaaaaaac  ...  ttttttag  ttttttcc  ttttttcct  ttttttctt  ttttttg  ttttttga  \\\n",
       "0         0  ...         0         0          0          0        0         0   \n",
       "1         0  ...         0         0          0          0        0         0   \n",
       "2         0  ...         0         0          0          0        0         0   \n",
       "3         0  ...         0         0          0          0        0         0   \n",
       "4         0  ...         0         0          0          0        0         0   \n",
       "\n",
       "   ttttttgac  ttttttgt  ttttttgtt  ttttttt  \n",
       "0          0         0          0        0  \n",
       "1          0         0          0        0  \n",
       "2          0         0          0        0  \n",
       "3          0         0          0        0  \n",
       "4          0         0          0        0  \n",
       "\n",
       "[5 rows x 73408 columns]"
      ]
     },
     "execution_count": 14,
     "metadata": {},
     "output_type": "execute_result"
    }
   ],
   "source": [
    "# to convert sparse matrix to dense matrix\n",
    "Xcv_test_df = pd.DataFrame(Xcv_test.todense(),\n",
    "                           columns = cv.get_feature_names() )\n",
    "Xcv_test_df.head()"
   ]
  },
  {
   "cell_type": "code",
   "execution_count": 15,
   "id": "25b23bee",
   "metadata": {},
   "outputs": [
    {
     "data": {
      "text/plain": [
       "(145593, 73408)"
      ]
     },
     "execution_count": 15,
     "metadata": {},
     "output_type": "execute_result"
    }
   ],
   "source": [
    "Xcv_test_df.shape"
   ]
  },
  {
   "cell_type": "code",
   "execution_count": null,
   "id": "1f7c2ca4",
   "metadata": {},
   "outputs": [],
   "source": [
    "#The fit method of SVC class is called to train the algorithm on the training data, \n",
    "#which is passed as a parameter to the fit method\n",
    "from sklearn.svm import SVC\n",
    "svclassifier = SVC(kernel='linear')\n",
    "svclassifier.fit(Xcv_train, y_train)"
   ]
  },
  {
   "cell_type": "code",
   "execution_count": null,
   "id": "230cdbcd",
   "metadata": {},
   "outputs": [],
   "source": [
    "svclassifier.score(Xcv_train, y_train) , svclassifier.score(Xcv_test, y_test)"
   ]
  },
  {
   "cell_type": "code",
   "execution_count": null,
   "id": "81290a56",
   "metadata": {},
   "outputs": [],
   "source": [
    "from sklearn.metrics import classification_report, confusion_matrix\n",
    "y_pred = svclassifier.predict(Xcv_test)\n",
    "print(confusion_matrix(y_test,y_pred))\n",
    "print(classification_report(y_test,y_pred))"
   ]
  },
  {
   "cell_type": "code",
   "execution_count": null,
   "id": "d7a05db1",
   "metadata": {},
   "outputs": [],
   "source": [
    "#The fit method of KNN class is called to train the algorithm on the training data, \n",
    "#which is passed as a parameter to the fit method\n",
    "from sklearn.neighbors import KNeighborsClassifier\n",
    "KNNclassifier = KNeighborsClassifier(n_neighbors=5)\n",
    "KNNclassifier.fit(Xcv_train, y_train)"
   ]
  },
  {
   "cell_type": "code",
   "execution_count": null,
   "id": "6b16d6ea",
   "metadata": {},
   "outputs": [],
   "source": [
    "KNNclassifier.score(Xcv_train, y_train) , KNNclassifier.score(Xcv_test, y_test)"
   ]
  },
  {
   "cell_type": "code",
   "execution_count": null,
   "id": "141be352",
   "metadata": {},
   "outputs": [],
   "source": [
    "y_pred = KNNclassifier.predict(Xcv_test)\n",
    "print(confusion_matrix(y_test,y_pred))\n",
    "print(classification_report(y_test,y_pred))"
   ]
  },
  {
   "cell_type": "code",
   "execution_count": null,
   "id": "5e1bc861",
   "metadata": {},
   "outputs": [],
   "source": [
    "#The fit method of KNN class is called to train the algorithm on the training data, \n",
    "#which is passed as a parameter to the fit method\n",
    "from sklearn.ensemble import RandomForestClassifier\n",
    "RFC = RandomForestClassifier()\n",
    "RFC.fit(Xcv_train, y_train)"
   ]
  },
  {
   "cell_type": "code",
   "execution_count": null,
   "id": "fe668a23",
   "metadata": {},
   "outputs": [],
   "source": [
    "y_pred = RFC.predict(Xcv_test)\n",
    "print(confusion_matrix(y_test,y_pred))\n",
    "print(classification_report(y_test,y_pred))"
   ]
  },
  {
   "cell_type": "code",
   "execution_count": null,
   "id": "3e26a405",
   "metadata": {},
   "outputs": [],
   "source": []
  },
  {
   "cell_type": "code",
   "execution_count": null,
   "id": "a246b067",
   "metadata": {},
   "outputs": [],
   "source": []
  },
  {
   "cell_type": "code",
   "execution_count": null,
   "id": "9d56bb7f",
   "metadata": {},
   "outputs": [],
   "source": []
  }
 ],
 "metadata": {
  "kernelspec": {
   "display_name": "Python 3",
   "language": "python",
   "name": "python3"
  },
  "language_info": {
   "codemirror_mode": {
    "name": "ipython",
    "version": 3
   },
   "file_extension": ".py",
   "mimetype": "text/x-python",
   "name": "python",
   "nbconvert_exporter": "python",
   "pygments_lexer": "ipython3",
   "version": "3.9.5"
  }
 },
 "nbformat": 4,
 "nbformat_minor": 5
}
