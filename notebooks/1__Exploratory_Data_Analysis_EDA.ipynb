{
 "cells": [
  {
   "cell_type": "markdown",
   "id": "b129f5aa",
   "metadata": {},
   "source": [
    "# Exploratory Data Analysis\n",
    "### Author: Ehsan Gharib-Nezhad\n"
   ]
  },
  {
   "cell_type": "code",
   "execution_count": 1,
   "id": "d0ec0ce1",
   "metadata": {},
   "outputs": [],
   "source": [
    "# Load Libraries\n",
    "import pandas as pd\n",
    "import numpy as np\n",
    "import matplotlib.pyplot as plt\n",
    "import seaborn as sns\n",
    "%matplotlib inline"
   ]
  },
  {
   "cell_type": "markdown",
   "id": "52564416",
   "metadata": {},
   "source": [
    "# |||||||||||||||||||||||||||||||||||||||||||||||||||||||||||||||||||||||||||||||||||||||||||||||||||||||||||||||||||||||||||||||||||||||||||||||||||||\n",
    "# Dataset 1: Human dataset\n",
    "# |||||||||||||||||||||||||||||||||||||||||||||||||||||||||||||||||||||||||||||||||||||||||||||||||||||||||||||||||||||||||||||||||||||||||||||||||||||"
   ]
  },
  {
   "cell_type": "code",
   "execution_count": 2,
   "id": "0c77dc9b",
   "metadata": {},
   "outputs": [],
   "source": [
    "# Load datasets\n",
    "human = pd.read_table('../datasets/human.txt',)"
   ]
  },
  {
   "cell_type": "code",
   "execution_count": 3,
   "id": "d7b3617b",
   "metadata": {
    "scrolled": false
   },
   "outputs": [
    {
     "data": {
      "text/html": [
       "<div>\n",
       "<style scoped>\n",
       "    .dataframe tbody tr th:only-of-type {\n",
       "        vertical-align: middle;\n",
       "    }\n",
       "\n",
       "    .dataframe tbody tr th {\n",
       "        vertical-align: top;\n",
       "    }\n",
       "\n",
       "    .dataframe thead th {\n",
       "        text-align: right;\n",
       "    }\n",
       "</style>\n",
       "<table border=\"1\" class=\"dataframe\">\n",
       "  <thead>\n",
       "    <tr style=\"text-align: right;\">\n",
       "      <th></th>\n",
       "      <th>sequence</th>\n",
       "      <th>class</th>\n",
       "    </tr>\n",
       "  </thead>\n",
       "  <tbody>\n",
       "    <tr>\n",
       "      <th>0</th>\n",
       "      <td>ATGCCCCAACTAAATACTACCGTATGGCCCACCATAATTACCCCCA...</td>\n",
       "      <td>4</td>\n",
       "    </tr>\n",
       "    <tr>\n",
       "      <th>1</th>\n",
       "      <td>ATGAACGAAAATCTGTTCGCTTCATTCATTGCCCCCACAATCCTAG...</td>\n",
       "      <td>4</td>\n",
       "    </tr>\n",
       "    <tr>\n",
       "      <th>2</th>\n",
       "      <td>ATGTGTGGCATTTGGGCGCTGTTTGGCAGTGATGATTGCCTTTCTG...</td>\n",
       "      <td>3</td>\n",
       "    </tr>\n",
       "    <tr>\n",
       "      <th>3</th>\n",
       "      <td>ATGTGTGGCATTTGGGCGCTGTTTGGCAGTGATGATTGCCTTTCTG...</td>\n",
       "      <td>3</td>\n",
       "    </tr>\n",
       "    <tr>\n",
       "      <th>4</th>\n",
       "      <td>ATGCAACAGCATTTTGAATTTGAATACCAGACCAAAGTGGATGGTG...</td>\n",
       "      <td>3</td>\n",
       "    </tr>\n",
       "  </tbody>\n",
       "</table>\n",
       "</div>"
      ],
      "text/plain": [
       "                                            sequence  class\n",
       "0  ATGCCCCAACTAAATACTACCGTATGGCCCACCATAATTACCCCCA...      4\n",
       "1  ATGAACGAAAATCTGTTCGCTTCATTCATTGCCCCCACAATCCTAG...      4\n",
       "2  ATGTGTGGCATTTGGGCGCTGTTTGGCAGTGATGATTGCCTTTCTG...      3\n",
       "3  ATGTGTGGCATTTGGGCGCTGTTTGGCAGTGATGATTGCCTTTCTG...      3\n",
       "4  ATGCAACAGCATTTTGAATTTGAATACCAGACCAAAGTGGATGGTG...      3"
      ]
     },
     "execution_count": 3,
     "metadata": {},
     "output_type": "execute_result"
    }
   ],
   "source": [
    "human.head()"
   ]
  },
  {
   "cell_type": "markdown",
   "id": "994bedca",
   "metadata": {},
   "source": [
    "### Check number of observations/DNA Sequences and the data type"
   ]
  },
  {
   "cell_type": "code",
   "execution_count": 7,
   "id": "4f78d46b",
   "metadata": {},
   "outputs": [
    {
     "name": "stdout",
     "output_type": "stream",
     "text": [
      "The length of the human DNA squence is 4380 and it consists of 2 columns.\n"
     ]
    }
   ],
   "source": [
    "print(f'The length of the human DNA squence is {human.shape[0]} and it consists of {human.shape[1]} columns.')"
   ]
  },
  {
   "cell_type": "code",
   "execution_count": 27,
   "id": "ab5d61e9",
   "metadata": {},
   "outputs": [
    {
     "data": {
      "text/plain": [
       "sequence           object\n",
       "class               int64\n",
       "sequence_length     int64\n",
       "dtype: object"
      ]
     },
     "execution_count": 27,
     "metadata": {},
     "output_type": "execute_result"
    }
   ],
   "source": [
    "human.dtypes"
   ]
  },
  {
   "cell_type": "markdown",
   "id": "97890ee2",
   "metadata": {},
   "source": [
    "### Check if there is null or NAN data"
   ]
  },
  {
   "cell_type": "code",
   "execution_count": 8,
   "id": "7d049c28",
   "metadata": {},
   "outputs": [
    {
     "data": {
      "text/plain": [
       "sequence    0\n",
       "class       0\n",
       "dtype: int64"
      ]
     },
     "execution_count": 8,
     "metadata": {},
     "output_type": "execute_result"
    }
   ],
   "source": [
    "human.isnull().sum()"
   ]
  },
  {
   "cell_type": "markdown",
   "id": "c3494154",
   "metadata": {},
   "source": [
    "### Count the number of characters in each sequance"
   ]
  },
  {
   "cell_type": "code",
   "execution_count": 11,
   "id": "11e36587",
   "metadata": {},
   "outputs": [],
   "source": [
    "# create a new column \"sequence_length\" to save the number of sequence length or \n",
    "# number of nucleobases (i.e., A, T, G, C) in each class (or gene family)\n",
    "\n",
    "human['sequence_length'] = human['sequence'].str.len()"
   ]
  },
  {
   "cell_type": "code",
   "execution_count": 12,
   "id": "34418242",
   "metadata": {},
   "outputs": [
    {
     "data": {
      "image/png": "[encoded data removed]",
      "text/plain": [
       "<Figure size 864x288 with 1 Axes>"
      ]
     },
     "metadata": {
      "needs_background": "light"
     },
     "output_type": "display_data"
    }
   ],
   "source": [
    "plt.figure(figsize = (12,4))\n",
    "plt.title('Human DNA squence dataset', fontsize = 16)\n",
    "plt.barh(human['class'], human['sequence_length'])\n",
    "plt.xlabel('Nucleotide Count', fontsize = 12)\n",
    "plt.ylabel('Gene family Class', fontsize = 12)\n",
    "plt.xticks(fontsize=12)\n",
    "plt.yticks(fontsize=12);"
   ]
  },
  {
   "cell_type": "code",
   "execution_count": 13,
   "id": "fd58496a",
   "metadata": {},
   "outputs": [
    {
     "data": {
      "image/png": "[encoded data removed]",
      "text/plain": [
       "<Figure size 864x432 with 1 Axes>"
      ]
     },
     "metadata": {
      "needs_background": "light"
     },
     "output_type": "display_data"
    }
   ],
   "source": [
    "fig, ax = plt.subplots(figsize=(12, 6))\n",
    "plt.title('Human DNA squence dataset', fontsize = 16)\n",
    "sns.barplot(x='class', y='sequence_length', data= human)\n",
    "plt.ylabel('Nucleotide Count', fontsize = 12)\n",
    "plt.xlabel('Gene family Class', fontsize = 12)\n",
    "plt.xticks(fontsize=12)\n",
    "plt.yticks(fontsize=12);"
   ]
  },
  {
   "cell_type": "markdown",
   "id": "9d99c322",
   "metadata": {},
   "source": [
    "## Count the number of A, T, G, and C nucleotide in each sequence and each class"
   ]
  },
  {
   "cell_type": "code",
   "execution_count": 14,
   "id": "328366e6",
   "metadata": {},
   "outputs": [],
   "source": [
    "# in the original post\n",
    "human['A_count'] = [seq.count('A') for seq in human['sequence']]\n",
    "human['T_count'] = [seq.count('T') for seq in human['sequence']]\n",
    "human['G_count'] = [seq.count('G') for seq in human['sequence']]\n",
    "human['C_count'] = [seq.count('C') for seq in human['sequence']]"
   ]
  },
  {
   "cell_type": "code",
   "execution_count": 15,
   "id": "72f55edc",
   "metadata": {},
   "outputs": [
    {
     "data": {
      "text/html": [
       "<div>\n",
       "<style scoped>\n",
       "    .dataframe tbody tr th:only-of-type {\n",
       "        vertical-align: middle;\n",
       "    }\n",
       "\n",
       "    .dataframe tbody tr th {\n",
       "        vertical-align: top;\n",
       "    }\n",
       "\n",
       "    .dataframe thead th {\n",
       "        text-align: right;\n",
       "    }\n",
       "</style>\n",
       "<table border=\"1\" class=\"dataframe\">\n",
       "  <thead>\n",
       "    <tr style=\"text-align: right;\">\n",
       "      <th></th>\n",
       "      <th>sequence</th>\n",
       "      <th>class</th>\n",
       "      <th>sequence_length</th>\n",
       "      <th>A_count</th>\n",
       "      <th>T_count</th>\n",
       "      <th>G_count</th>\n",
       "      <th>C_count</th>\n",
       "    </tr>\n",
       "  </thead>\n",
       "  <tbody>\n",
       "    <tr>\n",
       "      <th>0</th>\n",
       "      <td>ATGCCCCAACTAAATACTACCGTATGGCCCACCATAATTACCCCCA...</td>\n",
       "      <td>4</td>\n",
       "      <td>207</td>\n",
       "      <td>80</td>\n",
       "      <td>45</td>\n",
       "      <td>13</td>\n",
       "      <td>69</td>\n",
       "    </tr>\n",
       "    <tr>\n",
       "      <th>1</th>\n",
       "      <td>ATGAACGAAAATCTGTTCGCTTCATTCATTGCCCCCACAATCCTAG...</td>\n",
       "      <td>4</td>\n",
       "      <td>681</td>\n",
       "      <td>206</td>\n",
       "      <td>174</td>\n",
       "      <td>71</td>\n",
       "      <td>230</td>\n",
       "    </tr>\n",
       "    <tr>\n",
       "      <th>2</th>\n",
       "      <td>ATGTGTGGCATTTGGGCGCTGTTTGGCAGTGATGATTGCCTTTCTG...</td>\n",
       "      <td>3</td>\n",
       "      <td>1686</td>\n",
       "      <td>476</td>\n",
       "      <td>483</td>\n",
       "      <td>393</td>\n",
       "      <td>334</td>\n",
       "    </tr>\n",
       "    <tr>\n",
       "      <th>3</th>\n",
       "      <td>ATGTGTGGCATTTGGGCGCTGTTTGGCAGTGATGATTGCCTTTCTG...</td>\n",
       "      <td>3</td>\n",
       "      <td>1206</td>\n",
       "      <td>339</td>\n",
       "      <td>363</td>\n",
       "      <td>294</td>\n",
       "      <td>210</td>\n",
       "    </tr>\n",
       "    <tr>\n",
       "      <th>4</th>\n",
       "      <td>ATGCAACAGCATTTTGAATTTGAATACCAGACCAAAGTGGATGGTG...</td>\n",
       "      <td>3</td>\n",
       "      <td>1437</td>\n",
       "      <td>417</td>\n",
       "      <td>406</td>\n",
       "      <td>326</td>\n",
       "      <td>288</td>\n",
       "    </tr>\n",
       "    <tr>\n",
       "      <th>...</th>\n",
       "      <td>...</td>\n",
       "      <td>...</td>\n",
       "      <td>...</td>\n",
       "      <td>...</td>\n",
       "      <td>...</td>\n",
       "      <td>...</td>\n",
       "      <td>...</td>\n",
       "    </tr>\n",
       "    <tr>\n",
       "      <th>4375</th>\n",
       "      <td>ATGGAAGATTTGGAGGAAACATTATTTGAAGAATTTGAAAACTATT...</td>\n",
       "      <td>0</td>\n",
       "      <td>57</td>\n",
       "      <td>22</td>\n",
       "      <td>18</td>\n",
       "      <td>11</td>\n",
       "      <td>6</td>\n",
       "    </tr>\n",
       "    <tr>\n",
       "      <th>4376</th>\n",
       "      <td>ATGCAGTCCTTTCGGGAGCAAAGCAGTTACCACGGAAACCAGCAAA...</td>\n",
       "      <td>6</td>\n",
       "      <td>5883</td>\n",
       "      <td>1637</td>\n",
       "      <td>1181</td>\n",
       "      <td>1523</td>\n",
       "      <td>1542</td>\n",
       "    </tr>\n",
       "    <tr>\n",
       "      <th>4377</th>\n",
       "      <td>ATGCAGTCCTTTCGGGAGCAAAGCAGTTACCACGGAAACCAGCAAA...</td>\n",
       "      <td>6</td>\n",
       "      <td>5817</td>\n",
       "      <td>1625</td>\n",
       "      <td>1174</td>\n",
       "      <td>1508</td>\n",
       "      <td>1510</td>\n",
       "    </tr>\n",
       "    <tr>\n",
       "      <th>4378</th>\n",
       "      <td>ATGGGGCACCTGGTTTGCTGTCTGTGTGGCAAGTGGGCCAGTTACC...</td>\n",
       "      <td>6</td>\n",
       "      <td>753</td>\n",
       "      <td>190</td>\n",
       "      <td>148</td>\n",
       "      <td>220</td>\n",
       "      <td>195</td>\n",
       "    </tr>\n",
       "    <tr>\n",
       "      <th>4379</th>\n",
       "      <td>ATGCAGTCCTTTCGGGAGCAAAGCAGTTACCACGGAAACCAGCAAA...</td>\n",
       "      <td>6</td>\n",
       "      <td>459</td>\n",
       "      <td>110</td>\n",
       "      <td>86</td>\n",
       "      <td>145</td>\n",
       "      <td>118</td>\n",
       "    </tr>\n",
       "  </tbody>\n",
       "</table>\n",
       "<p>4380 rows × 7 columns</p>\n",
       "</div>"
      ],
      "text/plain": [
       "                                               sequence  class  \\\n",
       "0     ATGCCCCAACTAAATACTACCGTATGGCCCACCATAATTACCCCCA...      4   \n",
       "1     ATGAACGAAAATCTGTTCGCTTCATTCATTGCCCCCACAATCCTAG...      4   \n",
       "2     ATGTGTGGCATTTGGGCGCTGTTTGGCAGTGATGATTGCCTTTCTG...      3   \n",
       "3     ATGTGTGGCATTTGGGCGCTGTTTGGCAGTGATGATTGCCTTTCTG...      3   \n",
       "4     ATGCAACAGCATTTTGAATTTGAATACCAGACCAAAGTGGATGGTG...      3   \n",
       "...                                                 ...    ...   \n",
       "4375  ATGGAAGATTTGGAGGAAACATTATTTGAAGAATTTGAAAACTATT...      0   \n",
       "4376  ATGCAGTCCTTTCGGGAGCAAAGCAGTTACCACGGAAACCAGCAAA...      6   \n",
       "4377  ATGCAGTCCTTTCGGGAGCAAAGCAGTTACCACGGAAACCAGCAAA...      6   \n",
       "4378  ATGGGGCACCTGGTTTGCTGTCTGTGTGGCAAGTGGGCCAGTTACC...      6   \n",
       "4379  ATGCAGTCCTTTCGGGAGCAAAGCAGTTACCACGGAAACCAGCAAA...      6   \n",
       "\n",
       "      sequence_length  A_count  T_count  G_count  C_count  \n",
       "0                 207       80       45       13       69  \n",
       "1                 681      206      174       71      230  \n",
       "2                1686      476      483      393      334  \n",
       "3                1206      339      363      294      210  \n",
       "4                1437      417      406      326      288  \n",
       "...               ...      ...      ...      ...      ...  \n",
       "4375               57       22       18       11        6  \n",
       "4376             5883     1637     1181     1523     1542  \n",
       "4377             5817     1625     1174     1508     1510  \n",
       "4378              753      190      148      220      195  \n",
       "4379              459      110       86      145      118  \n",
       "\n",
       "[4380 rows x 7 columns]"
      ]
     },
     "execution_count": 15,
     "metadata": {},
     "output_type": "execute_result"
    }
   ],
   "source": [
    "human"
   ]
  },
  {
   "cell_type": "code",
   "execution_count": 16,
   "id": "285c6286",
   "metadata": {},
   "outputs": [
    {
     "data": {
      "text/html": [
       "<div>\n",
       "<style scoped>\n",
       "    .dataframe tbody tr th:only-of-type {\n",
       "        vertical-align: middle;\n",
       "    }\n",
       "\n",
       "    .dataframe tbody tr th {\n",
       "        vertical-align: top;\n",
       "    }\n",
       "\n",
       "    .dataframe thead th {\n",
       "        text-align: right;\n",
       "    }\n",
       "</style>\n",
       "<table border=\"1\" class=\"dataframe\">\n",
       "  <thead>\n",
       "    <tr style=\"text-align: right;\">\n",
       "      <th></th>\n",
       "      <th>sequence_length</th>\n",
       "      <th>A_count</th>\n",
       "      <th>T_count</th>\n",
       "      <th>G_count</th>\n",
       "      <th>C_count</th>\n",
       "    </tr>\n",
       "    <tr>\n",
       "      <th>class</th>\n",
       "      <th></th>\n",
       "      <th></th>\n",
       "      <th></th>\n",
       "      <th></th>\n",
       "      <th></th>\n",
       "    </tr>\n",
       "  </thead>\n",
       "  <tbody>\n",
       "    <tr>\n",
       "      <th>0</th>\n",
       "      <td>829609</td>\n",
       "      <td>196652</td>\n",
       "      <td>203581</td>\n",
       "      <td>205792</td>\n",
       "      <td>223536</td>\n",
       "    </tr>\n",
       "    <tr>\n",
       "      <th>1</th>\n",
       "      <td>777626</td>\n",
       "      <td>181489</td>\n",
       "      <td>164836</td>\n",
       "      <td>219718</td>\n",
       "      <td>211535</td>\n",
       "    </tr>\n",
       "    <tr>\n",
       "      <th>2</th>\n",
       "      <td>642305</td>\n",
       "      <td>177035</td>\n",
       "      <td>146343</td>\n",
       "      <td>158830</td>\n",
       "      <td>160058</td>\n",
       "    </tr>\n",
       "    <tr>\n",
       "      <th>3</th>\n",
       "      <td>679350</td>\n",
       "      <td>170697</td>\n",
       "      <td>152384</td>\n",
       "      <td>186412</td>\n",
       "      <td>169764</td>\n",
       "    </tr>\n",
       "    <tr>\n",
       "      <th>4</th>\n",
       "      <td>623455</td>\n",
       "      <td>150443</td>\n",
       "      <td>138576</td>\n",
       "      <td>172174</td>\n",
       "      <td>162154</td>\n",
       "    </tr>\n",
       "    <tr>\n",
       "      <th>5</th>\n",
       "      <td>466647</td>\n",
       "      <td>120161</td>\n",
       "      <td>108260</td>\n",
       "      <td>120063</td>\n",
       "      <td>118130</td>\n",
       "    </tr>\n",
       "    <tr>\n",
       "      <th>6</th>\n",
       "      <td>1515570</td>\n",
       "      <td>405682</td>\n",
       "      <td>308520</td>\n",
       "      <td>390115</td>\n",
       "      <td>411092</td>\n",
       "    </tr>\n",
       "  </tbody>\n",
       "</table>\n",
       "</div>"
      ],
      "text/plain": [
       "       sequence_length  A_count  T_count  G_count  C_count\n",
       "class                                                     \n",
       "0               829609   196652   203581   205792   223536\n",
       "1               777626   181489   164836   219718   211535\n",
       "2               642305   177035   146343   158830   160058\n",
       "3               679350   170697   152384   186412   169764\n",
       "4               623455   150443   138576   172174   162154\n",
       "5               466647   120161   108260   120063   118130\n",
       "6              1515570   405682   308520   390115   411092"
      ]
     },
     "execution_count": 16,
     "metadata": {},
     "output_type": "execute_result"
    }
   ],
   "source": [
    "human.groupby(by=['class']).sum()"
   ]
  },
  {
   "cell_type": "code",
   "execution_count": 17,
   "id": "c8cc8825",
   "metadata": {},
   "outputs": [
    {
     "data": {
      "text/plain": [
       "<Figure size 864x432 with 0 Axes>"
      ]
     },
     "metadata": {},
     "output_type": "display_data"
    },
    {
     "data": {
      "image/png": "[encoded data removed]",
      "text/plain": [
       "<Figure size 864x432 with 1 Axes>"
      ]
     },
     "metadata": {
      "needs_background": "light"
     },
     "output_type": "display_data"
    }
   ],
   "source": [
    "plt.figure(figsize=(12, 6))\n",
    "human.groupby(by=['class']).sum().drop(columns=['sequence_length']).plot(kind='barh', figsize=(12, 6));\n",
    "plt.title('Number of A, T, G, and C in human DNA dataset', fontsize = 16)\n",
    "plt.xlabel('Nucleotide Count', fontsize = 12)\n",
    "plt.ylabel('Gene family Class', fontsize = 12)\n",
    "plt.legend(fontsize=12)\n",
    "plt.xticks(fontsize=12)\n",
    "plt.yticks(fontsize=12);"
   ]
  },
  {
   "cell_type": "code",
   "execution_count": 45,
   "id": "497cfbea",
   "metadata": {},
   "outputs": [],
   "source": [
    "human.to_csv('../outputs/processed_human_sequence.csv', header=human.columns, index_label=False)"
   ]
  },
  {
   "cell_type": "markdown",
   "id": "967e25a2",
   "metadata": {},
   "source": [
    "---"
   ]
  },
  {
   "cell_type": "markdown",
   "id": "fd353a02",
   "metadata": {},
   "source": [
    "# |||||||||||||||||||||||||||||||||||||||||||||||||||||||||||||||||||||||||||||||||||||||||||||||||||||||||||||||||||||||||||||||||||||||||||||||||||||\n",
    "# Dataset 2: Chimpanzee dataset\n",
    "# |||||||||||||||||||||||||||||||||||||||||||||||||||||||||||||||||||||||||||||||||||||||||||||||||||||||||||||||||||||||||||||||||||||||||||||||||||||\n"
   ]
  },
  {
   "cell_type": "code",
   "execution_count": 18,
   "id": "d841873d",
   "metadata": {},
   "outputs": [
    {
     "data": {
      "text/html": [
       "<div>\n",
       "<style scoped>\n",
       "    .dataframe tbody tr th:only-of-type {\n",
       "        vertical-align: middle;\n",
       "    }\n",
       "\n",
       "    .dataframe tbody tr th {\n",
       "        vertical-align: top;\n",
       "    }\n",
       "\n",
       "    .dataframe thead th {\n",
       "        text-align: right;\n",
       "    }\n",
       "</style>\n",
       "<table border=\"1\" class=\"dataframe\">\n",
       "  <thead>\n",
       "    <tr style=\"text-align: right;\">\n",
       "      <th></th>\n",
       "      <th>sequence</th>\n",
       "      <th>class</th>\n",
       "    </tr>\n",
       "  </thead>\n",
       "  <tbody>\n",
       "    <tr>\n",
       "      <th>0</th>\n",
       "      <td>ATGCCCCAACTAAATACCGCCGTATGACCCACCATAATTACCCCCA...</td>\n",
       "      <td>4</td>\n",
       "    </tr>\n",
       "    <tr>\n",
       "      <th>1</th>\n",
       "      <td>ATGAACGAAAATCTATTCGCTTCATTCGCTGCCCCCACAATCCTAG...</td>\n",
       "      <td>4</td>\n",
       "    </tr>\n",
       "    <tr>\n",
       "      <th>2</th>\n",
       "      <td>ATGGCCTCGCGCTGGTGGCGGTGGCGACGCGGCTGCTCCTGGAGGC...</td>\n",
       "      <td>4</td>\n",
       "    </tr>\n",
       "    <tr>\n",
       "      <th>3</th>\n",
       "      <td>ATGGCCTCGCGCTGGTGGCGGTGGCGACGCGGCTGCTCCTGGAGGC...</td>\n",
       "      <td>4</td>\n",
       "    </tr>\n",
       "    <tr>\n",
       "      <th>4</th>\n",
       "      <td>ATGGGCAGCGCCAGCCCGGGTCTGAGCAGCGTGTCCCCCAGCCACC...</td>\n",
       "      <td>6</td>\n",
       "    </tr>\n",
       "    <tr>\n",
       "      <th>...</th>\n",
       "      <td>...</td>\n",
       "      <td>...</td>\n",
       "    </tr>\n",
       "    <tr>\n",
       "      <th>1677</th>\n",
       "      <td>ATGCTGAGCGGAGCGGCTGGGGCTGCGCGGCGTGGCGGAGCAGCGC...</td>\n",
       "      <td>5</td>\n",
       "    </tr>\n",
       "    <tr>\n",
       "      <th>1678</th>\n",
       "      <td>ATGCTGAGCGGAGCGGCTGGGGCTGCGCGGCGTGGCGGAGCAGCGC...</td>\n",
       "      <td>5</td>\n",
       "    </tr>\n",
       "    <tr>\n",
       "      <th>1679</th>\n",
       "      <td>ATGAAGCGACCCAAGGAGCCGAGCGGCTCCGACGGGGAGTCCGACG...</td>\n",
       "      <td>6</td>\n",
       "    </tr>\n",
       "    <tr>\n",
       "      <th>1680</th>\n",
       "      <td>ATGACTGGAACCCCAAAGACTCAAGAAGGAGCTAAAGATCTTGAAG...</td>\n",
       "      <td>3</td>\n",
       "    </tr>\n",
       "    <tr>\n",
       "      <th>1681</th>\n",
       "      <td>ATGTTGCCCAGCTGTGGCAAGATCTTGACTGGGTGTAAGAATATGC...</td>\n",
       "      <td>3</td>\n",
       "    </tr>\n",
       "  </tbody>\n",
       "</table>\n",
       "<p>1682 rows × 2 columns</p>\n",
       "</div>"
      ],
      "text/plain": [
       "                                               sequence  class\n",
       "0     ATGCCCCAACTAAATACCGCCGTATGACCCACCATAATTACCCCCA...      4\n",
       "1     ATGAACGAAAATCTATTCGCTTCATTCGCTGCCCCCACAATCCTAG...      4\n",
       "2     ATGGCCTCGCGCTGGTGGCGGTGGCGACGCGGCTGCTCCTGGAGGC...      4\n",
       "3     ATGGCCTCGCGCTGGTGGCGGTGGCGACGCGGCTGCTCCTGGAGGC...      4\n",
       "4     ATGGGCAGCGCCAGCCCGGGTCTGAGCAGCGTGTCCCCCAGCCACC...      6\n",
       "...                                                 ...    ...\n",
       "1677  ATGCTGAGCGGAGCGGCTGGGGCTGCGCGGCGTGGCGGAGCAGCGC...      5\n",
       "1678  ATGCTGAGCGGAGCGGCTGGGGCTGCGCGGCGTGGCGGAGCAGCGC...      5\n",
       "1679  ATGAAGCGACCCAAGGAGCCGAGCGGCTCCGACGGGGAGTCCGACG...      6\n",
       "1680  ATGACTGGAACCCCAAAGACTCAAGAAGGAGCTAAAGATCTTGAAG...      3\n",
       "1681  ATGTTGCCCAGCTGTGGCAAGATCTTGACTGGGTGTAAGAATATGC...      3\n",
       "\n",
       "[1682 rows x 2 columns]"
      ]
     },
     "execution_count": 18,
     "metadata": {},
     "output_type": "execute_result"
    }
   ],
   "source": [
    "# Load datasets\n",
    "chimpanzee = pd.read_table('../datasets/chimpanzee.txt')\n",
    "chimpanzee"
   ]
  },
  {
   "cell_type": "markdown",
   "id": "09f4f510",
   "metadata": {},
   "source": [
    "### check number of observations/DNA Sequences"
   ]
  },
  {
   "cell_type": "code",
   "execution_count": 19,
   "id": "c03c0122",
   "metadata": {},
   "outputs": [
    {
     "data": {
      "text/plain": [
       "(1682, 2)"
      ]
     },
     "execution_count": 19,
     "metadata": {},
     "output_type": "execute_result"
    }
   ],
   "source": [
    "chimpanzee.shape"
   ]
  },
  {
   "cell_type": "code",
   "execution_count": 20,
   "id": "cae8ad6b",
   "metadata": {},
   "outputs": [
    {
     "data": {
      "text/plain": [
       "sequence    object\n",
       "class        int64\n",
       "dtype: object"
      ]
     },
     "execution_count": 20,
     "metadata": {},
     "output_type": "execute_result"
    }
   ],
   "source": [
    "chimpanzee.dtypes"
   ]
  },
  {
   "cell_type": "markdown",
   "id": "60d6555e",
   "metadata": {},
   "source": [
    "### check/drop Null data"
   ]
  },
  {
   "cell_type": "code",
   "execution_count": 21,
   "id": "1f0b51ec",
   "metadata": {},
   "outputs": [
    {
     "data": {
      "text/plain": [
       "sequence    0\n",
       "class       0\n",
       "dtype: int64"
      ]
     },
     "execution_count": 21,
     "metadata": {},
     "output_type": "execute_result"
    }
   ],
   "source": [
    "chimpanzee.isnull().sum()"
   ]
  },
  {
   "cell_type": "markdown",
   "id": "6dd4500b",
   "metadata": {},
   "source": [
    "### count the number of characters in each Chimpanzee Seqeunce"
   ]
  },
  {
   "cell_type": "code",
   "execution_count": 22,
   "id": "55e3ab4a",
   "metadata": {},
   "outputs": [],
   "source": [
    "chimpanzee['sequence_length'] = chimpanzee['sequence'].str.len()"
   ]
  },
  {
   "cell_type": "code",
   "execution_count": 24,
   "id": "fd1226cd",
   "metadata": {},
   "outputs": [
    {
     "data": {
      "image/png": "[encoded data removed]",
      "text/plain": [
       "<Figure size 864x288 with 1 Axes>"
      ]
     },
     "metadata": {
      "needs_background": "light"
     },
     "output_type": "display_data"
    }
   ],
   "source": [
    "plt.figure(figsize = (12,4))\n",
    "plt.title('Chimpanzee DNA sequence dataset', fontsize = 16)\n",
    "plt.barh(chimpanzee['class'], chimpanzee['sequence_length'])\n",
    "plt.xlabel('Nucleotide Count', fontsize = 12)\n",
    "plt.ylabel('Gene family Class', fontsize = 12)\n",
    "plt.xticks(fontsize=12)\n",
    "plt.yticks(fontsize=12);"
   ]
  },
  {
   "cell_type": "code",
   "execution_count": 25,
   "id": "a1523b22",
   "metadata": {},
   "outputs": [
    {
     "data": {
      "image/png": "[encoded data removed]",
      "text/plain": [
       "<Figure size 864x432 with 1 Axes>"
      ]
     },
     "metadata": {
      "needs_background": "light"
     },
     "output_type": "display_data"
    }
   ],
   "source": [
    "fig, ax = plt.subplots(figsize=(12, 6))\n",
    "plt.title('Chimpanzee DNA sequence dataset', fontsize = 16)\n",
    "sns.barplot(x='class', y='sequence_length', data= chimpanzee)\n",
    "plt.ylabel('Nucleotide Count', fontsize = 12)\n",
    "plt.xlabel('Gene family Class', fontsize = 12)\n",
    "plt.xticks(fontsize=12)\n",
    "plt.yticks(fontsize=12);"
   ]
  },
  {
   "cell_type": "markdown",
   "id": "675d81f8",
   "metadata": {},
   "source": [
    "### Count the number of A, T, G, and C nucleotide in each sequence and each class"
   ]
  },
  {
   "cell_type": "code",
   "execution_count": 26,
   "id": "8645c0dd",
   "metadata": {},
   "outputs": [],
   "source": [
    "# in the original post\n",
    "chimpanzee['A_count'] = [seq.count('A') for seq in chimpanzee['sequence']]\n",
    "chimpanzee['T_count'] = [seq.count('T') for seq in chimpanzee['sequence']]\n",
    "chimpanzee['G_count'] = [seq.count('G') for seq in chimpanzee['sequence']]\n",
    "chimpanzee['C_count'] = [seq.count('C') for seq in chimpanzee['sequence']]"
   ]
  },
  {
   "cell_type": "code",
   "execution_count": 27,
   "id": "9467c6b7",
   "metadata": {},
   "outputs": [
    {
     "data": {
      "text/html": [
       "<div>\n",
       "<style scoped>\n",
       "    .dataframe tbody tr th:only-of-type {\n",
       "        vertical-align: middle;\n",
       "    }\n",
       "\n",
       "    .dataframe tbody tr th {\n",
       "        vertical-align: top;\n",
       "    }\n",
       "\n",
       "    .dataframe thead th {\n",
       "        text-align: right;\n",
       "    }\n",
       "</style>\n",
       "<table border=\"1\" class=\"dataframe\">\n",
       "  <thead>\n",
       "    <tr style=\"text-align: right;\">\n",
       "      <th></th>\n",
       "      <th>sequence</th>\n",
       "      <th>class</th>\n",
       "      <th>sequence_length</th>\n",
       "      <th>A_count</th>\n",
       "      <th>T_count</th>\n",
       "      <th>G_count</th>\n",
       "      <th>C_count</th>\n",
       "    </tr>\n",
       "  </thead>\n",
       "  <tbody>\n",
       "    <tr>\n",
       "      <th>0</th>\n",
       "      <td>ATGCCCCAACTAAATACCGCCGTATGACCCACCATAATTACCCCCA...</td>\n",
       "      <td>4</td>\n",
       "      <td>207</td>\n",
       "      <td>79</td>\n",
       "      <td>45</td>\n",
       "      <td>14</td>\n",
       "      <td>69</td>\n",
       "    </tr>\n",
       "    <tr>\n",
       "      <th>1</th>\n",
       "      <td>ATGAACGAAAATCTATTCGCTTCATTCGCTGCCCCCACAATCCTAG...</td>\n",
       "      <td>4</td>\n",
       "      <td>681</td>\n",
       "      <td>204</td>\n",
       "      <td>179</td>\n",
       "      <td>74</td>\n",
       "      <td>224</td>\n",
       "    </tr>\n",
       "    <tr>\n",
       "      <th>2</th>\n",
       "      <td>ATGGCCTCGCGCTGGTGGCGGTGGCGACGCGGCTGCTCCTGGAGGC...</td>\n",
       "      <td>4</td>\n",
       "      <td>1248</td>\n",
       "      <td>353</td>\n",
       "      <td>302</td>\n",
       "      <td>306</td>\n",
       "      <td>287</td>\n",
       "    </tr>\n",
       "    <tr>\n",
       "      <th>3</th>\n",
       "      <td>ATGGCCTCGCGCTGGTGGCGGTGGCGACGCGGCTGCTCCTGGAGGC...</td>\n",
       "      <td>4</td>\n",
       "      <td>1239</td>\n",
       "      <td>348</td>\n",
       "      <td>297</td>\n",
       "      <td>307</td>\n",
       "      <td>287</td>\n",
       "    </tr>\n",
       "    <tr>\n",
       "      <th>4</th>\n",
       "      <td>ATGGGCAGCGCCAGCCCGGGTCTGAGCAGCGTGTCCCCCAGCCACC...</td>\n",
       "      <td>6</td>\n",
       "      <td>1008</td>\n",
       "      <td>202</td>\n",
       "      <td>163</td>\n",
       "      <td>322</td>\n",
       "      <td>321</td>\n",
       "    </tr>\n",
       "  </tbody>\n",
       "</table>\n",
       "</div>"
      ],
      "text/plain": [
       "                                            sequence  class  sequence_length  \\\n",
       "0  ATGCCCCAACTAAATACCGCCGTATGACCCACCATAATTACCCCCA...      4              207   \n",
       "1  ATGAACGAAAATCTATTCGCTTCATTCGCTGCCCCCACAATCCTAG...      4              681   \n",
       "2  ATGGCCTCGCGCTGGTGGCGGTGGCGACGCGGCTGCTCCTGGAGGC...      4             1248   \n",
       "3  ATGGCCTCGCGCTGGTGGCGGTGGCGACGCGGCTGCTCCTGGAGGC...      4             1239   \n",
       "4  ATGGGCAGCGCCAGCCCGGGTCTGAGCAGCGTGTCCCCCAGCCACC...      6             1008   \n",
       "\n",
       "   A_count  T_count  G_count  C_count  \n",
       "0       79       45       14       69  \n",
       "1      204      179       74      224  \n",
       "2      353      302      306      287  \n",
       "3      348      297      307      287  \n",
       "4      202      163      322      321  "
      ]
     },
     "execution_count": 27,
     "metadata": {},
     "output_type": "execute_result"
    }
   ],
   "source": [
    "chimpanzee.head()"
   ]
  },
  {
   "cell_type": "code",
   "execution_count": 28,
   "id": "2460c5cb",
   "metadata": {},
   "outputs": [
    {
     "data": {
      "text/html": [
       "<div>\n",
       "<style scoped>\n",
       "    .dataframe tbody tr th:only-of-type {\n",
       "        vertical-align: middle;\n",
       "    }\n",
       "\n",
       "    .dataframe tbody tr th {\n",
       "        vertical-align: top;\n",
       "    }\n",
       "\n",
       "    .dataframe thead th {\n",
       "        text-align: right;\n",
       "    }\n",
       "</style>\n",
       "<table border=\"1\" class=\"dataframe\">\n",
       "  <thead>\n",
       "    <tr style=\"text-align: right;\">\n",
       "      <th></th>\n",
       "      <th>sequence_length</th>\n",
       "      <th>A_count</th>\n",
       "      <th>T_count</th>\n",
       "      <th>G_count</th>\n",
       "      <th>C_count</th>\n",
       "    </tr>\n",
       "    <tr>\n",
       "      <th>class</th>\n",
       "      <th></th>\n",
       "      <th></th>\n",
       "      <th></th>\n",
       "      <th></th>\n",
       "      <th></th>\n",
       "    </tr>\n",
       "  </thead>\n",
       "  <tbody>\n",
       "    <tr>\n",
       "      <th>0</th>\n",
       "      <td>538560</td>\n",
       "      <td>128303</td>\n",
       "      <td>131459</td>\n",
       "      <td>133078</td>\n",
       "      <td>145662</td>\n",
       "    </tr>\n",
       "    <tr>\n",
       "      <th>1</th>\n",
       "      <td>466314</td>\n",
       "      <td>115383</td>\n",
       "      <td>100043</td>\n",
       "      <td>127003</td>\n",
       "      <td>123885</td>\n",
       "    </tr>\n",
       "    <tr>\n",
       "      <th>2</th>\n",
       "      <td>408855</td>\n",
       "      <td>111425</td>\n",
       "      <td>92433</td>\n",
       "      <td>101700</td>\n",
       "      <td>103297</td>\n",
       "    </tr>\n",
       "    <tr>\n",
       "      <th>3</th>\n",
       "      <td>372825</td>\n",
       "      <td>96580</td>\n",
       "      <td>84977</td>\n",
       "      <td>100964</td>\n",
       "      <td>90199</td>\n",
       "    </tr>\n",
       "    <tr>\n",
       "      <th>4</th>\n",
       "      <td>363477</td>\n",
       "      <td>87034</td>\n",
       "      <td>81555</td>\n",
       "      <td>99792</td>\n",
       "      <td>95096</td>\n",
       "    </tr>\n",
       "    <tr>\n",
       "      <th>5</th>\n",
       "      <td>335088</td>\n",
       "      <td>86378</td>\n",
       "      <td>78079</td>\n",
       "      <td>85576</td>\n",
       "      <td>85055</td>\n",
       "    </tr>\n",
       "    <tr>\n",
       "      <th>6</th>\n",
       "      <td>768081</td>\n",
       "      <td>204337</td>\n",
       "      <td>156143</td>\n",
       "      <td>198005</td>\n",
       "      <td>209596</td>\n",
       "    </tr>\n",
       "  </tbody>\n",
       "</table>\n",
       "</div>"
      ],
      "text/plain": [
       "       sequence_length  A_count  T_count  G_count  C_count\n",
       "class                                                     \n",
       "0               538560   128303   131459   133078   145662\n",
       "1               466314   115383   100043   127003   123885\n",
       "2               408855   111425    92433   101700   103297\n",
       "3               372825    96580    84977   100964    90199\n",
       "4               363477    87034    81555    99792    95096\n",
       "5               335088    86378    78079    85576    85055\n",
       "6               768081   204337   156143   198005   209596"
      ]
     },
     "execution_count": 28,
     "metadata": {},
     "output_type": "execute_result"
    }
   ],
   "source": [
    "chimpanzee.groupby(by=['class']).sum()"
   ]
  },
  {
   "cell_type": "code",
   "execution_count": 29,
   "id": "7242be56",
   "metadata": {},
   "outputs": [
    {
     "data": {
      "text/plain": [
       "<Figure size 864x432 with 0 Axes>"
      ]
     },
     "metadata": {},
     "output_type": "display_data"
    },
    {
     "data": {
      "image/png": "[encoded data removed]",
      "text/plain": [
       "<Figure size 864x432 with 1 Axes>"
      ]
     },
     "metadata": {
      "needs_background": "light"
     },
     "output_type": "display_data"
    }
   ],
   "source": [
    "plt.figure(figsize=(12, 6))\n",
    "chimpanzee.groupby(by=['class']).sum().drop(columns=['sequence_length']).plot(kind='barh', figsize=(12, 6));\n",
    "plt.title('Number of A, T, G, and C in human DNA dataset', fontsize = 16)\n",
    "plt.xlabel('Nucleotide Count', fontsize = 12)\n",
    "plt.ylabel('Gene Family Class', fontsize = 12)\n",
    "plt.legend(fontsize=12)\n",
    "plt.xticks(fontsize=12)\n",
    "plt.yticks(fontsize=12);"
   ]
  },
  {
   "cell_type": "code",
   "execution_count": 46,
   "id": "f57a5884",
   "metadata": {},
   "outputs": [],
   "source": [
    "chimpanzee.to_csv('../outputs/processed_chimpanzee_sequence.csv', header=chimpanzee.columns, index_label=False)"
   ]
  },
  {
   "cell_type": "markdown",
   "id": "65bb7464",
   "metadata": {},
   "source": [
    "# |||||||||||||||||||||||||||||||||||||||||||||||||||||||||||||||||||||||||||||||||||||||||||||||||||||||||||||||||||||||||||||||||||||||||||||||||||||\n",
    "# Dataset 3: Dog dataset\n",
    "# |||||||||||||||||||||||||||||||||||||||||||||||||||||||||||||||||||||||||||||||||||||||||||||||||||||||||||||||||||||||||||||||||||||||||||||||||||||\n"
   ]
  },
  {
   "cell_type": "code",
   "execution_count": 30,
   "id": "fb64361e",
   "metadata": {},
   "outputs": [
    {
     "data": {
      "text/html": [
       "<div>\n",
       "<style scoped>\n",
       "    .dataframe tbody tr th:only-of-type {\n",
       "        vertical-align: middle;\n",
       "    }\n",
       "\n",
       "    .dataframe tbody tr th {\n",
       "        vertical-align: top;\n",
       "    }\n",
       "\n",
       "    .dataframe thead th {\n",
       "        text-align: right;\n",
       "    }\n",
       "</style>\n",
       "<table border=\"1\" class=\"dataframe\">\n",
       "  <thead>\n",
       "    <tr style=\"text-align: right;\">\n",
       "      <th></th>\n",
       "      <th>sequence</th>\n",
       "      <th>class</th>\n",
       "    </tr>\n",
       "  </thead>\n",
       "  <tbody>\n",
       "    <tr>\n",
       "      <th>0</th>\n",
       "      <td>ATGCCACAGCTAGATACATCCACCTGATTTATTATAATCTTTTCAA...</td>\n",
       "      <td>4</td>\n",
       "    </tr>\n",
       "    <tr>\n",
       "      <th>1</th>\n",
       "      <td>ATGAACGAAAATCTATTCGCTTCTTTCGCTGCCCCCTCAATAATAG...</td>\n",
       "      <td>4</td>\n",
       "    </tr>\n",
       "    <tr>\n",
       "      <th>2</th>\n",
       "      <td>ATGGAAACACCCTTCTACGGCGATGAGGCGCTGAGCGGCCTGGGCG...</td>\n",
       "      <td>6</td>\n",
       "    </tr>\n",
       "    <tr>\n",
       "      <th>3</th>\n",
       "      <td>ATGTGCACTAAAATGGAACAGCCCTTCTACCACGACGACTCATACG...</td>\n",
       "      <td>6</td>\n",
       "    </tr>\n",
       "    <tr>\n",
       "      <th>4</th>\n",
       "      <td>ATGAGCCGGCAGCTAAACAGAAGCCAGAACTGCTCCTTCAGTGACG...</td>\n",
       "      <td>0</td>\n",
       "    </tr>\n",
       "    <tr>\n",
       "      <th>...</th>\n",
       "      <td>...</td>\n",
       "      <td>...</td>\n",
       "    </tr>\n",
       "    <tr>\n",
       "      <th>815</th>\n",
       "      <td>ATGGTCGGTCCGGAGAAGGAGCAGAGCTGGATCCCTAAGATCTTCA...</td>\n",
       "      <td>5</td>\n",
       "    </tr>\n",
       "    <tr>\n",
       "      <th>816</th>\n",
       "      <td>ATGGCGGCGACGGTGGCTGCGGCGGCCGCCGACGCGGGGCCGGGGG...</td>\n",
       "      <td>6</td>\n",
       "    </tr>\n",
       "    <tr>\n",
       "      <th>817</th>\n",
       "      <td>ATGAGCTCGGCCGACAAGGCCCGGGTGGGGCCCGCGGCCGACGGGC...</td>\n",
       "      <td>6</td>\n",
       "    </tr>\n",
       "    <tr>\n",
       "      <th>818</th>\n",
       "      <td>GCCCCGAGGATGGGCAGGGTCCCGCTGGCCTGGTGCTTGGCGCTGT...</td>\n",
       "      <td>1</td>\n",
       "    </tr>\n",
       "    <tr>\n",
       "      <th>819</th>\n",
       "      <td>ATGGCCTGGGCTCTGAAGCTGCCCCTGGCCGACGAAGTGATTGAAT...</td>\n",
       "      <td>6</td>\n",
       "    </tr>\n",
       "  </tbody>\n",
       "</table>\n",
       "<p>820 rows × 2 columns</p>\n",
       "</div>"
      ],
      "text/plain": [
       "                                              sequence  class\n",
       "0    ATGCCACAGCTAGATACATCCACCTGATTTATTATAATCTTTTCAA...      4\n",
       "1    ATGAACGAAAATCTATTCGCTTCTTTCGCTGCCCCCTCAATAATAG...      4\n",
       "2    ATGGAAACACCCTTCTACGGCGATGAGGCGCTGAGCGGCCTGGGCG...      6\n",
       "3    ATGTGCACTAAAATGGAACAGCCCTTCTACCACGACGACTCATACG...      6\n",
       "4    ATGAGCCGGCAGCTAAACAGAAGCCAGAACTGCTCCTTCAGTGACG...      0\n",
       "..                                                 ...    ...\n",
       "815  ATGGTCGGTCCGGAGAAGGAGCAGAGCTGGATCCCTAAGATCTTCA...      5\n",
       "816  ATGGCGGCGACGGTGGCTGCGGCGGCCGCCGACGCGGGGCCGGGGG...      6\n",
       "817  ATGAGCTCGGCCGACAAGGCCCGGGTGGGGCCCGCGGCCGACGGGC...      6\n",
       "818  GCCCCGAGGATGGGCAGGGTCCCGCTGGCCTGGTGCTTGGCGCTGT...      1\n",
       "819  ATGGCCTGGGCTCTGAAGCTGCCCCTGGCCGACGAAGTGATTGAAT...      6\n",
       "\n",
       "[820 rows x 2 columns]"
      ]
     },
     "execution_count": 30,
     "metadata": {},
     "output_type": "execute_result"
    }
   ],
   "source": [
    "# Load datasets\n",
    "dog = pd.read_table('../datasets/dog.txt')\n",
    "dog"
   ]
  },
  {
   "cell_type": "markdown",
   "id": "8ab0404b",
   "metadata": {},
   "source": [
    "### check number of observations/DNA Sequences"
   ]
  },
  {
   "cell_type": "code",
   "execution_count": 31,
   "id": "a0e4ec97",
   "metadata": {},
   "outputs": [
    {
     "data": {
      "text/plain": [
       "(820, 2)"
      ]
     },
     "execution_count": 31,
     "metadata": {},
     "output_type": "execute_result"
    }
   ],
   "source": [
    "dog.shape"
   ]
  },
  {
   "cell_type": "code",
   "execution_count": 32,
   "id": "39dd1a45",
   "metadata": {},
   "outputs": [
    {
     "data": {
      "text/plain": [
       "sequence    object\n",
       "class        int64\n",
       "dtype: object"
      ]
     },
     "execution_count": 32,
     "metadata": {},
     "output_type": "execute_result"
    }
   ],
   "source": [
    "dog.dtypes"
   ]
  },
  {
   "cell_type": "markdown",
   "id": "dda55142",
   "metadata": {},
   "source": [
    "### count the number of characters in each Chimpanzee Seqeunce"
   ]
  },
  {
   "cell_type": "code",
   "execution_count": 33,
   "id": "9a016db2",
   "metadata": {},
   "outputs": [],
   "source": [
    "dog['sequence_length'] = dog['sequence'].str.len()"
   ]
  },
  {
   "cell_type": "code",
   "execution_count": 34,
   "id": "def4605f",
   "metadata": {},
   "outputs": [
    {
     "data": {
      "image/png": "[encoded data removed]",
      "text/plain": [
       "<Figure size 864x288 with 1 Axes>"
      ]
     },
     "metadata": {
      "needs_background": "light"
     },
     "output_type": "display_data"
    }
   ],
   "source": [
    "plt.figure(figsize = (12,4))\n",
    "plt.title('Dog DNA sequence dataset', fontsize = 16)\n",
    "plt.barh(dog['class'], dog['sequence_length'])\n",
    "plt.xlabel('Nucleotide Count', fontsize = 12)\n",
    "plt.ylabel('DNA Gene Family Class', fontsize = 12)\n",
    "plt.xticks(fontsize=12)\n",
    "plt.yticks(fontsize=12);"
   ]
  },
  {
   "cell_type": "code",
   "execution_count": 35,
   "id": "63e830c2",
   "metadata": {},
   "outputs": [
    {
     "data": {
      "image/png": "[encoded data removed]",
      "text/plain": [
       "<Figure size 864x432 with 1 Axes>"
      ]
     },
     "metadata": {
      "needs_background": "light"
     },
     "output_type": "display_data"
    }
   ],
   "source": [
    "fig, ax = plt.subplots(figsize=(12, 6))\n",
    "plt.title('Dog DNA sequence dataset', fontsize = 16)\n",
    "sns.barplot(x='class', y='sequence_length', data= dog)\n",
    "plt.ylabel('Nucleotide Count', fontsize = 12)\n",
    "plt.xlabel('DNA Gene Family Class', fontsize = 12)\n",
    "plt.xticks(fontsize=12)\n",
    "plt.yticks(fontsize=12);"
   ]
  },
  {
   "cell_type": "markdown",
   "id": "6cd67125",
   "metadata": {},
   "source": [
    "### Count the number of A, T, G, and C nucleotide in each sequence and each class"
   ]
  },
  {
   "cell_type": "code",
   "execution_count": 36,
   "id": "affbf7cb",
   "metadata": {},
   "outputs": [],
   "source": [
    "# in the original post\n",
    "dog['A_count'] = [seq.count('A') for seq in dog['sequence']]\n",
    "dog['T_count'] = [seq.count('T') for seq in dog['sequence']]\n",
    "dog['G_count'] = [seq.count('G') for seq in dog['sequence']]\n",
    "dog['C_count'] = [seq.count('C') for seq in dog['sequence']]"
   ]
  },
  {
   "cell_type": "code",
   "execution_count": 37,
   "id": "79476f97",
   "metadata": {},
   "outputs": [
    {
     "data": {
      "text/html": [
       "<div>\n",
       "<style scoped>\n",
       "    .dataframe tbody tr th:only-of-type {\n",
       "        vertical-align: middle;\n",
       "    }\n",
       "\n",
       "    .dataframe tbody tr th {\n",
       "        vertical-align: top;\n",
       "    }\n",
       "\n",
       "    .dataframe thead th {\n",
       "        text-align: right;\n",
       "    }\n",
       "</style>\n",
       "<table border=\"1\" class=\"dataframe\">\n",
       "  <thead>\n",
       "    <tr style=\"text-align: right;\">\n",
       "      <th></th>\n",
       "      <th>sequence</th>\n",
       "      <th>class</th>\n",
       "      <th>sequence_length</th>\n",
       "      <th>A_count</th>\n",
       "      <th>T_count</th>\n",
       "      <th>G_count</th>\n",
       "      <th>C_count</th>\n",
       "    </tr>\n",
       "  </thead>\n",
       "  <tbody>\n",
       "    <tr>\n",
       "      <th>0</th>\n",
       "      <td>ATGCCACAGCTAGATACATCCACCTGATTTATTATAATCTTTTCAA...</td>\n",
       "      <td>4</td>\n",
       "      <td>204</td>\n",
       "      <td>71</td>\n",
       "      <td>61</td>\n",
       "      <td>17</td>\n",
       "      <td>55</td>\n",
       "    </tr>\n",
       "    <tr>\n",
       "      <th>1</th>\n",
       "      <td>ATGAACGAAAATCTATTCGCTTCTTTCGCTGCCCCCTCAATAATAG...</td>\n",
       "      <td>4</td>\n",
       "      <td>681</td>\n",
       "      <td>200</td>\n",
       "      <td>210</td>\n",
       "      <td>82</td>\n",
       "      <td>189</td>\n",
       "    </tr>\n",
       "    <tr>\n",
       "      <th>2</th>\n",
       "      <td>ATGGAAACACCCTTCTACGGCGATGAGGCGCTGAGCGGCCTGGGCG...</td>\n",
       "      <td>6</td>\n",
       "      <td>1044</td>\n",
       "      <td>172</td>\n",
       "      <td>126</td>\n",
       "      <td>359</td>\n",
       "      <td>387</td>\n",
       "    </tr>\n",
       "    <tr>\n",
       "      <th>3</th>\n",
       "      <td>ATGTGCACTAAAATGGAACAGCCCTTCTACCACGACGACTCATACG...</td>\n",
       "      <td>6</td>\n",
       "      <td>1044</td>\n",
       "      <td>204</td>\n",
       "      <td>132</td>\n",
       "      <td>340</td>\n",
       "      <td>368</td>\n",
       "    </tr>\n",
       "    <tr>\n",
       "      <th>4</th>\n",
       "      <td>ATGAGCCGGCAGCTAAACAGAAGCCAGAACTGCTCCTTCAGTGACG...</td>\n",
       "      <td>0</td>\n",
       "      <td>966</td>\n",
       "      <td>172</td>\n",
       "      <td>255</td>\n",
       "      <td>242</td>\n",
       "      <td>297</td>\n",
       "    </tr>\n",
       "  </tbody>\n",
       "</table>\n",
       "</div>"
      ],
      "text/plain": [
       "                                            sequence  class  sequence_length  \\\n",
       "0  ATGCCACAGCTAGATACATCCACCTGATTTATTATAATCTTTTCAA...      4              204   \n",
       "1  ATGAACGAAAATCTATTCGCTTCTTTCGCTGCCCCCTCAATAATAG...      4              681   \n",
       "2  ATGGAAACACCCTTCTACGGCGATGAGGCGCTGAGCGGCCTGGGCG...      6             1044   \n",
       "3  ATGTGCACTAAAATGGAACAGCCCTTCTACCACGACGACTCATACG...      6             1044   \n",
       "4  ATGAGCCGGCAGCTAAACAGAAGCCAGAACTGCTCCTTCAGTGACG...      0              966   \n",
       "\n",
       "   A_count  T_count  G_count  C_count  \n",
       "0       71       61       17       55  \n",
       "1      200      210       82      189  \n",
       "2      172      126      359      387  \n",
       "3      204      132      340      368  \n",
       "4      172      255      242      297  "
      ]
     },
     "execution_count": 37,
     "metadata": {},
     "output_type": "execute_result"
    }
   ],
   "source": [
    "dog.head()"
   ]
  },
  {
   "cell_type": "code",
   "execution_count": 38,
   "id": "29eac736",
   "metadata": {},
   "outputs": [
    {
     "data": {
      "text/html": [
       "<div>\n",
       "<style scoped>\n",
       "    .dataframe tbody tr th:only-of-type {\n",
       "        vertical-align: middle;\n",
       "    }\n",
       "\n",
       "    .dataframe tbody tr th {\n",
       "        vertical-align: top;\n",
       "    }\n",
       "\n",
       "    .dataframe thead th {\n",
       "        text-align: right;\n",
       "    }\n",
       "</style>\n",
       "<table border=\"1\" class=\"dataframe\">\n",
       "  <thead>\n",
       "    <tr style=\"text-align: right;\">\n",
       "      <th></th>\n",
       "      <th>sequence_length</th>\n",
       "      <th>A_count</th>\n",
       "      <th>T_count</th>\n",
       "      <th>G_count</th>\n",
       "      <th>C_count</th>\n",
       "    </tr>\n",
       "    <tr>\n",
       "      <th>class</th>\n",
       "      <th></th>\n",
       "      <th></th>\n",
       "      <th></th>\n",
       "      <th></th>\n",
       "      <th></th>\n",
       "    </tr>\n",
       "  </thead>\n",
       "  <tbody>\n",
       "    <tr>\n",
       "      <th>0</th>\n",
       "      <td>284937</td>\n",
       "      <td>65247</td>\n",
       "      <td>67312</td>\n",
       "      <td>73058</td>\n",
       "      <td>79252</td>\n",
       "    </tr>\n",
       "    <tr>\n",
       "      <th>1</th>\n",
       "      <td>194208</td>\n",
       "      <td>48575</td>\n",
       "      <td>41674</td>\n",
       "      <td>52471</td>\n",
       "      <td>51463</td>\n",
       "    </tr>\n",
       "    <tr>\n",
       "      <th>2</th>\n",
       "      <td>201912</td>\n",
       "      <td>53537</td>\n",
       "      <td>43631</td>\n",
       "      <td>51402</td>\n",
       "      <td>53340</td>\n",
       "    </tr>\n",
       "    <tr>\n",
       "      <th>3</th>\n",
       "      <td>189933</td>\n",
       "      <td>47834</td>\n",
       "      <td>42818</td>\n",
       "      <td>52037</td>\n",
       "      <td>47244</td>\n",
       "    </tr>\n",
       "    <tr>\n",
       "      <th>4</th>\n",
       "      <td>210387</td>\n",
       "      <td>50807</td>\n",
       "      <td>46757</td>\n",
       "      <td>57345</td>\n",
       "      <td>55436</td>\n",
       "    </tr>\n",
       "    <tr>\n",
       "      <th>5</th>\n",
       "      <td>165420</td>\n",
       "      <td>41475</td>\n",
       "      <td>39137</td>\n",
       "      <td>42451</td>\n",
       "      <td>42357</td>\n",
       "    </tr>\n",
       "    <tr>\n",
       "      <th>6</th>\n",
       "      <td>418104</td>\n",
       "      <td>107266</td>\n",
       "      <td>81776</td>\n",
       "      <td>111157</td>\n",
       "      <td>117810</td>\n",
       "    </tr>\n",
       "  </tbody>\n",
       "</table>\n",
       "</div>"
      ],
      "text/plain": [
       "       sequence_length  A_count  T_count  G_count  C_count\n",
       "class                                                     \n",
       "0               284937    65247    67312    73058    79252\n",
       "1               194208    48575    41674    52471    51463\n",
       "2               201912    53537    43631    51402    53340\n",
       "3               189933    47834    42818    52037    47244\n",
       "4               210387    50807    46757    57345    55436\n",
       "5               165420    41475    39137    42451    42357\n",
       "6               418104   107266    81776   111157   117810"
      ]
     },
     "execution_count": 38,
     "metadata": {},
     "output_type": "execute_result"
    }
   ],
   "source": [
    "dog.groupby(by=['class']).sum()"
   ]
  },
  {
   "cell_type": "code",
   "execution_count": 39,
   "id": "8a2065e3",
   "metadata": {},
   "outputs": [
    {
     "data": {
      "text/plain": [
       "<Figure size 864x432 with 0 Axes>"
      ]
     },
     "metadata": {},
     "output_type": "display_data"
    },
    {
     "data": {
      "image/png": "[encoded data removed]",
      "text/plain": [
       "<Figure size 864x432 with 1 Axes>"
      ]
     },
     "metadata": {
      "needs_background": "light"
     },
     "output_type": "display_data"
    }
   ],
   "source": [
    "plt.figure(figsize=(12, 6))\n",
    "dog.groupby(by=['class']).sum().drop(columns=['sequence_length']).plot(kind='barh', figsize=(12, 6));\n",
    "plt.title('Number of A, T, G, and C in dog DNA dataset', fontsize = 16)\n",
    "plt.xlabel('Nucleotide Count', fontsize = 12)\n",
    "plt.ylabel('DNA gene family Class', fontsize = 12)\n",
    "plt.legend(fontsize=12)\n",
    "plt.xticks(fontsize=12)\n",
    "plt.yticks(fontsize=12);"
   ]
  },
  {
   "cell_type": "code",
   "execution_count": 42,
   "id": "82e9cc0d",
   "metadata": {},
   "outputs": [],
   "source": [
    "dog.to_csv('../outputs/processed_dog_sequence.csv', header=dog.columns, index_label=False)"
   ]
  },
  {
   "cell_type": "code",
   "execution_count": 44,
   "id": "8b9f72ea",
   "metadata": {},
   "outputs": [],
   "source": [
    "# pd.read_csv('../outputs/processed_dog_sequence.csv')"
   ]
  },
  {
   "cell_type": "code",
   "execution_count": null,
   "id": "b0118e67",
   "metadata": {},
   "outputs": [],
   "source": []
  }
 ],
 "metadata": {
  "kernelspec": {
   "display_name": "Python 3",
   "language": "python",
   "name": "python3"
  },
  "language_info": {
   "codemirror_mode": {
    "name": "ipython",
    "version": 3
   },
   "file_extension": ".py",
   "mimetype": "text/x-python",
   "name": "python",
   "nbconvert_exporter": "python",
   "pygments_lexer": "ipython3",
   "version": "3.9.5"
  }
 },
 "nbformat": 4,
 "nbformat_minor": 5
}
