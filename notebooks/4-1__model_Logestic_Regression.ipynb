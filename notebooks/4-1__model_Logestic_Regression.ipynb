{
 "cells": [
  {
   "cell_type": "markdown",
   "id": "c3bd5d44",
   "metadata": {},
   "source": [
    "# Logestic Regression\n",
    "### Author: Ehsan Gharib-Nezhad\n",
    "\n"
   ]
  },
  {
   "cell_type": "code",
   "execution_count": 6,
   "id": "cb4e2d88",
   "metadata": {},
   "outputs": [],
   "source": [
    "from sklearn.linear_model import LogisticRegression\n",
    "from sklearn.feature_extraction.text import CountVectorizer, TfidfVectorizer\n",
    "from sklearn.model_selection import train_test_split, cross_val_score, GridSearchCV\n",
    "\n",
    "# # Imbalance data Handling ___________________________________________________\n",
    "from imblearn.under_sampling import RandomUnderSampler\n",
    "from imblearn.over_sampling import SMOTE, RandomOverSampler\n",
    "from collections import Counter\n",
    "\n",
    "from myfunctions import *"
   ]
  },
  {
   "cell_type": "code",
   "execution_count": 7,
   "id": "d3ed863f",
   "metadata": {},
   "outputs": [],
   "source": [
    "df = pd.read_csv('../datasets/text_processed_all_posts_combined_imbalanced.csv',index_col=0)\n",
    "is_balanced = False # set True is the dataset is balanced!!! "
   ]
  },
  {
   "cell_type": "code",
   "execution_count": 70,
   "id": "e4b7138d",
   "metadata": {
    "scrolled": false
   },
   "outputs": [],
   "source": [
    "# df[['post','token']].head(50)"
   ]
  },
  {
   "cell_type": "markdown",
   "id": "07648508",
   "metadata": {},
   "source": [
    "### Set up X and Y"
   ]
  },
  {
   "cell_type": "code",
   "execution_count": 9,
   "id": "0c0186b1",
   "metadata": {},
   "outputs": [],
   "source": [
    "X = df['token']\n",
    "y = df['is_Covid19positive']"
   ]
  },
  {
   "cell_type": "code",
   "execution_count": 10,
   "id": "623fba2c",
   "metadata": {},
   "outputs": [
    {
     "data": {
      "text/plain": [
       "1    0.929286\n",
       "0    0.070714\n",
       "Name: is_Covid19positive, dtype: float64"
      ]
     },
     "execution_count": 10,
     "metadata": {},
     "output_type": "execute_result"
    }
   ],
   "source": [
    "#check baseline:\n",
    "\n",
    "y.value_counts(normalize = True)"
   ]
  },
  {
   "cell_type": "markdown",
   "id": "7610e2df",
   "metadata": {},
   "source": [
    "### train test split"
   ]
  },
  {
   "cell_type": "code",
   "execution_count": 11,
   "id": "9018616d",
   "metadata": {},
   "outputs": [],
   "source": [
    "X_train, X_test, y_train, y_test = train_test_split(X, y, \n",
    "                                                    stratify = y, \n",
    "                                                    random_state = 42)"
   ]
  },
  {
   "cell_type": "code",
   "execution_count": 12,
   "id": "963ff506",
   "metadata": {},
   "outputs": [
    {
     "data": {
      "text/plain": [
       "(1    0.929273\n",
       " 0    0.070727\n",
       " Name: is_Covid19positive, dtype: float64,\n",
       " 1    0.929322\n",
       " 0    0.070678\n",
       " Name: is_Covid19positive, dtype: float64)"
      ]
     },
     "execution_count": 12,
     "metadata": {},
     "output_type": "execute_result"
    }
   ],
   "source": [
    "y_train.value_counts(normalize=True), y_test.value_counts(normalize=True)"
   ]
  },
  {
   "cell_type": "markdown",
   "id": "a3b04c17",
   "metadata": {},
   "source": [
    "# ======================================================\n",
    "\n",
    "## Use count vectorizer"
   ]
  },
  {
   "cell_type": "code",
   "execution_count": 13,
   "id": "a6366650",
   "metadata": {},
   "outputs": [],
   "source": [
    "cvec = CountVectorizer()"
   ]
  },
  {
   "cell_type": "code",
   "execution_count": 14,
   "id": "a8363768",
   "metadata": {},
   "outputs": [],
   "source": [
    "Xcv_train = cvec.fit_transform(X_train)\n",
    "Xcv_test  = cvec.transform(X_test)"
   ]
  },
  {
   "cell_type": "markdown",
   "id": "78f20723",
   "metadata": {},
   "source": [
    "## For imbalanced case"
   ]
  },
  {
   "cell_type": "code",
   "execution_count": 15,
   "id": "c65d5ca6",
   "metadata": {},
   "outputs": [],
   "source": [
    "ros = RandomOverSampler()\n",
    "\n",
    "Xcv_train , y_train = ros.fit_resample(Xcv_train, y_train)"
   ]
  },
  {
   "cell_type": "markdown",
   "id": "7726817c",
   "metadata": {},
   "source": [
    "# Logreg / Regulization = L2 (Ridge)"
   ]
  },
  {
   "cell_type": "code",
   "execution_count": 16,
   "id": "ba5a9c7a",
   "metadata": {},
   "outputs": [],
   "source": [
    "logreg_l2 = LogisticRegression(random_state = 42)"
   ]
  },
  {
   "cell_type": "code",
   "execution_count": 17,
   "id": "41837cd7",
   "metadata": {},
   "outputs": [
    {
     "data": {
      "text/plain": [
       "LogisticRegression(random_state=42)"
      ]
     },
     "execution_count": 17,
     "metadata": {},
     "output_type": "execute_result"
    }
   ],
   "source": [
    "logreg_l2.fit(Xcv_train, y_train)"
   ]
  },
  {
   "cell_type": "code",
   "execution_count": 18,
   "id": "5c1b97f3",
   "metadata": {},
   "outputs": [
    {
     "data": {
      "text/plain": [
       "(0.9946038488210819, 0.9670170351576658)"
      ]
     },
     "execution_count": 18,
     "metadata": {},
     "output_type": "execute_result"
    }
   ],
   "source": [
    "# accuracy\n",
    "logreg_l2.score(Xcv_train, y_train), logreg_l2.score(Xcv_test, y_test)"
   ]
  },
  {
   "cell_type": "markdown",
   "id": "0d6a8dec",
   "metadata": {},
   "source": [
    "# Plot Feature Coefficient"
   ]
  },
  {
   "cell_type": "code",
   "execution_count": 19,
   "id": "34454e60",
   "metadata": {},
   "outputs": [],
   "source": [
    "#create a dataframe for our X_train_cv to use later:\n",
    "\n",
    "df_X_train = pd.DataFrame(Xcv_train.todense(), columns=cvec.get_feature_names())"
   ]
  },
  {
   "cell_type": "code",
   "execution_count": 20,
   "id": "3f0911bb",
   "metadata": {},
   "outputs": [
    {
     "data": {
      "text/html": [
       "<div>\n",
       "<style scoped>\n",
       "    .dataframe tbody tr th:only-of-type {\n",
       "        vertical-align: middle;\n",
       "    }\n",
       "\n",
       "    .dataframe tbody tr th {\n",
       "        vertical-align: top;\n",
       "    }\n",
       "\n",
       "    .dataframe thead th {\n",
       "        text-align: right;\n",
       "    }\n",
       "</style>\n",
       "<table border=\"1\" class=\"dataframe\">\n",
       "  <thead>\n",
       "    <tr style=\"text-align: right;\">\n",
       "      <th></th>\n",
       "      <th>aa</th>\n",
       "      <th>aaa</th>\n",
       "      <th>aaaaaaaaaaaaaaaaaaaaaaaaaaaaaaaaaaaaaaaa</th>\n",
       "      <th>aaaaaachooooooo</th>\n",
       "      <th>aaaand</th>\n",
       "      <th>aaargh</th>\n",
       "      <th>ab</th>\n",
       "      <th>aback</th>\n",
       "      <th>abain</th>\n",
       "      <th>abandon</th>\n",
       "      <th>...</th>\n",
       "      <th>zpak</th>\n",
       "      <th>zucchini</th>\n",
       "      <th>zuchinni</th>\n",
       "      <th>zuckersaid</th>\n",
       "      <th>zuid</th>\n",
       "      <th>zurich</th>\n",
       "      <th>zybio</th>\n",
       "      <th>zyrtec</th>\n",
       "      <th>zz</th>\n",
       "      <th>zzzquil</th>\n",
       "    </tr>\n",
       "  </thead>\n",
       "  <tbody>\n",
       "    <tr>\n",
       "      <th>0</th>\n",
       "      <td>0</td>\n",
       "      <td>0</td>\n",
       "      <td>0</td>\n",
       "      <td>0</td>\n",
       "      <td>0</td>\n",
       "      <td>0</td>\n",
       "      <td>0</td>\n",
       "      <td>0</td>\n",
       "      <td>0</td>\n",
       "      <td>0</td>\n",
       "      <td>...</td>\n",
       "      <td>0</td>\n",
       "      <td>0</td>\n",
       "      <td>0</td>\n",
       "      <td>0</td>\n",
       "      <td>0</td>\n",
       "      <td>0</td>\n",
       "      <td>0</td>\n",
       "      <td>0</td>\n",
       "      <td>0</td>\n",
       "      <td>0</td>\n",
       "    </tr>\n",
       "    <tr>\n",
       "      <th>1</th>\n",
       "      <td>0</td>\n",
       "      <td>0</td>\n",
       "      <td>0</td>\n",
       "      <td>0</td>\n",
       "      <td>0</td>\n",
       "      <td>0</td>\n",
       "      <td>0</td>\n",
       "      <td>0</td>\n",
       "      <td>0</td>\n",
       "      <td>0</td>\n",
       "      <td>...</td>\n",
       "      <td>0</td>\n",
       "      <td>0</td>\n",
       "      <td>0</td>\n",
       "      <td>0</td>\n",
       "      <td>0</td>\n",
       "      <td>0</td>\n",
       "      <td>0</td>\n",
       "      <td>0</td>\n",
       "      <td>0</td>\n",
       "      <td>0</td>\n",
       "    </tr>\n",
       "    <tr>\n",
       "      <th>2</th>\n",
       "      <td>0</td>\n",
       "      <td>0</td>\n",
       "      <td>0</td>\n",
       "      <td>0</td>\n",
       "      <td>0</td>\n",
       "      <td>0</td>\n",
       "      <td>0</td>\n",
       "      <td>0</td>\n",
       "      <td>0</td>\n",
       "      <td>0</td>\n",
       "      <td>...</td>\n",
       "      <td>0</td>\n",
       "      <td>0</td>\n",
       "      <td>0</td>\n",
       "      <td>0</td>\n",
       "      <td>0</td>\n",
       "      <td>0</td>\n",
       "      <td>0</td>\n",
       "      <td>0</td>\n",
       "      <td>0</td>\n",
       "      <td>0</td>\n",
       "    </tr>\n",
       "    <tr>\n",
       "      <th>3</th>\n",
       "      <td>0</td>\n",
       "      <td>0</td>\n",
       "      <td>0</td>\n",
       "      <td>0</td>\n",
       "      <td>0</td>\n",
       "      <td>0</td>\n",
       "      <td>0</td>\n",
       "      <td>0</td>\n",
       "      <td>0</td>\n",
       "      <td>0</td>\n",
       "      <td>...</td>\n",
       "      <td>0</td>\n",
       "      <td>0</td>\n",
       "      <td>0</td>\n",
       "      <td>0</td>\n",
       "      <td>0</td>\n",
       "      <td>0</td>\n",
       "      <td>0</td>\n",
       "      <td>0</td>\n",
       "      <td>0</td>\n",
       "      <td>0</td>\n",
       "    </tr>\n",
       "    <tr>\n",
       "      <th>4</th>\n",
       "      <td>0</td>\n",
       "      <td>0</td>\n",
       "      <td>0</td>\n",
       "      <td>0</td>\n",
       "      <td>0</td>\n",
       "      <td>0</td>\n",
       "      <td>0</td>\n",
       "      <td>0</td>\n",
       "      <td>0</td>\n",
       "      <td>0</td>\n",
       "      <td>...</td>\n",
       "      <td>0</td>\n",
       "      <td>0</td>\n",
       "      <td>0</td>\n",
       "      <td>0</td>\n",
       "      <td>0</td>\n",
       "      <td>0</td>\n",
       "      <td>0</td>\n",
       "      <td>0</td>\n",
       "      <td>0</td>\n",
       "      <td>0</td>\n",
       "    </tr>\n",
       "    <tr>\n",
       "      <th>...</th>\n",
       "      <td>...</td>\n",
       "      <td>...</td>\n",
       "      <td>...</td>\n",
       "      <td>...</td>\n",
       "      <td>...</td>\n",
       "      <td>...</td>\n",
       "      <td>...</td>\n",
       "      <td>...</td>\n",
       "      <td>...</td>\n",
       "      <td>...</td>\n",
       "      <td>...</td>\n",
       "      <td>...</td>\n",
       "      <td>...</td>\n",
       "      <td>...</td>\n",
       "      <td>...</td>\n",
       "      <td>...</td>\n",
       "      <td>...</td>\n",
       "      <td>...</td>\n",
       "      <td>...</td>\n",
       "      <td>...</td>\n",
       "      <td>...</td>\n",
       "    </tr>\n",
       "    <tr>\n",
       "      <th>46139</th>\n",
       "      <td>0</td>\n",
       "      <td>0</td>\n",
       "      <td>0</td>\n",
       "      <td>0</td>\n",
       "      <td>0</td>\n",
       "      <td>0</td>\n",
       "      <td>0</td>\n",
       "      <td>0</td>\n",
       "      <td>0</td>\n",
       "      <td>0</td>\n",
       "      <td>...</td>\n",
       "      <td>0</td>\n",
       "      <td>0</td>\n",
       "      <td>0</td>\n",
       "      <td>0</td>\n",
       "      <td>0</td>\n",
       "      <td>0</td>\n",
       "      <td>0</td>\n",
       "      <td>0</td>\n",
       "      <td>0</td>\n",
       "      <td>0</td>\n",
       "    </tr>\n",
       "    <tr>\n",
       "      <th>46140</th>\n",
       "      <td>0</td>\n",
       "      <td>0</td>\n",
       "      <td>0</td>\n",
       "      <td>0</td>\n",
       "      <td>0</td>\n",
       "      <td>0</td>\n",
       "      <td>0</td>\n",
       "      <td>0</td>\n",
       "      <td>0</td>\n",
       "      <td>0</td>\n",
       "      <td>...</td>\n",
       "      <td>0</td>\n",
       "      <td>0</td>\n",
       "      <td>0</td>\n",
       "      <td>0</td>\n",
       "      <td>0</td>\n",
       "      <td>0</td>\n",
       "      <td>0</td>\n",
       "      <td>0</td>\n",
       "      <td>0</td>\n",
       "      <td>0</td>\n",
       "    </tr>\n",
       "    <tr>\n",
       "      <th>46141</th>\n",
       "      <td>0</td>\n",
       "      <td>0</td>\n",
       "      <td>0</td>\n",
       "      <td>0</td>\n",
       "      <td>0</td>\n",
       "      <td>0</td>\n",
       "      <td>0</td>\n",
       "      <td>0</td>\n",
       "      <td>0</td>\n",
       "      <td>0</td>\n",
       "      <td>...</td>\n",
       "      <td>0</td>\n",
       "      <td>0</td>\n",
       "      <td>0</td>\n",
       "      <td>0</td>\n",
       "      <td>0</td>\n",
       "      <td>0</td>\n",
       "      <td>0</td>\n",
       "      <td>0</td>\n",
       "      <td>0</td>\n",
       "      <td>0</td>\n",
       "    </tr>\n",
       "    <tr>\n",
       "      <th>46142</th>\n",
       "      <td>0</td>\n",
       "      <td>0</td>\n",
       "      <td>0</td>\n",
       "      <td>0</td>\n",
       "      <td>0</td>\n",
       "      <td>0</td>\n",
       "      <td>0</td>\n",
       "      <td>0</td>\n",
       "      <td>0</td>\n",
       "      <td>0</td>\n",
       "      <td>...</td>\n",
       "      <td>0</td>\n",
       "      <td>0</td>\n",
       "      <td>0</td>\n",
       "      <td>0</td>\n",
       "      <td>0</td>\n",
       "      <td>0</td>\n",
       "      <td>0</td>\n",
       "      <td>0</td>\n",
       "      <td>0</td>\n",
       "      <td>0</td>\n",
       "    </tr>\n",
       "    <tr>\n",
       "      <th>46143</th>\n",
       "      <td>0</td>\n",
       "      <td>0</td>\n",
       "      <td>0</td>\n",
       "      <td>0</td>\n",
       "      <td>0</td>\n",
       "      <td>0</td>\n",
       "      <td>0</td>\n",
       "      <td>0</td>\n",
       "      <td>0</td>\n",
       "      <td>0</td>\n",
       "      <td>...</td>\n",
       "      <td>0</td>\n",
       "      <td>0</td>\n",
       "      <td>0</td>\n",
       "      <td>0</td>\n",
       "      <td>0</td>\n",
       "      <td>0</td>\n",
       "      <td>0</td>\n",
       "      <td>0</td>\n",
       "      <td>0</td>\n",
       "      <td>0</td>\n",
       "    </tr>\n",
       "  </tbody>\n",
       "</table>\n",
       "<p>46144 rows × 19772 columns</p>\n",
       "</div>"
      ],
      "text/plain": [
       "       aa  aaa  aaaaaaaaaaaaaaaaaaaaaaaaaaaaaaaaaaaaaaaa  aaaaaachooooooo  \\\n",
       "0       0    0                                         0                0   \n",
       "1       0    0                                         0                0   \n",
       "2       0    0                                         0                0   \n",
       "3       0    0                                         0                0   \n",
       "4       0    0                                         0                0   \n",
       "...    ..  ...                                       ...              ...   \n",
       "46139   0    0                                         0                0   \n",
       "46140   0    0                                         0                0   \n",
       "46141   0    0                                         0                0   \n",
       "46142   0    0                                         0                0   \n",
       "46143   0    0                                         0                0   \n",
       "\n",
       "       aaaand  aaargh  ab  aback  abain  abandon  ...  zpak  zucchini  \\\n",
       "0           0       0   0      0      0        0  ...     0         0   \n",
       "1           0       0   0      0      0        0  ...     0         0   \n",
       "2           0       0   0      0      0        0  ...     0         0   \n",
       "3           0       0   0      0      0        0  ...     0         0   \n",
       "4           0       0   0      0      0        0  ...     0         0   \n",
       "...       ...     ...  ..    ...    ...      ...  ...   ...       ...   \n",
       "46139       0       0   0      0      0        0  ...     0         0   \n",
       "46140       0       0   0      0      0        0  ...     0         0   \n",
       "46141       0       0   0      0      0        0  ...     0         0   \n",
       "46142       0       0   0      0      0        0  ...     0         0   \n",
       "46143       0       0   0      0      0        0  ...     0         0   \n",
       "\n",
       "       zuchinni  zuckersaid  zuid  zurich  zybio  zyrtec  zz  zzzquil  \n",
       "0             0           0     0       0      0       0   0        0  \n",
       "1             0           0     0       0      0       0   0        0  \n",
       "2             0           0     0       0      0       0   0        0  \n",
       "3             0           0     0       0      0       0   0        0  \n",
       "4             0           0     0       0      0       0   0        0  \n",
       "...         ...         ...   ...     ...    ...     ...  ..      ...  \n",
       "46139         0           0     0       0      0       0   0        0  \n",
       "46140         0           0     0       0      0       0   0        0  \n",
       "46141         0           0     0       0      0       0   0        0  \n",
       "46142         0           0     0       0      0       0   0        0  \n",
       "46143         0           0     0       0      0       0   0        0  \n",
       "\n",
       "[46144 rows x 19772 columns]"
      ]
     },
     "execution_count": 20,
     "metadata": {},
     "output_type": "execute_result"
    }
   ],
   "source": [
    "df_X_train"
   ]
  },
  {
   "cell_type": "code",
   "execution_count": 21,
   "id": "6f3d652f",
   "metadata": {},
   "outputs": [
    {
     "data": {
      "text/html": [
       "<div>\n",
       "<style scoped>\n",
       "    .dataframe tbody tr th:only-of-type {\n",
       "        vertical-align: middle;\n",
       "    }\n",
       "\n",
       "    .dataframe tbody tr th {\n",
       "        vertical-align: top;\n",
       "    }\n",
       "\n",
       "    .dataframe thead th {\n",
       "        text-align: right;\n",
       "    }\n",
       "</style>\n",
       "<table border=\"1\" class=\"dataframe\">\n",
       "  <thead>\n",
       "    <tr style=\"text-align: right;\">\n",
       "      <th></th>\n",
       "      <th>Feature Name</th>\n",
       "      <th>Feature Coefficient</th>\n",
       "    </tr>\n",
       "  </thead>\n",
       "  <tbody>\n",
       "    <tr>\n",
       "      <th>13187</th>\n",
       "      <td>posit</td>\n",
       "      <td>3.097128</td>\n",
       "    </tr>\n",
       "    <tr>\n",
       "      <th>3646</th>\n",
       "      <td>contract</td>\n",
       "      <td>2.119190</td>\n",
       "    </tr>\n",
       "    <tr>\n",
       "      <th>16838</th>\n",
       "      <td>symptom</td>\n",
       "      <td>2.085405</td>\n",
       "    </tr>\n",
       "    <tr>\n",
       "      <th>6333</th>\n",
       "      <td>finger</td>\n",
       "      <td>2.029962</td>\n",
       "    </tr>\n",
       "    <tr>\n",
       "      <th>3864</th>\n",
       "      <td>covid</td>\n",
       "      <td>1.874277</td>\n",
       "    </tr>\n",
       "    <tr>\n",
       "      <th>14993</th>\n",
       "      <td>scare</td>\n",
       "      <td>1.848178</td>\n",
       "    </tr>\n",
       "    <tr>\n",
       "      <th>19414</th>\n",
       "      <td>woke</td>\n",
       "      <td>1.794876</td>\n",
       "    </tr>\n",
       "    <tr>\n",
       "      <th>18692</th>\n",
       "      <td>vax</td>\n",
       "      <td>1.784630</td>\n",
       "    </tr>\n",
       "    <tr>\n",
       "      <th>14109</th>\n",
       "      <td>recov</td>\n",
       "      <td>1.743909</td>\n",
       "    </tr>\n",
       "    <tr>\n",
       "      <th>18865</th>\n",
       "      <td>visit</td>\n",
       "      <td>1.725797</td>\n",
       "    </tr>\n",
       "    <tr>\n",
       "      <th>18566</th>\n",
       "      <td>user</td>\n",
       "      <td>1.683251</td>\n",
       "    </tr>\n",
       "    <tr>\n",
       "      <th>15741</th>\n",
       "      <td>smell</td>\n",
       "      <td>1.682027</td>\n",
       "    </tr>\n",
       "    <tr>\n",
       "      <th>13998</th>\n",
       "      <td>reaction</td>\n",
       "      <td>1.663075</td>\n",
       "    </tr>\n",
       "    <tr>\n",
       "      <th>10002</th>\n",
       "      <td>lost</td>\n",
       "      <td>1.619814</td>\n",
       "    </tr>\n",
       "    <tr>\n",
       "      <th>13112</th>\n",
       "      <td>poll</td>\n",
       "      <td>1.619471</td>\n",
       "    </tr>\n",
       "    <tr>\n",
       "      <th>12077</th>\n",
       "      <td>outdoor</td>\n",
       "      <td>1.568361</td>\n",
       "    </tr>\n",
       "    <tr>\n",
       "      <th>4447</th>\n",
       "      <td>delta</td>\n",
       "      <td>1.546562</td>\n",
       "    </tr>\n",
       "    <tr>\n",
       "      <th>7092</th>\n",
       "      <td>given</td>\n",
       "      <td>1.527978</td>\n",
       "    </tr>\n",
       "    <tr>\n",
       "      <th>6806</th>\n",
       "      <td>fuck</td>\n",
       "      <td>1.491996</td>\n",
       "    </tr>\n",
       "    <tr>\n",
       "      <th>159</th>\n",
       "      <td>activ</td>\n",
       "      <td>1.460774</td>\n",
       "    </tr>\n",
       "  </tbody>\n",
       "</table>\n",
       "</div>"
      ],
      "text/plain": [
       "      Feature Name  Feature Coefficient\n",
       "13187        posit             3.097128\n",
       "3646      contract             2.119190\n",
       "16838      symptom             2.085405\n",
       "6333        finger             2.029962\n",
       "3864         covid             1.874277\n",
       "14993        scare             1.848178\n",
       "19414         woke             1.794876\n",
       "18692          vax             1.784630\n",
       "14109        recov             1.743909\n",
       "18865        visit             1.725797\n",
       "18566         user             1.683251\n",
       "15741        smell             1.682027\n",
       "13998     reaction             1.663075\n",
       "10002         lost             1.619814\n",
       "13112         poll             1.619471\n",
       "12077      outdoor             1.568361\n",
       "4447         delta             1.546562\n",
       "7092         given             1.527978\n",
       "6806          fuck             1.491996\n",
       "159          activ             1.460774"
      ]
     },
     "execution_count": 21,
     "metadata": {},
     "output_type": "execute_result"
    }
   ],
   "source": [
    "f = {'Feature Name':df_X_train.columns,'Feature Coefficient':logreg_l2.coef_[0]}\n",
    "fi = pd.DataFrame(f)\n",
    "\n",
    "fi.sort_values(by=['Feature Coefficient'], ascending = False).head(20)"
   ]
  },
  {
   "cell_type": "code",
   "execution_count": 22,
   "id": "8843ccc3",
   "metadata": {},
   "outputs": [
    {
     "data": {
      "image/png": "[encoded data removed]",
      "text/plain": [
       "<Figure size 720x576 with 1 Axes>"
      ]
     },
     "metadata": {
      "needs_background": "light"
     },
     "output_type": "display_data"
    }
   ],
   "source": [
    "plt.figure( figsize=(10,8))\n",
    "sns.barplot(x='Feature Coefficient',y='Feature Name', \n",
    "            data=fi.sort_values(by='Feature Coefficient', ascending=False).iloc[0:20],\n",
    "            palette='coolwarm')\n",
    "plt.xlabel('Feature Coefficient ',fontsize=14)\n",
    "plt.ylabel('Feature Name', fontsize = 14)\n",
    "plt.tick_params('both', labelsize = 13)"
   ]
  },
  {
   "cell_type": "markdown",
   "id": "1d25aa46",
   "metadata": {},
   "source": [
    "# Confusion Matrix"
   ]
  },
  {
   "cell_type": "code",
   "execution_count": 23,
   "id": "79eebedc",
   "metadata": {},
   "outputs": [
    {
     "name": "stdout",
     "output_type": "stream",
     "text": [
      "Score on training set: 0.9946038488210819\n",
      "Score on testing set: 0.9670170351576658\n",
      "              precision    recall  f1-score   support\n",
      "\n",
      "           0       0.73      0.84      0.78       585\n",
      "           1       0.99      0.98      0.98      7692\n",
      "\n",
      "    accuracy                           0.97      8277\n",
      "   macro avg       0.86      0.91      0.88      8277\n",
      "weighted avg       0.97      0.97      0.97      8277\n",
      "\n"
     ]
    },
    {
     "data": {
      "image/png": "[encoded data removed]",
      "text/plain": [
       "<Figure size 432x288 with 2 Axes>"
      ]
     },
     "metadata": {
      "needs_background": "light"
     },
     "output_type": "display_data"
    },
    {
     "data": {
      "image/png": "[encoded data removed]",
      "text/plain": [
       "<Figure size 432x288 with 1 Axes>"
      ]
     },
     "metadata": {
      "needs_background": "light"
     },
     "output_type": "display_data"
    }
   ],
   "source": [
    "# View confusion matrix\n",
    "model_Evaluate(logreg_l2, Xcv_train, Xcv_test, y_train, y_test)"
   ]
  },
  {
   "cell_type": "code",
   "execution_count": 24,
   "id": "b2acc501",
   "metadata": {},
   "outputs": [],
   "source": [
    "def model_Evaluate_values(model, x_train, x_test, y_train, y_test, model_name, balanced=True):\n",
    "    \"\"\"\n",
    "    \"\"\"\n",
    "    # Print accuracy scores on train and test sets\n",
    "    R_train = model.score(x_train, y_train)\n",
    "    R_test  = model.score(x_test, y_test)\n",
    "    df_accuracy = pd.DataFrame( np.round( [R_train, R_test], 2 ),  columns=['score'])\n",
    "    \n",
    "    df_accuracy['metric'] = ['R_train' , 'R_test']\n",
    "    df_accuracy['model'] = model_name\n",
    "    if balanced == True:\n",
    "        df_accuracy['balanced'] = 'yes'\n",
    "    if balanced == False:\n",
    "        df_accuracy['balanced'] = 'no'\n",
    "        \n",
    "    # Predict values for Test dataset\n",
    "    y_pred = model.predict(x_test)\n",
    "    scores = precision_recall_fscore_support(y_test, model.predict(x_test))\n",
    "    df_precision_recall = pd.DataFrame( np.round(scores, 2) , columns=['is_pandemicPreps', 'is_covid19positive'] )\n",
    "    df_precision_recall['metric'] = ['precision' , 'recall' , 'fscore' , 'support']\n",
    "    df_precision_recall['model'] = model_name\n",
    "    if balanced == True:\n",
    "        df_precision_recall['balanced'] = 'yes'\n",
    "    if balanced == False:\n",
    "        df_precision_recall['balanced'] = 'no'\n",
    "\n",
    "    \n",
    "    cf_matrix = confusion_matrix(y_test, y_pred)\n",
    "    categories = ['Negative','Positive']\n",
    "    group_names = ['True Neg','False Pos', 'False Neg','True Pos']\n",
    "    group_percentages = [np.round(value, 2) for value in cf_matrix.flatten() / np.sum(cf_matrix)]\n",
    "    df_cf_matrix = pd.DataFrame( group_percentages ,  columns=['score'] )\n",
    "    df_cf_matrix['metric'] = group_names\n",
    "    df_cf_matrix['model'] = model_name\n",
    "    if balanced == True:\n",
    "        df_cf_matrix['balanced'] = 'yes'\n",
    "    if balanced == False:\n",
    "        df_cf_matrix['balanced'] = 'no'\n",
    "        \n",
    "    # save_______________________________\n",
    "    # if file is not there\n",
    "#     pd.DataFrame(df_accuracy).to_csv('../datasets/models_metrics_report_accuracy.csv')\n",
    "#     pd.DataFrame(df_cf_matrix).to_csv('../datasets/models_metrics_report_confusionMatrix.csv')\n",
    "#     pd.DataFrame(df_precision_recall).to_csv('../datasets/models_metrics_report_precision_recall.csv')\n",
    "    # accuracy - 1\n",
    "    df1 = pd.read_csv('../datasets/models_metrics_report_accuracy.csv', index_col=0)\n",
    "    df2 = df_accuracy\n",
    "    pd.concat([df1,df2],ignore_index=True).to_csv('../datasets/models_metrics_report_accuracy.csv')\n",
    "    # accuracy - 0\n",
    "    df1 = pd.read_csv('../datasets/models_metrics_report_precision_recall.csv', index_col=0)\n",
    "    df2 = df_precision_recall\n",
    "    pd.concat([df1,df2],ignore_index=True).to_csv('../datasets/models_metrics_report_precision_recall.csv')\n",
    "    # accuracy - 2\n",
    "    df1 = pd.read_csv('../datasets/models_metrics_report_confusionMatrix.csv', index_col=0)\n",
    "    df2 = df_cf_matrix\n",
    "    pd.concat([df1,df2],ignore_index=True).to_csv('../datasets/models_metrics_report_confusionMatrix.csv')\n",
    "    \n",
    "    #     print(classification_report(y_test, y_pred))\n",
    "    return df_accuracy, df_precision_recall, df_cf_matrix"
   ]
  },
  {
   "cell_type": "code",
   "execution_count": 20,
   "id": "66c821b6",
   "metadata": {},
   "outputs": [
    {
     "data": {
      "text/plain": [
       "(   score   metric                      model balanced\n",
       " 0   1.00  R_train  Logestic  Regression / L2       no\n",
       " 1   0.97   R_test  Logestic  Regression / L2       no,\n",
       "    is_pandemicPreps  is_covid19positive     metric                      model  \\\n",
       " 0              0.73                0.99  precision  Logestic  Regression / L2   \n",
       " 1              0.84                0.98     recall  Logestic  Regression / L2   \n",
       " 2              0.78                0.98     fscore  Logestic  Regression / L2   \n",
       " 3            585.00             7692.00    support  Logestic  Regression / L2   \n",
       " \n",
       "   balanced  \n",
       " 0       no  \n",
       " 1       no  \n",
       " 2       no  \n",
       " 3       no  ,\n",
       "    score     metric                      model balanced\n",
       " 0   0.06   True Neg  Logestic  Regression / L2       no\n",
       " 1   0.01  False Pos  Logestic  Regression / L2       no\n",
       " 2   0.02  False Neg  Logestic  Regression / L2       no\n",
       " 3   0.91   True Pos  Logestic  Regression / L2       no)"
      ]
     },
     "execution_count": 20,
     "metadata": {},
     "output_type": "execute_result"
    }
   ],
   "source": [
    "save_model_Evaluate_values(logreg_l2, Xcv_train, Xcv_test, y_train, y_test,  \n",
    "                             model_name='Logestic  Regression / L2', balanced=is_balanced)"
   ]
  },
  {
   "cell_type": "markdown",
   "id": "ea21d691",
   "metadata": {},
   "source": [
    "# ==============================================="
   ]
  },
  {
   "cell_type": "markdown",
   "id": "e4371021",
   "metadata": {},
   "source": [
    "# Logistic Regression / Regulization = L1 (Lasso)"
   ]
  },
  {
   "cell_type": "code",
   "execution_count": 22,
   "id": "2844f5b3",
   "metadata": {},
   "outputs": [
    {
     "data": {
      "text/plain": [
       "LogisticRegression(penalty='l1', random_state=42, solver='saga')"
      ]
     },
     "execution_count": 22,
     "metadata": {},
     "output_type": "execute_result"
    }
   ],
   "source": [
    "logreg_l1 = LogisticRegression(penalty='l1', solver='saga', random_state = 42)\n",
    "\n",
    "logreg_l1.fit(Xcv_train, y_train)"
   ]
  },
  {
   "cell_type": "code",
   "execution_count": 23,
   "id": "cb6c53c5",
   "metadata": {},
   "outputs": [
    {
     "data": {
      "text/plain": [
       "(0.9590412621359223, 0.9505859610970159)"
      ]
     },
     "execution_count": 23,
     "metadata": {},
     "output_type": "execute_result"
    }
   ],
   "source": [
    "logreg_l1.score(Xcv_train, y_train), logreg_l1.score(Xcv_test, y_test)"
   ]
  },
  {
   "cell_type": "markdown",
   "id": "19f9307b",
   "metadata": {},
   "source": [
    "# Plot Feature Coefficient"
   ]
  },
  {
   "cell_type": "code",
   "execution_count": 24,
   "id": "6ae76e01",
   "metadata": {},
   "outputs": [],
   "source": [
    "#create a dataframe for our X_train_cv to use later:\n",
    "\n",
    "df_X_train = pd.DataFrame(Xcv_train.todense(), columns=cvec.get_feature_names())"
   ]
  },
  {
   "cell_type": "code",
   "execution_count": 25,
   "id": "e8506ca9",
   "metadata": {},
   "outputs": [
    {
     "data": {
      "text/html": [
       "<div>\n",
       "<style scoped>\n",
       "    .dataframe tbody tr th:only-of-type {\n",
       "        vertical-align: middle;\n",
       "    }\n",
       "\n",
       "    .dataframe tbody tr th {\n",
       "        vertical-align: top;\n",
       "    }\n",
       "\n",
       "    .dataframe thead th {\n",
       "        text-align: right;\n",
       "    }\n",
       "</style>\n",
       "<table border=\"1\" class=\"dataframe\">\n",
       "  <thead>\n",
       "    <tr style=\"text-align: right;\">\n",
       "      <th></th>\n",
       "      <th>Feature Name</th>\n",
       "      <th>Feature Coefficient</th>\n",
       "    </tr>\n",
       "  </thead>\n",
       "  <tbody>\n",
       "    <tr>\n",
       "      <th>13187</th>\n",
       "      <td>posit</td>\n",
       "      <td>1.037438</td>\n",
       "    </tr>\n",
       "    <tr>\n",
       "      <th>16838</th>\n",
       "      <td>symptom</td>\n",
       "      <td>0.953719</td>\n",
       "    </tr>\n",
       "    <tr>\n",
       "      <th>3864</th>\n",
       "      <td>covid</td>\n",
       "      <td>0.887174</td>\n",
       "    </tr>\n",
       "    <tr>\n",
       "      <th>17199</th>\n",
       "      <td>test</td>\n",
       "      <td>0.593760</td>\n",
       "    </tr>\n",
       "    <tr>\n",
       "      <th>15741</th>\n",
       "      <td>smell</td>\n",
       "      <td>0.590821</td>\n",
       "    </tr>\n",
       "    <tr>\n",
       "      <th>17010</th>\n",
       "      <td>tast</td>\n",
       "      <td>0.574714</td>\n",
       "    </tr>\n",
       "    <tr>\n",
       "      <th>4248</th>\n",
       "      <td>day</td>\n",
       "      <td>0.524479</td>\n",
       "    </tr>\n",
       "    <tr>\n",
       "      <th>6186</th>\n",
       "      <td>feel</td>\n",
       "      <td>0.440740</td>\n",
       "    </tr>\n",
       "    <tr>\n",
       "      <th>14109</th>\n",
       "      <td>recov</td>\n",
       "      <td>0.403447</td>\n",
       "    </tr>\n",
       "    <tr>\n",
       "      <th>3790</th>\n",
       "      <td>cough</td>\n",
       "      <td>0.378037</td>\n",
       "    </tr>\n",
       "    <tr>\n",
       "      <th>2170</th>\n",
       "      <td>breath</td>\n",
       "      <td>0.371597</td>\n",
       "    </tr>\n",
       "    <tr>\n",
       "      <th>12288</th>\n",
       "      <td>pain</td>\n",
       "      <td>0.368645</td>\n",
       "    </tr>\n",
       "    <tr>\n",
       "      <th>1962</th>\n",
       "      <td>bodi</td>\n",
       "      <td>0.340931</td>\n",
       "    </tr>\n",
       "    <tr>\n",
       "      <th>1303</th>\n",
       "      <td>back</td>\n",
       "      <td>0.323783</td>\n",
       "    </tr>\n",
       "    <tr>\n",
       "      <th>14993</th>\n",
       "      <td>scare</td>\n",
       "      <td>0.316105</td>\n",
       "    </tr>\n",
       "    <tr>\n",
       "      <th>17395</th>\n",
       "      <td>throat</td>\n",
       "      <td>0.291402</td>\n",
       "    </tr>\n",
       "    <tr>\n",
       "      <th>7692</th>\n",
       "      <td>headach</td>\n",
       "      <td>0.279534</td>\n",
       "    </tr>\n",
       "    <tr>\n",
       "      <th>794</th>\n",
       "      <td>anyon</td>\n",
       "      <td>0.278111</td>\n",
       "    </tr>\n",
       "    <tr>\n",
       "      <th>6246</th>\n",
       "      <td>fever</td>\n",
       "      <td>0.271646</td>\n",
       "    </tr>\n",
       "    <tr>\n",
       "      <th>10664</th>\n",
       "      <td>mild</td>\n",
       "      <td>0.271601</td>\n",
       "    </tr>\n",
       "  </tbody>\n",
       "</table>\n",
       "</div>"
      ],
      "text/plain": [
       "      Feature Name  Feature Coefficient\n",
       "13187        posit             1.037438\n",
       "16838      symptom             0.953719\n",
       "3864         covid             0.887174\n",
       "17199         test             0.593760\n",
       "15741        smell             0.590821\n",
       "17010         tast             0.574714\n",
       "4248           day             0.524479\n",
       "6186          feel             0.440740\n",
       "14109        recov             0.403447\n",
       "3790         cough             0.378037\n",
       "2170        breath             0.371597\n",
       "12288         pain             0.368645\n",
       "1962          bodi             0.340931\n",
       "1303          back             0.323783\n",
       "14993        scare             0.316105\n",
       "17395       throat             0.291402\n",
       "7692       headach             0.279534\n",
       "794          anyon             0.278111\n",
       "6246         fever             0.271646\n",
       "10664         mild             0.271601"
      ]
     },
     "execution_count": 25,
     "metadata": {},
     "output_type": "execute_result"
    }
   ],
   "source": [
    "f = {'Feature Name':df_X_train.columns,'Feature Coefficient':logreg_l1.coef_[0]}\n",
    "fi = pd.DataFrame(f)\n",
    "\n",
    "fi.sort_values(by=['Feature Coefficient'], ascending = False).head(20)"
   ]
  },
  {
   "cell_type": "code",
   "execution_count": 26,
   "id": "9c0d3a83",
   "metadata": {},
   "outputs": [
    {
     "data": {
      "image/png": "[encoded data removed]",
      "text/plain": [
       "<Figure size 720x576 with 1 Axes>"
      ]
     },
     "metadata": {
      "needs_background": "light"
     },
     "output_type": "display_data"
    }
   ],
   "source": [
    "plt.figure( figsize=(10,8))\n",
    "sns.barplot(x='Feature Coefficient',y='Feature Name', \n",
    "            data=fi.sort_values(by='Feature Coefficient', ascending=False).iloc[0:20],\n",
    "            palette='coolwarm')\n",
    "plt.xlabel('Feature Coefficient ',fontsize=14)\n",
    "plt.ylabel('Feature Name', fontsize = 14)\n",
    "plt.tick_params('both', labelsize = 13)"
   ]
  },
  {
   "cell_type": "code",
   "execution_count": 27,
   "id": "010753da",
   "metadata": {
    "scrolled": false
   },
   "outputs": [
    {
     "data": {
      "image/png": "[encoded data removed]",
      "text/plain": [
       "<Figure size 720x576 with 1 Axes>"
      ]
     },
     "metadata": {
      "needs_background": "light"
     },
     "output_type": "display_data"
    }
   ],
   "source": [
    "plt.figure( figsize=(10,8))\n",
    "sns.barplot(x='Feature Coefficient',y='Feature Name', \n",
    "            data=fi.sort_values(by='Feature Coefficient', ascending=False).iloc[-20:-1],\n",
    "            palette='coolwarm')\n",
    "plt.xlabel('Feature Coefficient ',fontsize=14)\n",
    "plt.ylabel('Feature Name', fontsize = 14)\n",
    "plt.tick_params('both', labelsize = 13)"
   ]
  },
  {
   "cell_type": "markdown",
   "id": "91448fb4",
   "metadata": {},
   "source": [
    "# Confusion Matrix"
   ]
  },
  {
   "cell_type": "code",
   "execution_count": 28,
   "id": "03ec17a5",
   "metadata": {
    "scrolled": false
   },
   "outputs": [
    {
     "name": "stdout",
     "output_type": "stream",
     "text": [
      "Score on training set: 0.9590412621359223\n",
      "Score on testing set: 0.9505859610970159\n",
      "              precision    recall  f1-score   support\n",
      "\n",
      "           0       0.60      0.93      0.73       585\n",
      "           1       0.99      0.95      0.97      7692\n",
      "\n",
      "    accuracy                           0.95      8277\n",
      "   macro avg       0.80      0.94      0.85      8277\n",
      "weighted avg       0.97      0.95      0.96      8277\n",
      "\n"
     ]
    },
    {
     "data": {
      "image/png": "[encoded data removed]",
      "text/plain": [
       "<Figure size 432x288 with 2 Axes>"
      ]
     },
     "metadata": {
      "needs_background": "light"
     },
     "output_type": "display_data"
    },
    {
     "data": {
      "image/png": "[encoded data removed]",
      "text/plain": [
       "<Figure size 432x288 with 1 Axes>"
      ]
     },
     "metadata": {
      "needs_background": "light"
     },
     "output_type": "display_data"
    }
   ],
   "source": [
    "model_Evaluate(logreg_l1, Xcv_train, Xcv_test, y_train, y_test)"
   ]
  },
  {
   "cell_type": "code",
   "execution_count": 29,
   "id": "3b507fc0",
   "metadata": {},
   "outputs": [
    {
     "data": {
      "text/plain": [
       "(   score   metric                      model balanced\n",
       " 0   0.96  R_train  Logestic  Regression / L1       no\n",
       " 1   0.95   R_test  Logestic  Regression / L1       no,\n",
       "    is_pandemicPreps  is_covid19positive     metric                      model  \\\n",
       " 0              0.60                0.99  precision  Logestic  Regression / L1   \n",
       " 1              0.93                0.95     recall  Logestic  Regression / L1   \n",
       " 2              0.73                0.97     fscore  Logestic  Regression / L1   \n",
       " 3            585.00             7692.00    support  Logestic  Regression / L1   \n",
       " \n",
       "   balanced  \n",
       " 0       no  \n",
       " 1       no  \n",
       " 2       no  \n",
       " 3       no  ,\n",
       "    score     metric                      model balanced\n",
       " 0   0.07   True Neg  Logestic  Regression / L1       no\n",
       " 1   0.00  False Pos  Logestic  Regression / L1       no\n",
       " 2   0.04  False Neg  Logestic  Regression / L1       no\n",
       " 3   0.88   True Pos  Logestic  Regression / L1       no)"
      ]
     },
     "execution_count": 29,
     "metadata": {},
     "output_type": "execute_result"
    }
   ],
   "source": [
    "save_model_Evaluate_values(logreg_l1, Xcv_train, Xcv_test, y_train, y_test,  \n",
    "                             model_name='Logestic  Regression / L1', balanced = is_balanced)"
   ]
  },
  {
   "cell_type": "markdown",
   "id": "7ba7909f",
   "metadata": {},
   "source": [
    "# ======================================================\n",
    "\n",
    "# Gridsearch"
   ]
  },
  {
   "cell_type": "code",
   "execution_count": 40,
   "id": "9100cd32",
   "metadata": {},
   "outputs": [],
   "source": [
    "# Define dictionary of hyperparameters.\n",
    "pipe_params = {'penalty': ['l2'], \n",
    "                 'C': [50,60,65,70,75,80,85,90,100],\n",
    "                 'class_weight' : ['balanced'],\n",
    "                  'solver': ['lbfgs']}"
   ]
  },
  {
   "cell_type": "code",
   "execution_count": 41,
   "id": "b6e56cc3",
   "metadata": {},
   "outputs": [],
   "source": [
    "gs = GridSearchCV(LogisticRegression(random_state=42), pipe_params, cv = 5)"
   ]
  },
  {
   "cell_type": "code",
   "execution_count": 42,
   "id": "59c07336",
   "metadata": {},
   "outputs": [
    {
     "data": {
      "text/plain": [
       "GridSearchCV(cv=5, estimator=LogisticRegression(random_state=42),\n",
       "             param_grid={'C': [50, 60, 65, 70, 75, 80, 85, 90, 100],\n",
       "                         'class_weight': ['balanced'], 'penalty': ['l2'],\n",
       "                         'solver': ['lbfgs']})"
      ]
     },
     "execution_count": 42,
     "metadata": {},
     "output_type": "execute_result"
    }
   ],
   "source": [
    "gs.fit(Xcv_train, y_train)"
   ]
  },
  {
   "cell_type": "code",
   "execution_count": 43,
   "id": "4e561752",
   "metadata": {},
   "outputs": [
    {
     "data": {
      "text/plain": [
       "(0.9983313106796117, 0.9655672345052555)"
      ]
     },
     "execution_count": 43,
     "metadata": {},
     "output_type": "execute_result"
    }
   ],
   "source": [
    "gs.score(Xcv_train, y_train), gs.score(Xcv_test, y_test)"
   ]
  },
  {
   "cell_type": "code",
   "execution_count": 44,
   "id": "ffb61e91",
   "metadata": {},
   "outputs": [
    {
     "data": {
      "text/plain": [
       "{'C': 85, 'class_weight': 'balanced', 'penalty': 'l2', 'solver': 'lbfgs'}"
      ]
     },
     "execution_count": 44,
     "metadata": {},
     "output_type": "execute_result"
    }
   ],
   "source": [
    "gs.best_params_"
   ]
  },
  {
   "cell_type": "markdown",
   "id": "6e186994",
   "metadata": {},
   "source": [
    "# Confusion Matrix"
   ]
  },
  {
   "cell_type": "code",
   "execution_count": 45,
   "id": "9fb72385",
   "metadata": {},
   "outputs": [
    {
     "name": "stdout",
     "output_type": "stream",
     "text": [
      "Score on training set: 0.9983313106796117\n",
      "Score on testing set: 0.9655672345052555\n",
      "              precision    recall  f1-score   support\n",
      "\n",
      "           0       0.75      0.78      0.76       585\n",
      "           1       0.98      0.98      0.98      7692\n",
      "\n",
      "    accuracy                           0.97      8277\n",
      "   macro avg       0.86      0.88      0.87      8277\n",
      "weighted avg       0.97      0.97      0.97      8277\n",
      "\n"
     ]
    },
    {
     "data": {
      "image/png": "[encoded data removed]",
      "text/plain": [
       "<Figure size 432x288 with 2 Axes>"
      ]
     },
     "metadata": {
      "needs_background": "light"
     },
     "output_type": "display_data"
    },
    {
     "data": {
      "image/png": "[encoded data removed]",
      "text/plain": [
       "<Figure size 432x288 with 1 Axes>"
      ]
     },
     "metadata": {
      "needs_background": "light"
     },
     "output_type": "display_data"
    }
   ],
   "source": [
    "model_Evaluate(gs, Xcv_train, Xcv_test, y_train, y_test)"
   ]
  },
  {
   "cell_type": "code",
   "execution_count": 46,
   "id": "1a82fd56",
   "metadata": {},
   "outputs": [
    {
     "data": {
      "text/plain": [
       "(   score   metric                                     model balanced\n",
       " 0   1.00  R_train  Logestic  Regression / Full-GridSearchCV       no\n",
       " 1   0.97   R_test  Logestic  Regression / Full-GridSearchCV       no,\n",
       "    is_pandemicPreps  is_covid19positive     metric  \\\n",
       " 0              0.75                0.98  precision   \n",
       " 1              0.78                0.98     recall   \n",
       " 2              0.76                0.98     fscore   \n",
       " 3            585.00             7692.00    support   \n",
       " \n",
       "                                       model balanced  \n",
       " 0  Logestic  Regression / Full-GridSearchCV       no  \n",
       " 1  Logestic  Regression / Full-GridSearchCV       no  \n",
       " 2  Logestic  Regression / Full-GridSearchCV       no  \n",
       " 3  Logestic  Regression / Full-GridSearchCV       no  ,\n",
       "    score     metric                                     model balanced\n",
       " 0   0.05   True Neg  Logestic  Regression / Full-GridSearchCV       no\n",
       " 1   0.02  False Pos  Logestic  Regression / Full-GridSearchCV       no\n",
       " 2   0.02  False Neg  Logestic  Regression / Full-GridSearchCV       no\n",
       " 3   0.91   True Pos  Logestic  Regression / Full-GridSearchCV       no)"
      ]
     },
     "execution_count": 46,
     "metadata": {},
     "output_type": "execute_result"
    }
   ],
   "source": [
    "save_model_Evaluate_values(gs, Xcv_train, Xcv_test, y_train, y_test,  \n",
    "                             model_name='Logestic  Regression / Full-GridSearchCV', balanced=is_balanced)"
   ]
  },
  {
   "cell_type": "code",
   "execution_count": 51,
   "id": "d3368536",
   "metadata": {},
   "outputs": [
    {
     "data": {
      "text/html": [
       "<div>\n",
       "<style scoped>\n",
       "    .dataframe tbody tr th:only-of-type {\n",
       "        vertical-align: middle;\n",
       "    }\n",
       "\n",
       "    .dataframe tbody tr th {\n",
       "        vertical-align: top;\n",
       "    }\n",
       "\n",
       "    .dataframe thead th {\n",
       "        text-align: right;\n",
       "    }\n",
       "</style>\n",
       "<table border=\"1\" class=\"dataframe\">\n",
       "  <thead>\n",
       "    <tr style=\"text-align: right;\">\n",
       "      <th></th>\n",
       "      <th>Feature Name</th>\n",
       "      <th>Feature Coefficient</th>\n",
       "    </tr>\n",
       "  </thead>\n",
       "  <tbody>\n",
       "    <tr>\n",
       "      <th>13187</th>\n",
       "      <td>posit</td>\n",
       "      <td>9.887254</td>\n",
       "    </tr>\n",
       "    <tr>\n",
       "      <th>13998</th>\n",
       "      <td>reaction</td>\n",
       "      <td>8.655816</td>\n",
       "    </tr>\n",
       "    <tr>\n",
       "      <th>1637</th>\n",
       "      <td>benefici</td>\n",
       "      <td>7.969067</td>\n",
       "    </tr>\n",
       "    <tr>\n",
       "      <th>3646</th>\n",
       "      <td>contract</td>\n",
       "      <td>7.124032</td>\n",
       "    </tr>\n",
       "    <tr>\n",
       "      <th>6333</th>\n",
       "      <td>finger</td>\n",
       "      <td>7.021088</td>\n",
       "    </tr>\n",
       "    <tr>\n",
       "      <th>18566</th>\n",
       "      <td>user</td>\n",
       "      <td>6.933293</td>\n",
       "    </tr>\n",
       "    <tr>\n",
       "      <th>13170</th>\n",
       "      <td>portabl</td>\n",
       "      <td>6.754591</td>\n",
       "    </tr>\n",
       "    <tr>\n",
       "      <th>18692</th>\n",
       "      <td>vax</td>\n",
       "      <td>6.750351</td>\n",
       "    </tr>\n",
       "    <tr>\n",
       "      <th>12679</th>\n",
       "      <td>perform</td>\n",
       "      <td>6.741162</td>\n",
       "    </tr>\n",
       "    <tr>\n",
       "      <th>4330</th>\n",
       "      <td>deceiv</td>\n",
       "      <td>6.735579</td>\n",
       "    </tr>\n",
       "    <tr>\n",
       "      <th>5204</th>\n",
       "      <td>dumb</td>\n",
       "      <td>6.611985</td>\n",
       "    </tr>\n",
       "    <tr>\n",
       "      <th>13948</th>\n",
       "      <td>rash</td>\n",
       "      <td>6.564587</td>\n",
       "    </tr>\n",
       "    <tr>\n",
       "      <th>16838</th>\n",
       "      <td>symptom</td>\n",
       "      <td>6.390951</td>\n",
       "    </tr>\n",
       "    <tr>\n",
       "      <th>5829</th>\n",
       "      <td>exampl</td>\n",
       "      <td>6.346583</td>\n",
       "    </tr>\n",
       "    <tr>\n",
       "      <th>12928</th>\n",
       "      <td>piss</td>\n",
       "      <td>6.224541</td>\n",
       "    </tr>\n",
       "    <tr>\n",
       "      <th>10002</th>\n",
       "      <td>lost</td>\n",
       "      <td>6.212758</td>\n",
       "    </tr>\n",
       "    <tr>\n",
       "      <th>11628</th>\n",
       "      <td>noth</td>\n",
       "      <td>6.194788</td>\n",
       "    </tr>\n",
       "    <tr>\n",
       "      <th>159</th>\n",
       "      <td>activ</td>\n",
       "      <td>6.053753</td>\n",
       "    </tr>\n",
       "    <tr>\n",
       "      <th>14125</th>\n",
       "      <td>red</td>\n",
       "      <td>6.036837</td>\n",
       "    </tr>\n",
       "    <tr>\n",
       "      <th>10192</th>\n",
       "      <td>major</td>\n",
       "      <td>5.971195</td>\n",
       "    </tr>\n",
       "  </tbody>\n",
       "</table>\n",
       "</div>"
      ],
      "text/plain": [
       "      Feature Name  Feature Coefficient\n",
       "13187        posit             9.887254\n",
       "13998     reaction             8.655816\n",
       "1637      benefici             7.969067\n",
       "3646      contract             7.124032\n",
       "6333        finger             7.021088\n",
       "18566         user             6.933293\n",
       "13170      portabl             6.754591\n",
       "18692          vax             6.750351\n",
       "12679      perform             6.741162\n",
       "4330        deceiv             6.735579\n",
       "5204          dumb             6.611985\n",
       "13948         rash             6.564587\n",
       "16838      symptom             6.390951\n",
       "5829        exampl             6.346583\n",
       "12928         piss             6.224541\n",
       "10002         lost             6.212758\n",
       "11628         noth             6.194788\n",
       "159          activ             6.053753\n",
       "14125          red             6.036837\n",
       "10192        major             5.971195"
      ]
     },
     "execution_count": 51,
     "metadata": {},
     "output_type": "execute_result"
    }
   ],
   "source": [
    "f = {'Feature Name':df_X_train.columns,'Feature Coefficient':gs.best_estimator_.coef_[0]}\n",
    "fi = pd.DataFrame(f)\n",
    "\n",
    "fi.sort_values(by=['Feature Coefficient'], ascending = False).head(20)"
   ]
  },
  {
   "cell_type": "code",
   "execution_count": 59,
   "id": "5111c80b",
   "metadata": {},
   "outputs": [
    {
     "data": {
      "image/png": "[encoded data removed]",
      "text/plain": [
       "<Figure size 360x576 with 1 Axes>"
      ]
     },
     "metadata": {
      "needs_background": "light"
     },
     "output_type": "display_data"
    }
   ],
   "source": [
    "plt.figure( figsize=(5,8))\n",
    "plt.title('Post is from Covid19Positive', fontsize=18)\n",
    "sns.barplot(x='Feature Coefficient',y='Feature Name', \n",
    "            data=fi.sort_values(by='Feature Coefficient', ascending=False).iloc[-30::],\n",
    "            palette='coolwarm')\n",
    "plt.xlabel('Feature Coefficient ',fontsize=14)\n",
    "plt.ylabel('Feature Name', fontsize = 14)\n",
    "plt.tick_params('both', labelsize = 13)"
   ]
  },
  {
   "cell_type": "code",
   "execution_count": 426,
   "id": "727b7376",
   "metadata": {},
   "outputs": [],
   "source": [
    "# pd.DataFrame(score[1]).to_csv('../datasets/models_metrics_report_accuracy.csv')\n",
    "# pd.DataFrame(score[2]).to_csv('../datasets/models_metrics_report_confusionMatrix.csv')\n",
    "# pd.DataFrame(score[0]).to_csv('../datasets/models_metrics_report_precision_recall.csv')"
   ]
  },
  {
   "cell_type": "code",
   "execution_count": 495,
   "id": "6f0365fd",
   "metadata": {},
   "outputs": [],
   "source": [
    "# score = [pd.concat([score1[i], score2[i]], ignore_index=True) for i in range(3)]\n",
    "\n",
    "# def attach_df_report(score):\n",
    "#     # accuracy - 1\n",
    "#     df1 = pd.read_csv('../datasets/models_metrics_report_accuracy.csv', index_col=0)\n",
    "#     df2 = score[1]\n",
    "#     pd.concat([df1,df2],ignore_index=True).to_csv('../datasets/models_metrics_report_accuracy.csv')\n",
    "#     # accuracy - 0\n",
    "#     df1 = pd.read_csv('../datasets/models_metrics_report_precision_recall.csv', index_col=0)\n",
    "#     df2 = score[0]\n",
    "#     pd.concat([df1,df2],ignore_index=True).to_csv('../datasets/models_metrics_report_precision_recall.csv')\n",
    "#     # accuracy - 2\n",
    "#     df1 = pd.read_csv('../datasets/models_metrics_report_confusionMatrix.csv', index_col=0)\n",
    "#     df2 = score[2]\n",
    "#     pd.concat([df1,df2],ignore_index=True).to_csv('../datasets/models_metrics_report_confusionMatrix.csv')\n",
    "    \n",
    "# attach_df_report(score)    "
   ]
  },
  {
   "cell_type": "code",
   "execution_count": null,
   "id": "6e5aef82",
   "metadata": {},
   "outputs": [],
   "source": []
  }
 ],
 "metadata": {
  "kernelspec": {
   "display_name": "Python 3",
   "language": "python",
   "name": "python3"
  },
  "language_info": {
   "codemirror_mode": {
    "name": "ipython",
    "version": 3
   },
   "file_extension": ".py",
   "mimetype": "text/x-python",
   "name": "python",
   "nbconvert_exporter": "python",
   "pygments_lexer": "ipython3",
   "version": "3.9.5"
  }
 },
 "nbformat": 4,
 "nbformat_minor": 5
}
