{
 "cells": [
  {
   "cell_type": "markdown",
   "id": "b129f5aa",
   "metadata": {},
   "source": [
    "# Generate $k$mers\n",
    "### Author: Ehsan Gharib-Nezhad\n"
   ]
  },
  {
   "cell_type": "code",
   "execution_count": 35,
   "id": "d0ec0ce1",
   "metadata": {},
   "outputs": [],
   "source": [
    "# Load Libraries\n",
    "import pandas as pd\n",
    "import numpy as np\n",
    "import matplotlib.pyplot as plt\n",
    "import seaborn as sns\n",
    "from nltk.probability import FreqDist\n",
    "import re\n",
    "from sklearn.model_selection import train_test_split\n",
    "from sklearn.feature_extraction.text import CountVectorizer\n",
    "from sklearn.preprocessing import  LabelEncoder, OneHotEncoder\n",
    "import random"
   ]
  },
  {
   "cell_type": "markdown",
   "id": "52564416",
   "metadata": {},
   "source": [
    "# |||||||||||||||||||||||||||||||||||||||||||||||||||||||||||||||||||||||||||||||||||||||||||||||||||||||||||||||||||||||||||||||||||||||||||||||||||||\n",
    "# Dataset 1: Human dataset\n",
    "# |||||||||||||||||||||||||||||||||||||||||||||||||||||||||||||||||||||||||||||||||||||||||||||||||||||||||||||||||||||||||||||||||||||||||||||||||||||"
   ]
  },
  {
   "cell_type": "code",
   "execution_count": 36,
   "id": "0c77dc9b",
   "metadata": {},
   "outputs": [],
   "source": [
    "# Load datasets\n",
    "human = pd.read_csv('../outputs/processed_human_sequence.csv')"
   ]
  },
  {
   "cell_type": "code",
   "execution_count": 37,
   "id": "d7b3617b",
   "metadata": {
    "scrolled": false
   },
   "outputs": [
    {
     "data": {
      "text/html": [
       "<div>\n",
       "<style scoped>\n",
       "    .dataframe tbody tr th:only-of-type {\n",
       "        vertical-align: middle;\n",
       "    }\n",
       "\n",
       "    .dataframe tbody tr th {\n",
       "        vertical-align: top;\n",
       "    }\n",
       "\n",
       "    .dataframe thead th {\n",
       "        text-align: right;\n",
       "    }\n",
       "</style>\n",
       "<table border=\"1\" class=\"dataframe\">\n",
       "  <thead>\n",
       "    <tr style=\"text-align: right;\">\n",
       "      <th></th>\n",
       "      <th>sequence</th>\n",
       "      <th>class</th>\n",
       "      <th>sequence_length</th>\n",
       "      <th>A_count</th>\n",
       "      <th>T_count</th>\n",
       "      <th>G_count</th>\n",
       "      <th>C_count</th>\n",
       "    </tr>\n",
       "  </thead>\n",
       "  <tbody>\n",
       "    <tr>\n",
       "      <th>0</th>\n",
       "      <td>ATGCCCCAACTAAATACTACCGTATGGCCCACCATAATTACCCCCA...</td>\n",
       "      <td>4</td>\n",
       "      <td>207</td>\n",
       "      <td>80</td>\n",
       "      <td>45</td>\n",
       "      <td>13</td>\n",
       "      <td>69</td>\n",
       "    </tr>\n",
       "    <tr>\n",
       "      <th>1</th>\n",
       "      <td>ATGAACGAAAATCTGTTCGCTTCATTCATTGCCCCCACAATCCTAG...</td>\n",
       "      <td>4</td>\n",
       "      <td>681</td>\n",
       "      <td>206</td>\n",
       "      <td>174</td>\n",
       "      <td>71</td>\n",
       "      <td>230</td>\n",
       "    </tr>\n",
       "    <tr>\n",
       "      <th>2</th>\n",
       "      <td>ATGTGTGGCATTTGGGCGCTGTTTGGCAGTGATGATTGCCTTTCTG...</td>\n",
       "      <td>3</td>\n",
       "      <td>1686</td>\n",
       "      <td>476</td>\n",
       "      <td>483</td>\n",
       "      <td>393</td>\n",
       "      <td>334</td>\n",
       "    </tr>\n",
       "    <tr>\n",
       "      <th>3</th>\n",
       "      <td>ATGTGTGGCATTTGGGCGCTGTTTGGCAGTGATGATTGCCTTTCTG...</td>\n",
       "      <td>3</td>\n",
       "      <td>1206</td>\n",
       "      <td>339</td>\n",
       "      <td>363</td>\n",
       "      <td>294</td>\n",
       "      <td>210</td>\n",
       "    </tr>\n",
       "    <tr>\n",
       "      <th>4</th>\n",
       "      <td>ATGCAACAGCATTTTGAATTTGAATACCAGACCAAAGTGGATGGTG...</td>\n",
       "      <td>3</td>\n",
       "      <td>1437</td>\n",
       "      <td>417</td>\n",
       "      <td>406</td>\n",
       "      <td>326</td>\n",
       "      <td>288</td>\n",
       "    </tr>\n",
       "  </tbody>\n",
       "</table>\n",
       "</div>"
      ],
      "text/plain": [
       "                                            sequence  class  sequence_length  \\\n",
       "0  ATGCCCCAACTAAATACTACCGTATGGCCCACCATAATTACCCCCA...      4              207   \n",
       "1  ATGAACGAAAATCTGTTCGCTTCATTCATTGCCCCCACAATCCTAG...      4              681   \n",
       "2  ATGTGTGGCATTTGGGCGCTGTTTGGCAGTGATGATTGCCTTTCTG...      3             1686   \n",
       "3  ATGTGTGGCATTTGGGCGCTGTTTGGCAGTGATGATTGCCTTTCTG...      3             1206   \n",
       "4  ATGCAACAGCATTTTGAATTTGAATACCAGACCAAAGTGGATGGTG...      3             1437   \n",
       "\n",
       "   A_count  T_count  G_count  C_count  \n",
       "0       80       45       13       69  \n",
       "1      206      174       71      230  \n",
       "2      476      483      393      334  \n",
       "3      339      363      294      210  \n",
       "4      417      406      326      288  "
      ]
     },
     "execution_count": 37,
     "metadata": {},
     "output_type": "execute_result"
    }
   ],
   "source": [
    "human.head()"
   ]
  },
  {
   "cell_type": "markdown",
   "id": "0f036a2f",
   "metadata": {},
   "source": [
    "## Generate Kmers\n",
    "`Defination`: k-mers are substrings of length k contained within a biological sequence.k-mers are composed of nucleotides (i.e. A, T, G, and C) [[Ref]](https://en.wikipedia.org/wiki/K-mer)"
   ]
  },
  {
   "cell_type": "code",
   "execution_count": 38,
   "id": "7d9950d8",
   "metadata": {},
   "outputs": [],
   "source": [
    "def CreateKmers(sequence, kmer_length):\n",
    "    \"\"\"\n",
    "    This function calculate k-mers  \n",
    "    Inputs: \n",
    "        - sequence: which ic DNA sequence length, for example \"ATGCCCCAACTAAATACTACCGTATGGCCCACCAT...\"\n",
    "        - kmer_length: which is 1 ... len(sequence)\n",
    "    OUTPUTS: \n",
    "        - kmers\n",
    "            example: if kmer_length=2, then: \"AT, GC, CC, CA, AC, ...\"\n",
    "    \"\"\"  \n",
    "    return [sequence[x:x+kmer_length].lower() for x in range(len(sequence) - kmer_length + 1)]"
   ]
  },
  {
   "cell_type": "code",
   "execution_count": 39,
   "id": "d4aa0c48",
   "metadata": {},
   "outputs": [],
   "source": [
    "human['2mer'] = human.apply(lambda x: CreateKmers(x['sequence'], 2), axis=1)\n",
    "human['3mer'] = human.apply(lambda x: CreateKmers(x['sequence'], 3), axis=1)\n",
    "human['4mer'] = human.apply(lambda x: CreateKmers(x['sequence'], 4), axis=1)\n",
    "human['5mer'] = human.apply(lambda x: CreateKmers(x['sequence'], 5), axis=1)\n",
    "human['6mer'] = human.apply(lambda x: CreateKmers(x['sequence'], 6), axis=1)\n",
    "human['7mer'] = human.apply(lambda x: CreateKmers(x['sequence'], 7), axis=1)\n",
    "human['8mer'] = human.apply(lambda x: CreateKmers(x['sequence'], 8), axis=1)\n",
    "human['9mer'] = human.apply(lambda x: CreateKmers(x['sequence'], 9), axis=1)\n",
    "human['10mer'] = human.apply(lambda x: CreateKmers(x['sequence'], 10), axis=1)\n",
    "# human = human.drop('sequence', axis=1)"
   ]
  },
  {
   "cell_type": "code",
   "execution_count": 40,
   "id": "7b83c459",
   "metadata": {},
   "outputs": [
    {
     "data": {
      "text/html": [
       "<div>\n",
       "<style scoped>\n",
       "    .dataframe tbody tr th:only-of-type {\n",
       "        vertical-align: middle;\n",
       "    }\n",
       "\n",
       "    .dataframe tbody tr th {\n",
       "        vertical-align: top;\n",
       "    }\n",
       "\n",
       "    .dataframe thead th {\n",
       "        text-align: right;\n",
       "    }\n",
       "</style>\n",
       "<table border=\"1\" class=\"dataframe\">\n",
       "  <thead>\n",
       "    <tr style=\"text-align: right;\">\n",
       "      <th></th>\n",
       "      <th>sequence</th>\n",
       "      <th>class</th>\n",
       "      <th>sequence_length</th>\n",
       "      <th>A_count</th>\n",
       "      <th>T_count</th>\n",
       "      <th>G_count</th>\n",
       "      <th>C_count</th>\n",
       "      <th>2mer</th>\n",
       "      <th>3mer</th>\n",
       "      <th>4mer</th>\n",
       "      <th>5mer</th>\n",
       "      <th>6mer</th>\n",
       "      <th>7mer</th>\n",
       "      <th>8mer</th>\n",
       "      <th>9mer</th>\n",
       "      <th>10mer</th>\n",
       "    </tr>\n",
       "  </thead>\n",
       "  <tbody>\n",
       "    <tr>\n",
       "      <th>0</th>\n",
       "      <td>ATGCCCCAACTAAATACTACCGTATGGCCCACCATAATTACCCCCA...</td>\n",
       "      <td>4</td>\n",
       "      <td>207</td>\n",
       "      <td>80</td>\n",
       "      <td>45</td>\n",
       "      <td>13</td>\n",
       "      <td>69</td>\n",
       "      <td>[at, tg, gc, cc, cc, cc, ca, aa, ac, ct, ta, a...</td>\n",
       "      <td>[atg, tgc, gcc, ccc, ccc, cca, caa, aac, act, ...</td>\n",
       "      <td>[atgc, tgcc, gccc, cccc, ccca, ccaa, caac, aac...</td>\n",
       "      <td>[atgcc, tgccc, gcccc, cccca, cccaa, ccaac, caa...</td>\n",
       "      <td>[atgccc, tgcccc, gcccca, ccccaa, cccaac, ccaac...</td>\n",
       "      <td>[atgcccc, tgcccca, gccccaa, ccccaac, cccaact, ...</td>\n",
       "      <td>[atgcccca, tgccccaa, gccccaac, ccccaact, cccaa...</td>\n",
       "      <td>[atgccccaa, tgccccaac, gccccaact, ccccaacta, c...</td>\n",
       "      <td>[atgccccaac, tgccccaact, gccccaacta, ccccaacta...</td>\n",
       "    </tr>\n",
       "    <tr>\n",
       "      <th>1</th>\n",
       "      <td>ATGAACGAAAATCTGTTCGCTTCATTCATTGCCCCCACAATCCTAG...</td>\n",
       "      <td>4</td>\n",
       "      <td>681</td>\n",
       "      <td>206</td>\n",
       "      <td>174</td>\n",
       "      <td>71</td>\n",
       "      <td>230</td>\n",
       "      <td>[at, tg, ga, aa, ac, cg, ga, aa, aa, aa, at, t...</td>\n",
       "      <td>[atg, tga, gaa, aac, acg, cga, gaa, aaa, aaa, ...</td>\n",
       "      <td>[atga, tgaa, gaac, aacg, acga, cgaa, gaaa, aaa...</td>\n",
       "      <td>[atgaa, tgaac, gaacg, aacga, acgaa, cgaaa, gaa...</td>\n",
       "      <td>[atgaac, tgaacg, gaacga, aacgaa, acgaaa, cgaaa...</td>\n",
       "      <td>[atgaacg, tgaacga, gaacgaa, aacgaaa, acgaaaa, ...</td>\n",
       "      <td>[atgaacga, tgaacgaa, gaacgaaa, aacgaaaa, acgaa...</td>\n",
       "      <td>[atgaacgaa, tgaacgaaa, gaacgaaaa, aacgaaaat, a...</td>\n",
       "      <td>[atgaacgaaa, tgaacgaaaa, gaacgaaaat, aacgaaaat...</td>\n",
       "    </tr>\n",
       "    <tr>\n",
       "      <th>2</th>\n",
       "      <td>ATGTGTGGCATTTGGGCGCTGTTTGGCAGTGATGATTGCCTTTCTG...</td>\n",
       "      <td>3</td>\n",
       "      <td>1686</td>\n",
       "      <td>476</td>\n",
       "      <td>483</td>\n",
       "      <td>393</td>\n",
       "      <td>334</td>\n",
       "      <td>[at, tg, gt, tg, gt, tg, gg, gc, ca, at, tt, t...</td>\n",
       "      <td>[atg, tgt, gtg, tgt, gtg, tgg, ggc, gca, cat, ...</td>\n",
       "      <td>[atgt, tgtg, gtgt, tgtg, gtgg, tggc, ggca, gca...</td>\n",
       "      <td>[atgtg, tgtgt, gtgtg, tgtgg, gtggc, tggca, ggc...</td>\n",
       "      <td>[atgtgt, tgtgtg, gtgtgg, tgtggc, gtggca, tggca...</td>\n",
       "      <td>[atgtgtg, tgtgtgg, gtgtggc, tgtggca, gtggcat, ...</td>\n",
       "      <td>[atgtgtgg, tgtgtggc, gtgtggca, tgtggcat, gtggc...</td>\n",
       "      <td>[atgtgtggc, tgtgtggca, gtgtggcat, tgtggcatt, g...</td>\n",
       "      <td>[atgtgtggca, tgtgtggcat, gtgtggcatt, tgtggcatt...</td>\n",
       "    </tr>\n",
       "    <tr>\n",
       "      <th>3</th>\n",
       "      <td>ATGTGTGGCATTTGGGCGCTGTTTGGCAGTGATGATTGCCTTTCTG...</td>\n",
       "      <td>3</td>\n",
       "      <td>1206</td>\n",
       "      <td>339</td>\n",
       "      <td>363</td>\n",
       "      <td>294</td>\n",
       "      <td>210</td>\n",
       "      <td>[at, tg, gt, tg, gt, tg, gg, gc, ca, at, tt, t...</td>\n",
       "      <td>[atg, tgt, gtg, tgt, gtg, tgg, ggc, gca, cat, ...</td>\n",
       "      <td>[atgt, tgtg, gtgt, tgtg, gtgg, tggc, ggca, gca...</td>\n",
       "      <td>[atgtg, tgtgt, gtgtg, tgtgg, gtggc, tggca, ggc...</td>\n",
       "      <td>[atgtgt, tgtgtg, gtgtgg, tgtggc, gtggca, tggca...</td>\n",
       "      <td>[atgtgtg, tgtgtgg, gtgtggc, tgtggca, gtggcat, ...</td>\n",
       "      <td>[atgtgtgg, tgtgtggc, gtgtggca, tgtggcat, gtggc...</td>\n",
       "      <td>[atgtgtggc, tgtgtggca, gtgtggcat, tgtggcatt, g...</td>\n",
       "      <td>[atgtgtggca, tgtgtggcat, gtgtggcatt, tgtggcatt...</td>\n",
       "    </tr>\n",
       "    <tr>\n",
       "      <th>4</th>\n",
       "      <td>ATGCAACAGCATTTTGAATTTGAATACCAGACCAAAGTGGATGGTG...</td>\n",
       "      <td>3</td>\n",
       "      <td>1437</td>\n",
       "      <td>417</td>\n",
       "      <td>406</td>\n",
       "      <td>326</td>\n",
       "      <td>288</td>\n",
       "      <td>[at, tg, gc, ca, aa, ac, ca, ag, gc, ca, at, t...</td>\n",
       "      <td>[atg, tgc, gca, caa, aac, aca, cag, agc, gca, ...</td>\n",
       "      <td>[atgc, tgca, gcaa, caac, aaca, acag, cagc, agc...</td>\n",
       "      <td>[atgca, tgcaa, gcaac, caaca, aacag, acagc, cag...</td>\n",
       "      <td>[atgcaa, tgcaac, gcaaca, caacag, aacagc, acagc...</td>\n",
       "      <td>[atgcaac, tgcaaca, gcaacag, caacagc, aacagca, ...</td>\n",
       "      <td>[atgcaaca, tgcaacag, gcaacagc, caacagca, aacag...</td>\n",
       "      <td>[atgcaacag, tgcaacagc, gcaacagca, caacagcat, a...</td>\n",
       "      <td>[atgcaacagc, tgcaacagca, gcaacagcat, caacagcat...</td>\n",
       "    </tr>\n",
       "  </tbody>\n",
       "</table>\n",
       "</div>"
      ],
      "text/plain": [
       "                                            sequence  class  sequence_length  \\\n",
       "0  ATGCCCCAACTAAATACTACCGTATGGCCCACCATAATTACCCCCA...      4              207   \n",
       "1  ATGAACGAAAATCTGTTCGCTTCATTCATTGCCCCCACAATCCTAG...      4              681   \n",
       "2  ATGTGTGGCATTTGGGCGCTGTTTGGCAGTGATGATTGCCTTTCTG...      3             1686   \n",
       "3  ATGTGTGGCATTTGGGCGCTGTTTGGCAGTGATGATTGCCTTTCTG...      3             1206   \n",
       "4  ATGCAACAGCATTTTGAATTTGAATACCAGACCAAAGTGGATGGTG...      3             1437   \n",
       "\n",
       "   A_count  T_count  G_count  C_count  \\\n",
       "0       80       45       13       69   \n",
       "1      206      174       71      230   \n",
       "2      476      483      393      334   \n",
       "3      339      363      294      210   \n",
       "4      417      406      326      288   \n",
       "\n",
       "                                                2mer  \\\n",
       "0  [at, tg, gc, cc, cc, cc, ca, aa, ac, ct, ta, a...   \n",
       "1  [at, tg, ga, aa, ac, cg, ga, aa, aa, aa, at, t...   \n",
       "2  [at, tg, gt, tg, gt, tg, gg, gc, ca, at, tt, t...   \n",
       "3  [at, tg, gt, tg, gt, tg, gg, gc, ca, at, tt, t...   \n",
       "4  [at, tg, gc, ca, aa, ac, ca, ag, gc, ca, at, t...   \n",
       "\n",
       "                                                3mer  \\\n",
       "0  [atg, tgc, gcc, ccc, ccc, cca, caa, aac, act, ...   \n",
       "1  [atg, tga, gaa, aac, acg, cga, gaa, aaa, aaa, ...   \n",
       "2  [atg, tgt, gtg, tgt, gtg, tgg, ggc, gca, cat, ...   \n",
       "3  [atg, tgt, gtg, tgt, gtg, tgg, ggc, gca, cat, ...   \n",
       "4  [atg, tgc, gca, caa, aac, aca, cag, agc, gca, ...   \n",
       "\n",
       "                                                4mer  \\\n",
       "0  [atgc, tgcc, gccc, cccc, ccca, ccaa, caac, aac...   \n",
       "1  [atga, tgaa, gaac, aacg, acga, cgaa, gaaa, aaa...   \n",
       "2  [atgt, tgtg, gtgt, tgtg, gtgg, tggc, ggca, gca...   \n",
       "3  [atgt, tgtg, gtgt, tgtg, gtgg, tggc, ggca, gca...   \n",
       "4  [atgc, tgca, gcaa, caac, aaca, acag, cagc, agc...   \n",
       "\n",
       "                                                5mer  \\\n",
       "0  [atgcc, tgccc, gcccc, cccca, cccaa, ccaac, caa...   \n",
       "1  [atgaa, tgaac, gaacg, aacga, acgaa, cgaaa, gaa...   \n",
       "2  [atgtg, tgtgt, gtgtg, tgtgg, gtggc, tggca, ggc...   \n",
       "3  [atgtg, tgtgt, gtgtg, tgtgg, gtggc, tggca, ggc...   \n",
       "4  [atgca, tgcaa, gcaac, caaca, aacag, acagc, cag...   \n",
       "\n",
       "                                                6mer  \\\n",
       "0  [atgccc, tgcccc, gcccca, ccccaa, cccaac, ccaac...   \n",
       "1  [atgaac, tgaacg, gaacga, aacgaa, acgaaa, cgaaa...   \n",
       "2  [atgtgt, tgtgtg, gtgtgg, tgtggc, gtggca, tggca...   \n",
       "3  [atgtgt, tgtgtg, gtgtgg, tgtggc, gtggca, tggca...   \n",
       "4  [atgcaa, tgcaac, gcaaca, caacag, aacagc, acagc...   \n",
       "\n",
       "                                                7mer  \\\n",
       "0  [atgcccc, tgcccca, gccccaa, ccccaac, cccaact, ...   \n",
       "1  [atgaacg, tgaacga, gaacgaa, aacgaaa, acgaaaa, ...   \n",
       "2  [atgtgtg, tgtgtgg, gtgtggc, tgtggca, gtggcat, ...   \n",
       "3  [atgtgtg, tgtgtgg, gtgtggc, tgtggca, gtggcat, ...   \n",
       "4  [atgcaac, tgcaaca, gcaacag, caacagc, aacagca, ...   \n",
       "\n",
       "                                                8mer  \\\n",
       "0  [atgcccca, tgccccaa, gccccaac, ccccaact, cccaa...   \n",
       "1  [atgaacga, tgaacgaa, gaacgaaa, aacgaaaa, acgaa...   \n",
       "2  [atgtgtgg, tgtgtggc, gtgtggca, tgtggcat, gtggc...   \n",
       "3  [atgtgtgg, tgtgtggc, gtgtggca, tgtggcat, gtggc...   \n",
       "4  [atgcaaca, tgcaacag, gcaacagc, caacagca, aacag...   \n",
       "\n",
       "                                                9mer  \\\n",
       "0  [atgccccaa, tgccccaac, gccccaact, ccccaacta, c...   \n",
       "1  [atgaacgaa, tgaacgaaa, gaacgaaaa, aacgaaaat, a...   \n",
       "2  [atgtgtggc, tgtgtggca, gtgtggcat, tgtggcatt, g...   \n",
       "3  [atgtgtggc, tgtgtggca, gtgtggcat, tgtggcatt, g...   \n",
       "4  [atgcaacag, tgcaacagc, gcaacagca, caacagcat, a...   \n",
       "\n",
       "                                               10mer  \n",
       "0  [atgccccaac, tgccccaact, gccccaacta, ccccaacta...  \n",
       "1  [atgaacgaaa, tgaacgaaaa, gaacgaaaat, aacgaaaat...  \n",
       "2  [atgtgtggca, tgtgtggcat, gtgtggcatt, tgtggcatt...  \n",
       "3  [atgtgtggca, tgtgtggcat, gtgtggcatt, tgtggcatt...  \n",
       "4  [atgcaacagc, tgcaacagca, gcaacagcat, caacagcat...  "
      ]
     },
     "execution_count": 40,
     "metadata": {},
     "output_type": "execute_result"
    }
   ],
   "source": [
    "human.head()"
   ]
  },
  {
   "cell_type": "markdown",
   "id": "eb666708",
   "metadata": {},
   "source": [
    "### Save the human kmer-ized sequence dataset"
   ]
  },
  {
   "cell_type": "code",
   "execution_count": 41,
   "id": "5a9a773a",
   "metadata": {},
   "outputs": [
    {
     "data": {
      "text/plain": [
       "Index(['sequence', 'class', 'sequence_length', 'A_count', 'T_count', 'G_count',\n",
       "       'C_count', '2mer', '3mer', '4mer', '5mer', '6mer', '7mer', '8mer',\n",
       "       '9mer', '10mer'],\n",
       "      dtype='object')"
      ]
     },
     "execution_count": 41,
     "metadata": {},
     "output_type": "execute_result"
    }
   ],
   "source": [
    "human.columns"
   ]
  },
  {
   "cell_type": "code",
   "execution_count": 48,
   "id": "5d8d2bfa",
   "metadata": {},
   "outputs": [],
   "source": [
    "human.to_csv('../datasets/human_kmer_dataset.csv', columns=human.columns, index=False, encoding='utf-8')"
   ]
  },
  {
   "cell_type": "markdown",
   "id": "9399bfb8",
   "metadata": {},
   "source": [
    "---"
   ]
  },
  {
   "cell_type": "markdown",
   "id": "9d6fe8f0",
   "metadata": {},
   "source": [
    "# Explore the frequency of A, T, G, C bases in the dimer, trimer, etc."
   ]
  },
  {
   "cell_type": "code",
   "execution_count": 16,
   "id": "38da1852",
   "metadata": {},
   "outputs": [],
   "source": [
    "def freq_table(text, count=None):\n",
    "\n",
    "    freqs = FreqDist(text).most_common()\n",
    "    prob = [round(x[1]/len(text),4) for x in freqs]\n",
    "\n",
    "    freq = zip(freqs,prob)\n",
    "\n",
    "    comp_freqs = []\n",
    "    for s,p in freq:\n",
    "        comp_freqs.append([s[0],s[1],p])\n",
    "\n",
    "    comp_freqs.sort(key=lambda tup: tup[1], reverse=True) #Sort the list so it's in order, big to small\n",
    "\n",
    "    if count == None:\n",
    "        most = comp_freqs[:26]    \n",
    "        hapax = comp_freqs[:-25:-1]\n",
    "    else:\n",
    "        most = comp_freqs[:count + 1]\n",
    "        hapax = comp_freqs[:-count:-1]\n",
    "\n",
    "    print('Most Common \\t\\t  Least Common')\n",
    "\n",
    "    for i in zip(most, hapax):\n",
    "        print(i[0], \" \"*(24-len(str(i[0]))),i[1])"
   ]
  },
  {
   "cell_type": "code",
   "execution_count": 17,
   "id": "cf3cf8be",
   "metadata": {
    "scrolled": true
   },
   "outputs": [
    {
     "name": "stdout",
     "output_type": "stream",
     "text": [
      "Most Common \t\t  Least Common\n",
      "['aa', 36, 0.1748]        ['gg', 1, 0.0049]\n",
      "['cc', 31, 0.1505]        ['gt', 2, 0.0097]\n",
      "['ac', 22, 0.1068]        ['ag', 3, 0.0146]\n",
      "['ca', 20, 0.0971]        ['cg', 3, 0.0146]\n",
      "['at', 19, 0.0922]        ['ga', 4, 0.0194]\n",
      "['ta', 19, 0.0922]        ['gc', 5, 0.0243]\n",
      "['ct', 15, 0.0728]        ['tg', 6, 0.0291]\n",
      "['tc', 11, 0.0534]        ['tt', 9, 0.0437]\n",
      "['tt', 9, 0.0437]         ['tc', 11, 0.0534]\n"
     ]
    }
   ],
   "source": [
    "freq_table(human['2mer'][0], count=10)"
   ]
  },
  {
   "cell_type": "code",
   "execution_count": 18,
   "id": "6a611e31",
   "metadata": {},
   "outputs": [
    {
     "name": "stdout",
     "output_type": "stream",
     "text": [
      "Most Common \t\t  Least Common\n",
      "['aaa', 19, 0.0927]       ['tag', 1, 0.0049]\n",
      "['ccc', 13, 0.0634]       ['ttg', 1, 0.0049]\n",
      "['cca', 10, 0.0488]       ['gct', 1, 0.0049]\n",
      "['acc', 10, 0.0488]       ['cgc', 1, 0.0049]\n",
      "['aac', 8, 0.039]         ['tcg', 1, 0.0049]\n",
      "['aat', 8, 0.039]         ['gtt', 1, 0.0049]\n",
      "['caa', 7, 0.0341]        ['tgt', 1, 0.0049]\n",
      "['cta', 7, 0.0341]        ['tct', 1, 0.0049]\n",
      "['taa', 7, 0.0341]        ['cga', 1, 0.0049]\n"
     ]
    }
   ],
   "source": [
    "freq_table(human['3mer'][0], count=10)"
   ]
  },
  {
   "cell_type": "code",
   "execution_count": 26,
   "id": "92ced1e2",
   "metadata": {},
   "outputs": [],
   "source": [
    "def report_top_kmers(seqence, \n",
    "                     kmers, \n",
    "                     gene_family_class, \n",
    "                     top_numbers):\n",
    "    \n",
    "    plt.figure(figsize=(12, 4))\n",
    "    plt.title(f'Top {top_numbers} {kmers} in gene family class = {gene_family_class}', fontsize = 16)\n",
    "    plt.xlabel(f'{kmers} labels', fontsize = 12)\n",
    "    plt.ylabel(f'{kmers} count %', fontsize = 12)\n",
    "    freqs = FreqDist(\n",
    "        sum(seqence[seqence['class'] == gene_family_class][kmers].to_list(),[])).most_common(top_numbers)\n",
    "\n",
    "    x = [x[0] for x in freqs]\n",
    "    y = [x[1] for x in freqs]\n",
    "\n",
    "    sns.barplot(x=x, y=(y/np.max(y))*100)\n",
    "\n",
    "    plt.xticks(fontsize=12,rotation=30)\n",
    "    plt.yticks(fontsize=12);\n",
    "\n"
   ]
  },
  {
   "cell_type": "markdown",
   "id": "b689657b",
   "metadata": {},
   "source": []
  },
  {
   "cell_type": "code",
   "execution_count": 27,
   "id": "2b26862d",
   "metadata": {},
   "outputs": [
    {
     "data": {
      "image/png": "[encoded data removed]",
      "text/plain": [
       "<Figure size 864x288 with 1 Axes>"
      ]
     },
     "metadata": {
      "needs_background": "light"
     },
     "output_type": "display_data"
    }
   ],
   "source": [
    "report_top_kmers(human, \n",
    "                 kmers = '2mer', \n",
    "                 gene_family_class = 0, \n",
    "                 top_numbers = 20)"
   ]
  },
  {
   "cell_type": "code",
   "execution_count": 28,
   "id": "b061310f",
   "metadata": {},
   "outputs": [
    {
     "data": {
      "image/png": "[encoded data removed]",
      "text/plain": [
       "<Figure size 864x288 with 1 Axes>"
      ]
     },
     "metadata": {
      "needs_background": "light"
     },
     "output_type": "display_data"
    }
   ],
   "source": [
    "report_top_kmers(human, \n",
    "                 kmers = '3mer', \n",
    "                 gene_family_class = 0, \n",
    "                 top_numbers = 20)"
   ]
  },
  {
   "cell_type": "code",
   "execution_count": 29,
   "id": "d1d0172e",
   "metadata": {},
   "outputs": [
    {
     "data": {
      "image/png": "[encoded data removed]",
      "text/plain": [
       "<Figure size 864x288 with 1 Axes>"
      ]
     },
     "metadata": {
      "needs_background": "light"
     },
     "output_type": "display_data"
    }
   ],
   "source": [
    "report_top_kmers(human, \n",
    "                 kmers = '2mer', \n",
    "                 gene_family_class = 5, \n",
    "                 top_numbers = 20)"
   ]
  },
  {
   "cell_type": "code",
   "execution_count": 30,
   "id": "22060d4e",
   "metadata": {},
   "outputs": [
    {
     "data": {
      "image/png": "[encoded data removed]",
      "text/plain": [
       "<Figure size 864x288 with 1 Axes>"
      ]
     },
     "metadata": {
      "needs_background": "light"
     },
     "output_type": "display_data"
    }
   ],
   "source": [
    "report_top_kmers(human, \n",
    "                 kmers = '2mer', \n",
    "                 gene_family_class = 4, \n",
    "                 top_numbers = 20)"
   ]
  },
  {
   "cell_type": "code",
   "execution_count": 31,
   "id": "2c7b9890",
   "metadata": {},
   "outputs": [
    {
     "data": {
      "image/png": "[encoded data removed]",
      "text/plain": [
       "<Figure size 864x288 with 1 Axes>"
      ]
     },
     "metadata": {
      "needs_background": "light"
     },
     "output_type": "display_data"
    }
   ],
   "source": [
    "report_top_kmers(human, \n",
    "                 kmers = '6mer', \n",
    "                 gene_family_class = 1, \n",
    "                 top_numbers = 20)"
   ]
  },
  {
   "cell_type": "markdown",
   "id": "3cdb745e",
   "metadata": {},
   "source": [
    "# Modeling\n",
    "\n",
    "---\n",
    "\n",
    "We may want to test lots of different values of hyperparameters in our CountVectorizer."
   ]
  },
  {
   "cell_type": "markdown",
   "id": "ec9b82fc",
   "metadata": {},
   "source": [
    "<details><summary>Why do we need a pipeline to GridSearch over our CountVectorizer hyperparameters?</summary>\n",
    "    \n",
    "- The CountVectorizer is a transformer.\n",
    "- Transformers have .fit() and .transform() methods, but cannot do .predict().\n",
    "- In order to GridSearch over hyperparameters, we need some way to score our model performance.\n",
    "- A pipeline stacks together one or more transformers with an estimator at the end. The estimator allows us to .predict() and get a score!\n",
    "</details>"
   ]
  },
  {
   "cell_type": "code",
   "execution_count": 42,
   "id": "2c3d3e59",
   "metadata": {},
   "outputs": [],
   "source": [
    "# Split the data into the training and testing sets.\n",
    "X_train, X_test, y_train, y_test = train_test_split([' '.join(x) for x in human['10mer']],\n",
    "                                                    human['class'],\n",
    "                                                    test_size=0.33,\n",
    "                                                    stratify=human['class'],\n",
    "                                                    random_state=42)"
   ]
  },
  {
   "cell_type": "markdown",
   "id": "3591157a",
   "metadata": {},
   "source": [
    "## Baseline accuracy\n",
    "\n",
    "We need to calculate baseline accuracy in order to tell if our model is better than null model."
   ]
  },
  {
   "cell_type": "code",
   "execution_count": 43,
   "id": "9cb24e70",
   "metadata": {},
   "outputs": [
    {
     "data": {
      "text/plain": [
       "(class\n",
       " 6        0.306408\n",
       " 4        0.162236\n",
       " 3        0.153374\n",
       " 1        0.122018\n",
       " 0        0.121336\n",
       " 2        0.079755\n",
       " 5        0.054874\n",
       " dtype: float64,\n",
       " class\n",
       " 6        0.307054\n",
       " 4        0.162517\n",
       " 3        0.153527\n",
       " 1        0.121715\n",
       " 0        0.121024\n",
       " 2        0.079530\n",
       " 5        0.054633\n",
       " dtype: float64)"
      ]
     },
     "execution_count": 43,
     "metadata": {},
     "output_type": "execute_result"
    }
   ],
   "source": [
    "pd.DataFrame(y_train).value_counts(normalize=True), pd.DataFrame(y_test).value_counts(normalize=True)"
   ]
  },
  {
   "cell_type": "code",
   "execution_count": 44,
   "id": "c47ce225",
   "metadata": {},
   "outputs": [],
   "source": [
    "cvec = CountVectorizer(ngram_range=(4,4))"
   ]
  },
  {
   "cell_type": "code",
   "execution_count": 45,
   "id": "c2852dd8",
   "metadata": {},
   "outputs": [],
   "source": [
    "# Fit & transform the vectorizer on our training corpus.\n",
    "Xcv_train = cvec.fit_transform(X_train)"
   ]
  },
  {
   "cell_type": "code",
   "execution_count": 46,
   "id": "7f2bd867",
   "metadata": {},
   "outputs": [
    {
     "data": {
      "text/html": [
       "<div>\n",
       "<style scoped>\n",
       "    .dataframe tbody tr th:only-of-type {\n",
       "        vertical-align: middle;\n",
       "    }\n",
       "\n",
       "    .dataframe tbody tr th {\n",
       "        vertical-align: top;\n",
       "    }\n",
       "\n",
       "    .dataframe thead th {\n",
       "        text-align: right;\n",
       "    }\n",
       "</style>\n",
       "<table border=\"1\" class=\"dataframe\">\n",
       "  <thead>\n",
       "    <tr style=\"text-align: right;\">\n",
       "      <th></th>\n",
       "      <th>aaaaaaaaaa aaaaaaaaaa aaaaaaaaac aaaaaaaaca</th>\n",
       "      <th>aaaaaaaaaa aaaaaaaaaa aaaaaaaaac aaaaaaaacc</th>\n",
       "      <th>aaaaaaaaaa aaaaaaaaaa aaaaaaaaac aaaaaaaacg</th>\n",
       "      <th>aaaaaaaaaa aaaaaaaaaa aaaaaaaaag aaaaaaaaga</th>\n",
       "      <th>aaaaaaaaaa aaaaaaaaaa aaaaaaaaag aaaaaaaagc</th>\n",
       "      <th>aaaaaaaaaa aaaaaaaaac aaaaaaaaca aaaaaaacag</th>\n",
       "      <th>aaaaaaaaaa aaaaaaaaac aaaaaaaacc aaaaaaaccc</th>\n",
       "      <th>aaaaaaaaaa aaaaaaaaac aaaaaaaacg aaaaaaacgc</th>\n",
       "      <th>aaaaaaaaaa aaaaaaaaag aaaaaaaaga aaaaaaagaa</th>\n",
       "      <th>aaaaaaaaaa aaaaaaaaag aaaaaaaaga aaaaaaagag</th>\n",
       "      <th>...</th>\n",
       "      <th>ttttttttcc tttttttcct ttttttccta tttttcctaa</th>\n",
       "      <th>ttttttttcc tttttttcct ttttttcctc tttttcctcc</th>\n",
       "      <th>ttttttttct tttttttctt ttttttcttg tttttcttga</th>\n",
       "      <th>ttttttttgc tttttttgct ttttttgctc tttttgctct</th>\n",
       "      <th>ttttttttgg tttttttggg ttttttggga tttttgggag</th>\n",
       "      <th>ttttttttgt tttttttgtt ttttttgtta tttttgttat</th>\n",
       "      <th>tttttttttc ttttttttca tttttttcac ttttttcacc</th>\n",
       "      <th>tttttttttc ttttttttcc tttttttcct ttttttcctc</th>\n",
       "      <th>tttttttttg ttttttttgg tttttttggg ttttttggga</th>\n",
       "      <th>tttttttttg ttttttttgt tttttttgtt ttttttgtta</th>\n",
       "    </tr>\n",
       "  </thead>\n",
       "  <tbody>\n",
       "    <tr>\n",
       "      <th>0</th>\n",
       "      <td>0</td>\n",
       "      <td>0</td>\n",
       "      <td>0</td>\n",
       "      <td>0</td>\n",
       "      <td>0</td>\n",
       "      <td>0</td>\n",
       "      <td>0</td>\n",
       "      <td>0</td>\n",
       "      <td>0</td>\n",
       "      <td>0</td>\n",
       "      <td>...</td>\n",
       "      <td>0</td>\n",
       "      <td>0</td>\n",
       "      <td>0</td>\n",
       "      <td>0</td>\n",
       "      <td>0</td>\n",
       "      <td>0</td>\n",
       "      <td>0</td>\n",
       "      <td>0</td>\n",
       "      <td>0</td>\n",
       "      <td>0</td>\n",
       "    </tr>\n",
       "    <tr>\n",
       "      <th>1</th>\n",
       "      <td>0</td>\n",
       "      <td>0</td>\n",
       "      <td>0</td>\n",
       "      <td>0</td>\n",
       "      <td>0</td>\n",
       "      <td>0</td>\n",
       "      <td>0</td>\n",
       "      <td>0</td>\n",
       "      <td>0</td>\n",
       "      <td>0</td>\n",
       "      <td>...</td>\n",
       "      <td>0</td>\n",
       "      <td>0</td>\n",
       "      <td>0</td>\n",
       "      <td>0</td>\n",
       "      <td>0</td>\n",
       "      <td>0</td>\n",
       "      <td>0</td>\n",
       "      <td>0</td>\n",
       "      <td>0</td>\n",
       "      <td>0</td>\n",
       "    </tr>\n",
       "    <tr>\n",
       "      <th>2</th>\n",
       "      <td>0</td>\n",
       "      <td>0</td>\n",
       "      <td>0</td>\n",
       "      <td>0</td>\n",
       "      <td>0</td>\n",
       "      <td>0</td>\n",
       "      <td>0</td>\n",
       "      <td>0</td>\n",
       "      <td>0</td>\n",
       "      <td>0</td>\n",
       "      <td>...</td>\n",
       "      <td>0</td>\n",
       "      <td>0</td>\n",
       "      <td>0</td>\n",
       "      <td>0</td>\n",
       "      <td>0</td>\n",
       "      <td>0</td>\n",
       "      <td>0</td>\n",
       "      <td>0</td>\n",
       "      <td>0</td>\n",
       "      <td>0</td>\n",
       "    </tr>\n",
       "    <tr>\n",
       "      <th>3</th>\n",
       "      <td>0</td>\n",
       "      <td>0</td>\n",
       "      <td>0</td>\n",
       "      <td>0</td>\n",
       "      <td>0</td>\n",
       "      <td>0</td>\n",
       "      <td>0</td>\n",
       "      <td>0</td>\n",
       "      <td>0</td>\n",
       "      <td>0</td>\n",
       "      <td>...</td>\n",
       "      <td>0</td>\n",
       "      <td>0</td>\n",
       "      <td>0</td>\n",
       "      <td>0</td>\n",
       "      <td>0</td>\n",
       "      <td>0</td>\n",
       "      <td>0</td>\n",
       "      <td>0</td>\n",
       "      <td>0</td>\n",
       "      <td>0</td>\n",
       "    </tr>\n",
       "    <tr>\n",
       "      <th>4</th>\n",
       "      <td>0</td>\n",
       "      <td>0</td>\n",
       "      <td>0</td>\n",
       "      <td>0</td>\n",
       "      <td>0</td>\n",
       "      <td>0</td>\n",
       "      <td>0</td>\n",
       "      <td>0</td>\n",
       "      <td>0</td>\n",
       "      <td>0</td>\n",
       "      <td>...</td>\n",
       "      <td>0</td>\n",
       "      <td>0</td>\n",
       "      <td>0</td>\n",
       "      <td>0</td>\n",
       "      <td>0</td>\n",
       "      <td>0</td>\n",
       "      <td>0</td>\n",
       "      <td>0</td>\n",
       "      <td>0</td>\n",
       "      <td>0</td>\n",
       "    </tr>\n",
       "  </tbody>\n",
       "</table>\n",
       "<p>5 rows × 1242018 columns</p>\n",
       "</div>"
      ],
      "text/plain": [
       "   aaaaaaaaaa aaaaaaaaaa aaaaaaaaac aaaaaaaaca  \\\n",
       "0                                            0   \n",
       "1                                            0   \n",
       "2                                            0   \n",
       "3                                            0   \n",
       "4                                            0   \n",
       "\n",
       "   aaaaaaaaaa aaaaaaaaaa aaaaaaaaac aaaaaaaacc  \\\n",
       "0                                            0   \n",
       "1                                            0   \n",
       "2                                            0   \n",
       "3                                            0   \n",
       "4                                            0   \n",
       "\n",
       "   aaaaaaaaaa aaaaaaaaaa aaaaaaaaac aaaaaaaacg  \\\n",
       "0                                            0   \n",
       "1                                            0   \n",
       "2                                            0   \n",
       "3                                            0   \n",
       "4                                            0   \n",
       "\n",
       "   aaaaaaaaaa aaaaaaaaaa aaaaaaaaag aaaaaaaaga  \\\n",
       "0                                            0   \n",
       "1                                            0   \n",
       "2                                            0   \n",
       "3                                            0   \n",
       "4                                            0   \n",
       "\n",
       "   aaaaaaaaaa aaaaaaaaaa aaaaaaaaag aaaaaaaagc  \\\n",
       "0                                            0   \n",
       "1                                            0   \n",
       "2                                            0   \n",
       "3                                            0   \n",
       "4                                            0   \n",
       "\n",
       "   aaaaaaaaaa aaaaaaaaac aaaaaaaaca aaaaaaacag  \\\n",
       "0                                            0   \n",
       "1                                            0   \n",
       "2                                            0   \n",
       "3                                            0   \n",
       "4                                            0   \n",
       "\n",
       "   aaaaaaaaaa aaaaaaaaac aaaaaaaacc aaaaaaaccc  \\\n",
       "0                                            0   \n",
       "1                                            0   \n",
       "2                                            0   \n",
       "3                                            0   \n",
       "4                                            0   \n",
       "\n",
       "   aaaaaaaaaa aaaaaaaaac aaaaaaaacg aaaaaaacgc  \\\n",
       "0                                            0   \n",
       "1                                            0   \n",
       "2                                            0   \n",
       "3                                            0   \n",
       "4                                            0   \n",
       "\n",
       "   aaaaaaaaaa aaaaaaaaag aaaaaaaaga aaaaaaagaa  \\\n",
       "0                                            0   \n",
       "1                                            0   \n",
       "2                                            0   \n",
       "3                                            0   \n",
       "4                                            0   \n",
       "\n",
       "   aaaaaaaaaa aaaaaaaaag aaaaaaaaga aaaaaaagag  ...  \\\n",
       "0                                            0  ...   \n",
       "1                                            0  ...   \n",
       "2                                            0  ...   \n",
       "3                                            0  ...   \n",
       "4                                            0  ...   \n",
       "\n",
       "   ttttttttcc tttttttcct ttttttccta tttttcctaa  \\\n",
       "0                                            0   \n",
       "1                                            0   \n",
       "2                                            0   \n",
       "3                                            0   \n",
       "4                                            0   \n",
       "\n",
       "   ttttttttcc tttttttcct ttttttcctc tttttcctcc  \\\n",
       "0                                            0   \n",
       "1                                            0   \n",
       "2                                            0   \n",
       "3                                            0   \n",
       "4                                            0   \n",
       "\n",
       "   ttttttttct tttttttctt ttttttcttg tttttcttga  \\\n",
       "0                                            0   \n",
       "1                                            0   \n",
       "2                                            0   \n",
       "3                                            0   \n",
       "4                                            0   \n",
       "\n",
       "   ttttttttgc tttttttgct ttttttgctc tttttgctct  \\\n",
       "0                                            0   \n",
       "1                                            0   \n",
       "2                                            0   \n",
       "3                                            0   \n",
       "4                                            0   \n",
       "\n",
       "   ttttttttgg tttttttggg ttttttggga tttttgggag  \\\n",
       "0                                            0   \n",
       "1                                            0   \n",
       "2                                            0   \n",
       "3                                            0   \n",
       "4                                            0   \n",
       "\n",
       "   ttttttttgt tttttttgtt ttttttgtta tttttgttat  \\\n",
       "0                                            0   \n",
       "1                                            0   \n",
       "2                                            0   \n",
       "3                                            0   \n",
       "4                                            0   \n",
       "\n",
       "   tttttttttc ttttttttca tttttttcac ttttttcacc  \\\n",
       "0                                            0   \n",
       "1                                            0   \n",
       "2                                            0   \n",
       "3                                            0   \n",
       "4                                            0   \n",
       "\n",
       "   tttttttttc ttttttttcc tttttttcct ttttttcctc  \\\n",
       "0                                            0   \n",
       "1                                            0   \n",
       "2                                            0   \n",
       "3                                            0   \n",
       "4                                            0   \n",
       "\n",
       "   tttttttttg ttttttttgg tttttttggg ttttttggga  \\\n",
       "0                                            0   \n",
       "1                                            0   \n",
       "2                                            0   \n",
       "3                                            0   \n",
       "4                                            0   \n",
       "\n",
       "   tttttttttg ttttttttgt tttttttgtt ttttttgtta  \n",
       "0                                            0  \n",
       "1                                            0  \n",
       "2                                            0  \n",
       "3                                            0  \n",
       "4                                            0  \n",
       "\n",
       "[5 rows x 1242018 columns]"
      ]
     },
     "execution_count": 46,
     "metadata": {},
     "output_type": "execute_result"
    }
   ],
   "source": [
    "# to convert sparse matrix to dense matrix\n",
    "Xcv_train = pd.DataFrame(Xcv_train.todense(),\n",
    "                           columns = cvec.get_feature_names() )\n",
    "Xcv_train.head()"
   ]
  },
  {
   "cell_type": "code",
   "execution_count": 63,
   "id": "1b9b01b0",
   "metadata": {},
   "outputs": [
    {
     "data": {
      "text/plain": [
       "(2934, 1242018)"
      ]
     },
     "execution_count": 63,
     "metadata": {},
     "output_type": "execute_result"
    }
   ],
   "source": [
    "Xcv_train.shape"
   ]
  },
  {
   "cell_type": "code",
   "execution_count": 64,
   "id": "7eb6cdb9",
   "metadata": {},
   "outputs": [],
   "source": [
    "# Transform the test corpus.\n",
    "Xcv_test = cvec.transform(X_test)"
   ]
  },
  {
   "cell_type": "code",
   "execution_count": 65,
   "id": "59909275",
   "metadata": {},
   "outputs": [
    {
     "data": {
      "text/html": [
       "<div>\n",
       "<style scoped>\n",
       "    .dataframe tbody tr th:only-of-type {\n",
       "        vertical-align: middle;\n",
       "    }\n",
       "\n",
       "    .dataframe tbody tr th {\n",
       "        vertical-align: top;\n",
       "    }\n",
       "\n",
       "    .dataframe thead th {\n",
       "        text-align: right;\n",
       "    }\n",
       "</style>\n",
       "<table border=\"1\" class=\"dataframe\">\n",
       "  <thead>\n",
       "    <tr style=\"text-align: right;\">\n",
       "      <th></th>\n",
       "      <th>aaaaaaaaaa aaaaaaaaaa aaaaaaaaac aaaaaaaaca</th>\n",
       "      <th>aaaaaaaaaa aaaaaaaaaa aaaaaaaaac aaaaaaaacc</th>\n",
       "      <th>aaaaaaaaaa aaaaaaaaaa aaaaaaaaac aaaaaaaacg</th>\n",
       "      <th>aaaaaaaaaa aaaaaaaaaa aaaaaaaaag aaaaaaaaga</th>\n",
       "      <th>aaaaaaaaaa aaaaaaaaaa aaaaaaaaag aaaaaaaagc</th>\n",
       "      <th>aaaaaaaaaa aaaaaaaaac aaaaaaaaca aaaaaaacag</th>\n",
       "      <th>aaaaaaaaaa aaaaaaaaac aaaaaaaacc aaaaaaaccc</th>\n",
       "      <th>aaaaaaaaaa aaaaaaaaac aaaaaaaacg aaaaaaacgc</th>\n",
       "      <th>aaaaaaaaaa aaaaaaaaag aaaaaaaaga aaaaaaagaa</th>\n",
       "      <th>aaaaaaaaaa aaaaaaaaag aaaaaaaaga aaaaaaagag</th>\n",
       "      <th>...</th>\n",
       "      <th>ttttttttcc tttttttcct ttttttccta tttttcctaa</th>\n",
       "      <th>ttttttttcc tttttttcct ttttttcctc tttttcctcc</th>\n",
       "      <th>ttttttttct tttttttctt ttttttcttg tttttcttga</th>\n",
       "      <th>ttttttttgc tttttttgct ttttttgctc tttttgctct</th>\n",
       "      <th>ttttttttgg tttttttggg ttttttggga tttttgggag</th>\n",
       "      <th>ttttttttgt tttttttgtt ttttttgtta tttttgttat</th>\n",
       "      <th>tttttttttc ttttttttca tttttttcac ttttttcacc</th>\n",
       "      <th>tttttttttc ttttttttcc tttttttcct ttttttcctc</th>\n",
       "      <th>tttttttttg ttttttttgg tttttttggg ttttttggga</th>\n",
       "      <th>tttttttttg ttttttttgt tttttttgtt ttttttgtta</th>\n",
       "    </tr>\n",
       "  </thead>\n",
       "  <tbody>\n",
       "    <tr>\n",
       "      <th>0</th>\n",
       "      <td>0</td>\n",
       "      <td>0</td>\n",
       "      <td>0</td>\n",
       "      <td>0</td>\n",
       "      <td>0</td>\n",
       "      <td>0</td>\n",
       "      <td>0</td>\n",
       "      <td>0</td>\n",
       "      <td>0</td>\n",
       "      <td>0</td>\n",
       "      <td>...</td>\n",
       "      <td>0</td>\n",
       "      <td>0</td>\n",
       "      <td>0</td>\n",
       "      <td>0</td>\n",
       "      <td>0</td>\n",
       "      <td>0</td>\n",
       "      <td>0</td>\n",
       "      <td>0</td>\n",
       "      <td>0</td>\n",
       "      <td>0</td>\n",
       "    </tr>\n",
       "    <tr>\n",
       "      <th>1</th>\n",
       "      <td>0</td>\n",
       "      <td>0</td>\n",
       "      <td>0</td>\n",
       "      <td>0</td>\n",
       "      <td>0</td>\n",
       "      <td>0</td>\n",
       "      <td>0</td>\n",
       "      <td>0</td>\n",
       "      <td>0</td>\n",
       "      <td>0</td>\n",
       "      <td>...</td>\n",
       "      <td>0</td>\n",
       "      <td>0</td>\n",
       "      <td>0</td>\n",
       "      <td>0</td>\n",
       "      <td>0</td>\n",
       "      <td>0</td>\n",
       "      <td>0</td>\n",
       "      <td>0</td>\n",
       "      <td>0</td>\n",
       "      <td>0</td>\n",
       "    </tr>\n",
       "    <tr>\n",
       "      <th>2</th>\n",
       "      <td>0</td>\n",
       "      <td>0</td>\n",
       "      <td>0</td>\n",
       "      <td>0</td>\n",
       "      <td>0</td>\n",
       "      <td>0</td>\n",
       "      <td>0</td>\n",
       "      <td>0</td>\n",
       "      <td>0</td>\n",
       "      <td>0</td>\n",
       "      <td>...</td>\n",
       "      <td>0</td>\n",
       "      <td>0</td>\n",
       "      <td>0</td>\n",
       "      <td>0</td>\n",
       "      <td>0</td>\n",
       "      <td>0</td>\n",
       "      <td>0</td>\n",
       "      <td>0</td>\n",
       "      <td>0</td>\n",
       "      <td>0</td>\n",
       "    </tr>\n",
       "    <tr>\n",
       "      <th>3</th>\n",
       "      <td>0</td>\n",
       "      <td>0</td>\n",
       "      <td>0</td>\n",
       "      <td>0</td>\n",
       "      <td>0</td>\n",
       "      <td>0</td>\n",
       "      <td>0</td>\n",
       "      <td>0</td>\n",
       "      <td>0</td>\n",
       "      <td>0</td>\n",
       "      <td>...</td>\n",
       "      <td>0</td>\n",
       "      <td>0</td>\n",
       "      <td>0</td>\n",
       "      <td>0</td>\n",
       "      <td>0</td>\n",
       "      <td>0</td>\n",
       "      <td>0</td>\n",
       "      <td>0</td>\n",
       "      <td>0</td>\n",
       "      <td>0</td>\n",
       "    </tr>\n",
       "    <tr>\n",
       "      <th>4</th>\n",
       "      <td>0</td>\n",
       "      <td>0</td>\n",
       "      <td>0</td>\n",
       "      <td>0</td>\n",
       "      <td>0</td>\n",
       "      <td>0</td>\n",
       "      <td>0</td>\n",
       "      <td>0</td>\n",
       "      <td>0</td>\n",
       "      <td>0</td>\n",
       "      <td>...</td>\n",
       "      <td>0</td>\n",
       "      <td>0</td>\n",
       "      <td>0</td>\n",
       "      <td>0</td>\n",
       "      <td>0</td>\n",
       "      <td>0</td>\n",
       "      <td>0</td>\n",
       "      <td>0</td>\n",
       "      <td>0</td>\n",
       "      <td>0</td>\n",
       "    </tr>\n",
       "  </tbody>\n",
       "</table>\n",
       "<p>5 rows × 1242018 columns</p>\n",
       "</div>"
      ],
      "text/plain": [
       "   aaaaaaaaaa aaaaaaaaaa aaaaaaaaac aaaaaaaaca  \\\n",
       "0                                            0   \n",
       "1                                            0   \n",
       "2                                            0   \n",
       "3                                            0   \n",
       "4                                            0   \n",
       "\n",
       "   aaaaaaaaaa aaaaaaaaaa aaaaaaaaac aaaaaaaacc  \\\n",
       "0                                            0   \n",
       "1                                            0   \n",
       "2                                            0   \n",
       "3                                            0   \n",
       "4                                            0   \n",
       "\n",
       "   aaaaaaaaaa aaaaaaaaaa aaaaaaaaac aaaaaaaacg  \\\n",
       "0                                            0   \n",
       "1                                            0   \n",
       "2                                            0   \n",
       "3                                            0   \n",
       "4                                            0   \n",
       "\n",
       "   aaaaaaaaaa aaaaaaaaaa aaaaaaaaag aaaaaaaaga  \\\n",
       "0                                            0   \n",
       "1                                            0   \n",
       "2                                            0   \n",
       "3                                            0   \n",
       "4                                            0   \n",
       "\n",
       "   aaaaaaaaaa aaaaaaaaaa aaaaaaaaag aaaaaaaagc  \\\n",
       "0                                            0   \n",
       "1                                            0   \n",
       "2                                            0   \n",
       "3                                            0   \n",
       "4                                            0   \n",
       "\n",
       "   aaaaaaaaaa aaaaaaaaac aaaaaaaaca aaaaaaacag  \\\n",
       "0                                            0   \n",
       "1                                            0   \n",
       "2                                            0   \n",
       "3                                            0   \n",
       "4                                            0   \n",
       "\n",
       "   aaaaaaaaaa aaaaaaaaac aaaaaaaacc aaaaaaaccc  \\\n",
       "0                                            0   \n",
       "1                                            0   \n",
       "2                                            0   \n",
       "3                                            0   \n",
       "4                                            0   \n",
       "\n",
       "   aaaaaaaaaa aaaaaaaaac aaaaaaaacg aaaaaaacgc  \\\n",
       "0                                            0   \n",
       "1                                            0   \n",
       "2                                            0   \n",
       "3                                            0   \n",
       "4                                            0   \n",
       "\n",
       "   aaaaaaaaaa aaaaaaaaag aaaaaaaaga aaaaaaagaa  \\\n",
       "0                                            0   \n",
       "1                                            0   \n",
       "2                                            0   \n",
       "3                                            0   \n",
       "4                                            0   \n",
       "\n",
       "   aaaaaaaaaa aaaaaaaaag aaaaaaaaga aaaaaaagag  ...  \\\n",
       "0                                            0  ...   \n",
       "1                                            0  ...   \n",
       "2                                            0  ...   \n",
       "3                                            0  ...   \n",
       "4                                            0  ...   \n",
       "\n",
       "   ttttttttcc tttttttcct ttttttccta tttttcctaa  \\\n",
       "0                                            0   \n",
       "1                                            0   \n",
       "2                                            0   \n",
       "3                                            0   \n",
       "4                                            0   \n",
       "\n",
       "   ttttttttcc tttttttcct ttttttcctc tttttcctcc  \\\n",
       "0                                            0   \n",
       "1                                            0   \n",
       "2                                            0   \n",
       "3                                            0   \n",
       "4                                            0   \n",
       "\n",
       "   ttttttttct tttttttctt ttttttcttg tttttcttga  \\\n",
       "0                                            0   \n",
       "1                                            0   \n",
       "2                                            0   \n",
       "3                                            0   \n",
       "4                                            0   \n",
       "\n",
       "   ttttttttgc tttttttgct ttttttgctc tttttgctct  \\\n",
       "0                                            0   \n",
       "1                                            0   \n",
       "2                                            0   \n",
       "3                                            0   \n",
       "4                                            0   \n",
       "\n",
       "   ttttttttgg tttttttggg ttttttggga tttttgggag  \\\n",
       "0                                            0   \n",
       "1                                            0   \n",
       "2                                            0   \n",
       "3                                            0   \n",
       "4                                            0   \n",
       "\n",
       "   ttttttttgt tttttttgtt ttttttgtta tttttgttat  \\\n",
       "0                                            0   \n",
       "1                                            0   \n",
       "2                                            0   \n",
       "3                                            0   \n",
       "4                                            0   \n",
       "\n",
       "   tttttttttc ttttttttca tttttttcac ttttttcacc  \\\n",
       "0                                            0   \n",
       "1                                            0   \n",
       "2                                            0   \n",
       "3                                            0   \n",
       "4                                            0   \n",
       "\n",
       "   tttttttttc ttttttttcc tttttttcct ttttttcctc  \\\n",
       "0                                            0   \n",
       "1                                            0   \n",
       "2                                            0   \n",
       "3                                            0   \n",
       "4                                            0   \n",
       "\n",
       "   tttttttttg ttttttttgg tttttttggg ttttttggga  \\\n",
       "0                                            0   \n",
       "1                                            0   \n",
       "2                                            0   \n",
       "3                                            0   \n",
       "4                                            0   \n",
       "\n",
       "   tttttttttg ttttttttgt tttttttgtt ttttttgtta  \n",
       "0                                            0  \n",
       "1                                            0  \n",
       "2                                            0  \n",
       "3                                            0  \n",
       "4                                            0  \n",
       "\n",
       "[5 rows x 1242018 columns]"
      ]
     },
     "execution_count": 65,
     "metadata": {},
     "output_type": "execute_result"
    }
   ],
   "source": [
    "# to convert sparse matrix to dense matrix\n",
    "Xcv_test = pd.DataFrame(Xcv_test.todense(),\n",
    "                           columns = cvec.get_feature_names() )\n",
    "Xcv_test.head()"
   ]
  },
  {
   "cell_type": "code",
   "execution_count": 66,
   "id": "25b23bee",
   "metadata": {},
   "outputs": [
    {
     "data": {
      "text/plain": [
       "(1446, 1242018)"
      ]
     },
     "execution_count": 66,
     "metadata": {},
     "output_type": "execute_result"
    }
   ],
   "source": [
    "Xcv_test.shape"
   ]
  },
  {
   "cell_type": "code",
   "execution_count": null,
   "id": "43e7bd9d",
   "metadata": {},
   "outputs": [],
   "source": []
  },
  {
   "cell_type": "code",
   "execution_count": 67,
   "id": "b145c841",
   "metadata": {},
   "outputs": [
    {
     "data": {
      "text/plain": [
       "KNeighborsClassifier()"
      ]
     },
     "execution_count": 67,
     "metadata": {},
     "output_type": "execute_result"
    }
   ],
   "source": [
    "#The fit method of KNN class is called to train the algorithm on the training data, \n",
    "#which is passed as a parameter to the fit method\n",
    "from sklearn.neighbors import KNeighborsClassifier\n",
    "KNNclassifier = KNeighborsClassifier(n_neighbors=5)\n",
    "KNNclassifier.fit(Xcv_train, y_train)"
   ]
  },
  {
   "cell_type": "code",
   "execution_count": 68,
   "id": "73fc6136",
   "metadata": {},
   "outputs": [],
   "source": [
    "# enter all test datatest in model \n",
    "y_pred = KNNclassifier.predict(Xcv_test) "
   ]
  },
  {
   "cell_type": "code",
   "execution_count": 69,
   "id": "9f88f17f",
   "metadata": {},
   "outputs": [
    {
     "name": "stdout",
     "output_type": "stream",
     "text": [
      "[[122   0   0   0   0   0  53]\n",
      " [  0 131   0   0   0   0  45]\n",
      " [  7   0  85   0   0   0  23]\n",
      " [  0   0   0 173   0   0  49]\n",
      " [ 15   0   0   0 154   0  66]\n",
      " [  4   0   0   0   0  49  26]\n",
      " [  0   0   0   0   0   0 444]]\n",
      "              precision    recall  f1-score   support\n",
      "\n",
      "           0       0.82      0.70      0.76       175\n",
      "           1       1.00      0.74      0.85       176\n",
      "           2       1.00      0.74      0.85       115\n",
      "           3       1.00      0.78      0.88       222\n",
      "           4       1.00      0.66      0.79       235\n",
      "           5       1.00      0.62      0.77        79\n",
      "           6       0.63      1.00      0.77       444\n",
      "\n",
      "    accuracy                           0.80      1446\n",
      "   macro avg       0.92      0.75      0.81      1446\n",
      "weighted avg       0.86      0.80      0.80      1446\n",
      "\n"
     ]
    }
   ],
   "source": [
    "from sklearn.metrics import classification_report, confusion_matrix\n",
    "print(confusion_matrix(y_test,y_pred))\n",
    "print(classification_report(y_test,y_pred))"
   ]
  },
  {
   "cell_type": "code",
   "execution_count": 70,
   "id": "087762f1",
   "metadata": {},
   "outputs": [
    {
     "ename": "KeyboardInterrupt",
     "evalue": "",
     "output_type": "error",
     "traceback": [
      "\u001b[0;31m---------------------------------------------------------------------------\u001b[0m",
      "\u001b[0;31mKeyboardInterrupt\u001b[0m                         Traceback (most recent call last)",
      "\u001b[0;32m<ipython-input-70-cdb15f60c964>\u001b[0m in \u001b[0;36m<module>\u001b[0;34m\u001b[0m\n\u001b[1;32m      3\u001b[0m \u001b[0;32mfrom\u001b[0m \u001b[0msklearn\u001b[0m\u001b[0;34m.\u001b[0m\u001b[0mensemble\u001b[0m \u001b[0;32mimport\u001b[0m \u001b[0mRandomForestClassifier\u001b[0m\u001b[0;34m\u001b[0m\u001b[0;34m\u001b[0m\u001b[0m\n\u001b[1;32m      4\u001b[0m \u001b[0mrfc\u001b[0m \u001b[0;34m=\u001b[0m \u001b[0mRandomForestClassifier\u001b[0m\u001b[0;34m(\u001b[0m\u001b[0;34m)\u001b[0m\u001b[0;34m\u001b[0m\u001b[0;34m\u001b[0m\u001b[0m\n\u001b[0;32m----> 5\u001b[0;31m \u001b[0mrfc\u001b[0m\u001b[0;34m.\u001b[0m\u001b[0mfit\u001b[0m\u001b[0;34m(\u001b[0m\u001b[0mXcv_train\u001b[0m\u001b[0;34m,\u001b[0m \u001b[0my_train\u001b[0m\u001b[0;34m)\u001b[0m\u001b[0;34m\u001b[0m\u001b[0;34m\u001b[0m\u001b[0m\n\u001b[0m",
      "\u001b[0;32m/usr/local/anaconda3/envs/ml/lib/python3.9/site-packages/sklearn/ensemble/_forest.py\u001b[0m in \u001b[0;36mfit\u001b[0;34m(self, X, y, sample_weight)\u001b[0m\n\u001b[1;32m    385\u001b[0m             \u001b[0;31m# parallel_backend contexts set at a higher level,\u001b[0m\u001b[0;34m\u001b[0m\u001b[0;34m\u001b[0m\u001b[0;34m\u001b[0m\u001b[0m\n\u001b[1;32m    386\u001b[0m             \u001b[0;31m# since correctness does not rely on using threads.\u001b[0m\u001b[0;34m\u001b[0m\u001b[0;34m\u001b[0m\u001b[0;34m\u001b[0m\u001b[0m\n\u001b[0;32m--> 387\u001b[0;31m             trees = Parallel(n_jobs=self.n_jobs, verbose=self.verbose,\n\u001b[0m\u001b[1;32m    388\u001b[0m                              \u001b[0;34m**\u001b[0m\u001b[0m_joblib_parallel_args\u001b[0m\u001b[0;34m(\u001b[0m\u001b[0mprefer\u001b[0m\u001b[0;34m=\u001b[0m\u001b[0;34m'threads'\u001b[0m\u001b[0;34m)\u001b[0m\u001b[0;34m)\u001b[0m\u001b[0;34m(\u001b[0m\u001b[0;34m\u001b[0m\u001b[0;34m\u001b[0m\u001b[0m\n\u001b[1;32m    389\u001b[0m                 delayed(_parallel_build_trees)(\n",
      "\u001b[0;32m/usr/local/anaconda3/envs/ml/lib/python3.9/site-packages/joblib/parallel.py\u001b[0m in \u001b[0;36m__call__\u001b[0;34m(self, iterable)\u001b[0m\n\u001b[1;32m   1042\u001b[0m                 \u001b[0mself\u001b[0m\u001b[0;34m.\u001b[0m\u001b[0m_iterating\u001b[0m \u001b[0;34m=\u001b[0m \u001b[0mself\u001b[0m\u001b[0;34m.\u001b[0m\u001b[0m_original_iterator\u001b[0m \u001b[0;32mis\u001b[0m \u001b[0;32mnot\u001b[0m \u001b[0;32mNone\u001b[0m\u001b[0;34m\u001b[0m\u001b[0;34m\u001b[0m\u001b[0m\n\u001b[1;32m   1043\u001b[0m \u001b[0;34m\u001b[0m\u001b[0m\n\u001b[0;32m-> 1044\u001b[0;31m             \u001b[0;32mwhile\u001b[0m \u001b[0mself\u001b[0m\u001b[0;34m.\u001b[0m\u001b[0mdispatch_one_batch\u001b[0m\u001b[0;34m(\u001b[0m\u001b[0miterator\u001b[0m\u001b[0;34m)\u001b[0m\u001b[0;34m:\u001b[0m\u001b[0;34m\u001b[0m\u001b[0;34m\u001b[0m\u001b[0m\n\u001b[0m\u001b[1;32m   1045\u001b[0m                 \u001b[0;32mpass\u001b[0m\u001b[0;34m\u001b[0m\u001b[0;34m\u001b[0m\u001b[0m\n\u001b[1;32m   1046\u001b[0m \u001b[0;34m\u001b[0m\u001b[0m\n",
      "\u001b[0;32m/usr/local/anaconda3/envs/ml/lib/python3.9/site-packages/joblib/parallel.py\u001b[0m in \u001b[0;36mdispatch_one_batch\u001b[0;34m(self, iterator)\u001b[0m\n\u001b[1;32m    857\u001b[0m                 \u001b[0;32mreturn\u001b[0m \u001b[0;32mFalse\u001b[0m\u001b[0;34m\u001b[0m\u001b[0;34m\u001b[0m\u001b[0m\n\u001b[1;32m    858\u001b[0m             \u001b[0;32melse\u001b[0m\u001b[0;34m:\u001b[0m\u001b[0;34m\u001b[0m\u001b[0;34m\u001b[0m\u001b[0m\n\u001b[0;32m--> 859\u001b[0;31m                 \u001b[0mself\u001b[0m\u001b[0;34m.\u001b[0m\u001b[0m_dispatch\u001b[0m\u001b[0;34m(\u001b[0m\u001b[0mtasks\u001b[0m\u001b[0;34m)\u001b[0m\u001b[0;34m\u001b[0m\u001b[0;34m\u001b[0m\u001b[0m\n\u001b[0m\u001b[1;32m    860\u001b[0m                 \u001b[0;32mreturn\u001b[0m \u001b[0;32mTrue\u001b[0m\u001b[0;34m\u001b[0m\u001b[0;34m\u001b[0m\u001b[0m\n\u001b[1;32m    861\u001b[0m \u001b[0;34m\u001b[0m\u001b[0m\n",
      "\u001b[0;32m/usr/local/anaconda3/envs/ml/lib/python3.9/site-packages/joblib/parallel.py\u001b[0m in \u001b[0;36m_dispatch\u001b[0;34m(self, batch)\u001b[0m\n\u001b[1;32m    775\u001b[0m         \u001b[0;32mwith\u001b[0m \u001b[0mself\u001b[0m\u001b[0;34m.\u001b[0m\u001b[0m_lock\u001b[0m\u001b[0;34m:\u001b[0m\u001b[0;34m\u001b[0m\u001b[0;34m\u001b[0m\u001b[0m\n\u001b[1;32m    776\u001b[0m             \u001b[0mjob_idx\u001b[0m \u001b[0;34m=\u001b[0m \u001b[0mlen\u001b[0m\u001b[0;34m(\u001b[0m\u001b[0mself\u001b[0m\u001b[0;34m.\u001b[0m\u001b[0m_jobs\u001b[0m\u001b[0;34m)\u001b[0m\u001b[0;34m\u001b[0m\u001b[0;34m\u001b[0m\u001b[0m\n\u001b[0;32m--> 777\u001b[0;31m             \u001b[0mjob\u001b[0m \u001b[0;34m=\u001b[0m \u001b[0mself\u001b[0m\u001b[0;34m.\u001b[0m\u001b[0m_backend\u001b[0m\u001b[0;34m.\u001b[0m\u001b[0mapply_async\u001b[0m\u001b[0;34m(\u001b[0m\u001b[0mbatch\u001b[0m\u001b[0;34m,\u001b[0m \u001b[0mcallback\u001b[0m\u001b[0;34m=\u001b[0m\u001b[0mcb\u001b[0m\u001b[0;34m)\u001b[0m\u001b[0;34m\u001b[0m\u001b[0;34m\u001b[0m\u001b[0m\n\u001b[0m\u001b[1;32m    778\u001b[0m             \u001b[0;31m# A job can complete so quickly than its callback is\u001b[0m\u001b[0;34m\u001b[0m\u001b[0;34m\u001b[0m\u001b[0;34m\u001b[0m\u001b[0m\n\u001b[1;32m    779\u001b[0m             \u001b[0;31m# called before we get here, causing self._jobs to\u001b[0m\u001b[0;34m\u001b[0m\u001b[0;34m\u001b[0m\u001b[0;34m\u001b[0m\u001b[0m\n",
      "\u001b[0;32m/usr/local/anaconda3/envs/ml/lib/python3.9/site-packages/joblib/_parallel_backends.py\u001b[0m in \u001b[0;36mapply_async\u001b[0;34m(self, func, callback)\u001b[0m\n\u001b[1;32m    206\u001b[0m     \u001b[0;32mdef\u001b[0m \u001b[0mapply_async\u001b[0m\u001b[0;34m(\u001b[0m\u001b[0mself\u001b[0m\u001b[0;34m,\u001b[0m \u001b[0mfunc\u001b[0m\u001b[0;34m,\u001b[0m \u001b[0mcallback\u001b[0m\u001b[0;34m=\u001b[0m\u001b[0;32mNone\u001b[0m\u001b[0;34m)\u001b[0m\u001b[0;34m:\u001b[0m\u001b[0;34m\u001b[0m\u001b[0;34m\u001b[0m\u001b[0m\n\u001b[1;32m    207\u001b[0m         \u001b[0;34m\"\"\"Schedule a func to be run\"\"\"\u001b[0m\u001b[0;34m\u001b[0m\u001b[0;34m\u001b[0m\u001b[0m\n\u001b[0;32m--> 208\u001b[0;31m         \u001b[0mresult\u001b[0m \u001b[0;34m=\u001b[0m \u001b[0mImmediateResult\u001b[0m\u001b[0;34m(\u001b[0m\u001b[0mfunc\u001b[0m\u001b[0;34m)\u001b[0m\u001b[0;34m\u001b[0m\u001b[0;34m\u001b[0m\u001b[0m\n\u001b[0m\u001b[1;32m    209\u001b[0m         \u001b[0;32mif\u001b[0m \u001b[0mcallback\u001b[0m\u001b[0;34m:\u001b[0m\u001b[0;34m\u001b[0m\u001b[0;34m\u001b[0m\u001b[0m\n\u001b[1;32m    210\u001b[0m             \u001b[0mcallback\u001b[0m\u001b[0;34m(\u001b[0m\u001b[0mresult\u001b[0m\u001b[0;34m)\u001b[0m\u001b[0;34m\u001b[0m\u001b[0;34m\u001b[0m\u001b[0m\n",
      "\u001b[0;32m/usr/local/anaconda3/envs/ml/lib/python3.9/site-packages/joblib/_parallel_backends.py\u001b[0m in \u001b[0;36m__init__\u001b[0;34m(self, batch)\u001b[0m\n\u001b[1;32m    570\u001b[0m         \u001b[0;31m# Don't delay the application, to avoid keeping the input\u001b[0m\u001b[0;34m\u001b[0m\u001b[0;34m\u001b[0m\u001b[0;34m\u001b[0m\u001b[0m\n\u001b[1;32m    571\u001b[0m         \u001b[0;31m# arguments in memory\u001b[0m\u001b[0;34m\u001b[0m\u001b[0;34m\u001b[0m\u001b[0;34m\u001b[0m\u001b[0m\n\u001b[0;32m--> 572\u001b[0;31m         \u001b[0mself\u001b[0m\u001b[0;34m.\u001b[0m\u001b[0mresults\u001b[0m \u001b[0;34m=\u001b[0m \u001b[0mbatch\u001b[0m\u001b[0;34m(\u001b[0m\u001b[0;34m)\u001b[0m\u001b[0;34m\u001b[0m\u001b[0;34m\u001b[0m\u001b[0m\n\u001b[0m\u001b[1;32m    573\u001b[0m \u001b[0;34m\u001b[0m\u001b[0m\n\u001b[1;32m    574\u001b[0m     \u001b[0;32mdef\u001b[0m \u001b[0mget\u001b[0m\u001b[0;34m(\u001b[0m\u001b[0mself\u001b[0m\u001b[0;34m)\u001b[0m\u001b[0;34m:\u001b[0m\u001b[0;34m\u001b[0m\u001b[0;34m\u001b[0m\u001b[0m\n",
      "\u001b[0;32m/usr/local/anaconda3/envs/ml/lib/python3.9/site-packages/joblib/parallel.py\u001b[0m in \u001b[0;36m__call__\u001b[0;34m(self)\u001b[0m\n\u001b[1;32m    260\u001b[0m         \u001b[0;31m# change the default number of processes to -1\u001b[0m\u001b[0;34m\u001b[0m\u001b[0;34m\u001b[0m\u001b[0;34m\u001b[0m\u001b[0m\n\u001b[1;32m    261\u001b[0m         \u001b[0;32mwith\u001b[0m \u001b[0mparallel_backend\u001b[0m\u001b[0;34m(\u001b[0m\u001b[0mself\u001b[0m\u001b[0;34m.\u001b[0m\u001b[0m_backend\u001b[0m\u001b[0;34m,\u001b[0m \u001b[0mn_jobs\u001b[0m\u001b[0;34m=\u001b[0m\u001b[0mself\u001b[0m\u001b[0;34m.\u001b[0m\u001b[0m_n_jobs\u001b[0m\u001b[0;34m)\u001b[0m\u001b[0;34m:\u001b[0m\u001b[0;34m\u001b[0m\u001b[0;34m\u001b[0m\u001b[0m\n\u001b[0;32m--> 262\u001b[0;31m             return [func(*args, **kwargs)\n\u001b[0m\u001b[1;32m    263\u001b[0m                     for func, args, kwargs in self.items]\n\u001b[1;32m    264\u001b[0m \u001b[0;34m\u001b[0m\u001b[0m\n",
      "\u001b[0;32m/usr/local/anaconda3/envs/ml/lib/python3.9/site-packages/joblib/parallel.py\u001b[0m in \u001b[0;36m<listcomp>\u001b[0;34m(.0)\u001b[0m\n\u001b[1;32m    260\u001b[0m         \u001b[0;31m# change the default number of processes to -1\u001b[0m\u001b[0;34m\u001b[0m\u001b[0;34m\u001b[0m\u001b[0;34m\u001b[0m\u001b[0m\n\u001b[1;32m    261\u001b[0m         \u001b[0;32mwith\u001b[0m \u001b[0mparallel_backend\u001b[0m\u001b[0;34m(\u001b[0m\u001b[0mself\u001b[0m\u001b[0;34m.\u001b[0m\u001b[0m_backend\u001b[0m\u001b[0;34m,\u001b[0m \u001b[0mn_jobs\u001b[0m\u001b[0;34m=\u001b[0m\u001b[0mself\u001b[0m\u001b[0;34m.\u001b[0m\u001b[0m_n_jobs\u001b[0m\u001b[0;34m)\u001b[0m\u001b[0;34m:\u001b[0m\u001b[0;34m\u001b[0m\u001b[0;34m\u001b[0m\u001b[0m\n\u001b[0;32m--> 262\u001b[0;31m             return [func(*args, **kwargs)\n\u001b[0m\u001b[1;32m    263\u001b[0m                     for func, args, kwargs in self.items]\n\u001b[1;32m    264\u001b[0m \u001b[0;34m\u001b[0m\u001b[0m\n",
      "\u001b[0;32m/usr/local/anaconda3/envs/ml/lib/python3.9/site-packages/sklearn/utils/fixes.py\u001b[0m in \u001b[0;36m__call__\u001b[0;34m(self, *args, **kwargs)\u001b[0m\n\u001b[1;32m    220\u001b[0m     \u001b[0;32mdef\u001b[0m \u001b[0m__call__\u001b[0m\u001b[0;34m(\u001b[0m\u001b[0mself\u001b[0m\u001b[0;34m,\u001b[0m \u001b[0;34m*\u001b[0m\u001b[0margs\u001b[0m\u001b[0;34m,\u001b[0m \u001b[0;34m**\u001b[0m\u001b[0mkwargs\u001b[0m\u001b[0;34m)\u001b[0m\u001b[0;34m:\u001b[0m\u001b[0;34m\u001b[0m\u001b[0;34m\u001b[0m\u001b[0m\n\u001b[1;32m    221\u001b[0m         \u001b[0;32mwith\u001b[0m \u001b[0mconfig_context\u001b[0m\u001b[0;34m(\u001b[0m\u001b[0;34m**\u001b[0m\u001b[0mself\u001b[0m\u001b[0;34m.\u001b[0m\u001b[0mconfig\u001b[0m\u001b[0;34m)\u001b[0m\u001b[0;34m:\u001b[0m\u001b[0;34m\u001b[0m\u001b[0;34m\u001b[0m\u001b[0m\n\u001b[0;32m--> 222\u001b[0;31m             \u001b[0;32mreturn\u001b[0m \u001b[0mself\u001b[0m\u001b[0;34m.\u001b[0m\u001b[0mfunction\u001b[0m\u001b[0;34m(\u001b[0m\u001b[0;34m*\u001b[0m\u001b[0margs\u001b[0m\u001b[0;34m,\u001b[0m \u001b[0;34m**\u001b[0m\u001b[0mkwargs\u001b[0m\u001b[0;34m)\u001b[0m\u001b[0;34m\u001b[0m\u001b[0;34m\u001b[0m\u001b[0m\n\u001b[0m",
      "\u001b[0;32m/usr/local/anaconda3/envs/ml/lib/python3.9/site-packages/sklearn/ensemble/_forest.py\u001b[0m in \u001b[0;36m_parallel_build_trees\u001b[0;34m(tree, forest, X, y, sample_weight, tree_idx, n_trees, verbose, class_weight, n_samples_bootstrap)\u001b[0m\n\u001b[1;32m    167\u001b[0m                                                         indices=indices)\n\u001b[1;32m    168\u001b[0m \u001b[0;34m\u001b[0m\u001b[0m\n\u001b[0;32m--> 169\u001b[0;31m         \u001b[0mtree\u001b[0m\u001b[0;34m.\u001b[0m\u001b[0mfit\u001b[0m\u001b[0;34m(\u001b[0m\u001b[0mX\u001b[0m\u001b[0;34m,\u001b[0m \u001b[0my\u001b[0m\u001b[0;34m,\u001b[0m \u001b[0msample_weight\u001b[0m\u001b[0;34m=\u001b[0m\u001b[0mcurr_sample_weight\u001b[0m\u001b[0;34m,\u001b[0m \u001b[0mcheck_input\u001b[0m\u001b[0;34m=\u001b[0m\u001b[0;32mFalse\u001b[0m\u001b[0;34m)\u001b[0m\u001b[0;34m\u001b[0m\u001b[0;34m\u001b[0m\u001b[0m\n\u001b[0m\u001b[1;32m    170\u001b[0m     \u001b[0;32melse\u001b[0m\u001b[0;34m:\u001b[0m\u001b[0;34m\u001b[0m\u001b[0;34m\u001b[0m\u001b[0m\n\u001b[1;32m    171\u001b[0m         \u001b[0mtree\u001b[0m\u001b[0;34m.\u001b[0m\u001b[0mfit\u001b[0m\u001b[0;34m(\u001b[0m\u001b[0mX\u001b[0m\u001b[0;34m,\u001b[0m \u001b[0my\u001b[0m\u001b[0;34m,\u001b[0m \u001b[0msample_weight\u001b[0m\u001b[0;34m=\u001b[0m\u001b[0msample_weight\u001b[0m\u001b[0;34m,\u001b[0m \u001b[0mcheck_input\u001b[0m\u001b[0;34m=\u001b[0m\u001b[0;32mFalse\u001b[0m\u001b[0;34m)\u001b[0m\u001b[0;34m\u001b[0m\u001b[0;34m\u001b[0m\u001b[0m\n",
      "\u001b[0;32m/usr/local/anaconda3/envs/ml/lib/python3.9/site-packages/sklearn/tree/_classes.py\u001b[0m in \u001b[0;36mfit\u001b[0;34m(self, X, y, sample_weight, check_input, X_idx_sorted)\u001b[0m\n\u001b[1;32m    901\u001b[0m         \"\"\"\n\u001b[1;32m    902\u001b[0m \u001b[0;34m\u001b[0m\u001b[0m\n\u001b[0;32m--> 903\u001b[0;31m         super().fit(\n\u001b[0m\u001b[1;32m    904\u001b[0m             \u001b[0mX\u001b[0m\u001b[0;34m,\u001b[0m \u001b[0my\u001b[0m\u001b[0;34m,\u001b[0m\u001b[0;34m\u001b[0m\u001b[0;34m\u001b[0m\u001b[0m\n\u001b[1;32m    905\u001b[0m             \u001b[0msample_weight\u001b[0m\u001b[0;34m=\u001b[0m\u001b[0msample_weight\u001b[0m\u001b[0;34m,\u001b[0m\u001b[0;34m\u001b[0m\u001b[0;34m\u001b[0m\u001b[0m\n",
      "\u001b[0;32m/usr/local/anaconda3/envs/ml/lib/python3.9/site-packages/sklearn/tree/_classes.py\u001b[0m in \u001b[0;36mfit\u001b[0;34m(self, X, y, sample_weight, check_input, X_idx_sorted)\u001b[0m\n\u001b[1;32m    392\u001b[0m                                            min_impurity_split)\n\u001b[1;32m    393\u001b[0m \u001b[0;34m\u001b[0m\u001b[0m\n\u001b[0;32m--> 394\u001b[0;31m         \u001b[0mbuilder\u001b[0m\u001b[0;34m.\u001b[0m\u001b[0mbuild\u001b[0m\u001b[0;34m(\u001b[0m\u001b[0mself\u001b[0m\u001b[0;34m.\u001b[0m\u001b[0mtree_\u001b[0m\u001b[0;34m,\u001b[0m \u001b[0mX\u001b[0m\u001b[0;34m,\u001b[0m \u001b[0my\u001b[0m\u001b[0;34m,\u001b[0m \u001b[0msample_weight\u001b[0m\u001b[0;34m)\u001b[0m\u001b[0;34m\u001b[0m\u001b[0;34m\u001b[0m\u001b[0m\n\u001b[0m\u001b[1;32m    395\u001b[0m \u001b[0;34m\u001b[0m\u001b[0m\n\u001b[1;32m    396\u001b[0m         \u001b[0;32mif\u001b[0m \u001b[0mself\u001b[0m\u001b[0;34m.\u001b[0m\u001b[0mn_outputs_\u001b[0m \u001b[0;34m==\u001b[0m \u001b[0;36m1\u001b[0m \u001b[0;32mand\u001b[0m \u001b[0mis_classifier\u001b[0m\u001b[0;34m(\u001b[0m\u001b[0mself\u001b[0m\u001b[0;34m)\u001b[0m\u001b[0;34m:\u001b[0m\u001b[0;34m\u001b[0m\u001b[0;34m\u001b[0m\u001b[0m\n",
      "\u001b[0;31mKeyboardInterrupt\u001b[0m: "
     ]
    }
   ],
   "source": [
    "#The fit method of KNN class is called to train the algorithm on the training data, \n",
    "#which is passed as a parameter to the fit method\n",
    "from sklearn.ensemble import RandomForestClassifier\n",
    "rfc = RandomForestClassifier()\n",
    "rfc.fit(Xcv_train, y_train)"
   ]
  },
  {
   "cell_type": "code",
   "execution_count": null,
   "id": "62914014",
   "metadata": {},
   "outputs": [],
   "source": [
    "y_pred = rfc.predict(Xcv_test) "
   ]
  },
  {
   "cell_type": "code",
   "execution_count": null,
   "id": "17e48a59",
   "metadata": {},
   "outputs": [],
   "source": [
    "from sklearn.metrics import classification_report, confusion_matrix\n",
    "print(confusion_matrix(y_test,y_pred))\n",
    "print(classification_report(y_test,y_pred))"
   ]
  },
  {
   "cell_type": "code",
   "execution_count": null,
   "id": "38b6c69d",
   "metadata": {},
   "outputs": [],
   "source": []
  },
  {
   "cell_type": "code",
   "execution_count": 520,
   "id": "3ee2acc6",
   "metadata": {},
   "outputs": [],
   "source": [
    "# imports\n",
    "import pandas as pd\n",
    "import matplotlib.pyplot as plt\n",
    "from sklearn.model_selection import train_test_split, GridSearchCV\n",
    "from sklearn.pipeline import Pipeline\n",
    "from sklearn.naive_bayes import MultinomialNB\n",
    "from sklearn.linear_model import LogisticRegression\n",
    "from sklearn.metrics import confusion_matrix, plot_confusion_matrix\n",
    "\n",
    "# Import CountVectorizer and TFIDFVectorizer from feature_extraction.text.\n",
    "from sklearn.feature_extraction.text import CountVectorizer, TfidfVectorizer"
   ]
  },
  {
   "cell_type": "code",
   "execution_count": 521,
   "id": "dcfda467",
   "metadata": {},
   "outputs": [],
   "source": [
    "# Let's set a pipeline up with two stages:\n",
    "# 1. CountVectorizer (transformer)\n",
    "# 2. Multinomial Naive Bayes (estimator)\n",
    "\n",
    "pipe = Pipeline([\n",
    "    ('cvec', CountVectorizer()),\n",
    "    ('mnb', MultinomialNB())\n",
    "])"
   ]
  },
  {
   "cell_type": "code",
   "execution_count": 522,
   "id": "832e3460",
   "metadata": {},
   "outputs": [],
   "source": [
    "# Search over the following values of hyperparameters:\n",
    "# Maximum number of features fit: 2000, 3000, 4000, 5000\n",
    "# Minimum number of documents needed to include token: 2, 3\n",
    "# Maximum number of documents needed to include token: 90%, 95%\n",
    "# Check (individual tokens) and also check (individual tokens and 2-grams).\n",
    "\n",
    "pipe_params = {\n",
    "    'cvec__max_features': [3, 5, 10],\n",
    "#     'cvec__min_df': [2, 3],\n",
    "#     'cvec__max_df': [.9, .95],\n",
    "#     'cvec__ngram_range': [(1,1), (1,2)]\n",
    "}"
   ]
  },
  {
   "cell_type": "code",
   "execution_count": 523,
   "id": "2dea690c",
   "metadata": {},
   "outputs": [],
   "source": [
    "# Instantiate GridSearchCV.\n",
    "\n",
    "gs = GridSearchCV(pipe, # what object are we optimizing?\n",
    "                  pipe_params, # what parameters values are we searching?\n",
    "                cv =5) # 5-fold cross-validation."
   ]
  },
  {
   "cell_type": "code",
   "execution_count": 524,
   "id": "70d7b85b",
   "metadata": {},
   "outputs": [
    {
     "data": {
      "text/plain": [
       "GridSearchCV(cv=5,\n",
       "             estimator=Pipeline(steps=[('cvec', CountVectorizer()),\n",
       "                                       ('mnb', MultinomialNB())]),\n",
       "             param_grid={'cvec__max_features': [3, 5, 10]})"
      ]
     },
     "execution_count": 524,
     "metadata": {},
     "output_type": "execute_result"
    }
   ],
   "source": [
    "# Fit GridSearch to training data.\n",
    "# Fit GridSearch to training data.\n",
    "gs.fit(X_train, y_train )"
   ]
  },
  {
   "cell_type": "code",
   "execution_count": 525,
   "id": "314e1d33",
   "metadata": {},
   "outputs": [
    {
     "data": {
      "text/plain": [
       "{'cvec__max_features': 3}"
      ]
     },
     "execution_count": 525,
     "metadata": {},
     "output_type": "execute_result"
    }
   ],
   "source": [
    "# What's the best score?\n",
    "\n",
    "gs.best_params_"
   ]
  },
  {
   "cell_type": "code",
   "execution_count": 526,
   "id": "a8e1c6ea",
   "metadata": {},
   "outputs": [
    {
     "data": {
      "text/plain": [
       "(0.2737854310245324, 0.2737853858775288)"
      ]
     },
     "execution_count": 526,
     "metadata": {},
     "output_type": "execute_result"
    }
   ],
   "source": [
    "# Score model on training set.\n",
    "\n",
    "gs.score(X_train, y_train) , gs.score(X_test, y_test)"
   ]
  },
  {
   "cell_type": "code",
   "execution_count": null,
   "id": "5e1bc861",
   "metadata": {},
   "outputs": [],
   "source": []
  },
  {
   "cell_type": "code",
   "execution_count": null,
   "id": "fe668a23",
   "metadata": {},
   "outputs": [],
   "source": []
  },
  {
   "cell_type": "code",
   "execution_count": null,
   "id": "3e26a405",
   "metadata": {},
   "outputs": [],
   "source": []
  },
  {
   "cell_type": "code",
   "execution_count": null,
   "id": "a246b067",
   "metadata": {},
   "outputs": [],
   "source": []
  },
  {
   "cell_type": "code",
   "execution_count": null,
   "id": "9d56bb7f",
   "metadata": {},
   "outputs": [],
   "source": []
  }
 ],
 "metadata": {
  "kernelspec": {
   "display_name": "Python 3",
   "language": "python",
   "name": "python3"
  },
  "language_info": {
   "codemirror_mode": {
    "name": "ipython",
    "version": 3
   },
   "file_extension": ".py",
   "mimetype": "text/x-python",
   "name": "python",
   "nbconvert_exporter": "python",
   "pygments_lexer": "ipython3",
   "version": "3.9.5"
  }
 },
 "nbformat": 4,
 "nbformat_minor": 5
}
